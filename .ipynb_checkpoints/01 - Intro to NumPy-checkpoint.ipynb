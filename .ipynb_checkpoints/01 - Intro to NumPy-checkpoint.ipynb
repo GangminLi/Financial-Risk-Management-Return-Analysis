{
 "cells": [
  {
   "cell_type": "markdown",
   "metadata": {},
   "source": [
    "# Tutorial 1 - Portfolio and Risk Using Pandas and NumPy\n",
    "\n",
    "- Pandas Datareader\n",
    "- Pandas\n",
    "- Numpy\n",
    "- Portfolio and return"
   ]
  },
  {
   "cell_type": "markdown",
   "metadata": {},
   "source": [
    "### Resources\n",
    "- Pandas Datareader\n",
    "https://pandas-datareader.readthedocs.io/ (https://youtu.be/sgndYho8RyI)\n",
    "- Pandas https://pandas.pydata.org (https://youtu.be/m8ahf_c9hEc)\n",
    "- NumPy http://numpy.org (Focus here)"
   ]
  },
  {
   "cell_type": "markdown",
   "metadata": {},
   "source": [
    "### Pandas Datareader & Pandas DataFrame"
   ]
  },
  {
   "cell_type": "code",
   "execution_count": 54,
   "metadata": {},
   "outputs": [],
   "source": [
    "#pip install pandas-datareader"
   ]
  },
  {
   "cell_type": "code",
   "execution_count": 3,
   "metadata": {},
   "outputs": [],
   "source": [
    "import numpy as np\n",
    "import pandas_datareader as pdr\n",
    "import datetime as dt\n",
    "import pandas as pd"
   ]
  },
  {
   "cell_type": "markdown",
   "metadata": {},
   "source": [
    "### DataFrame"
   ]
  },
  {
   "cell_type": "code",
   "execution_count": 4,
   "metadata": {},
   "outputs": [],
   "source": [
    "start = dt.datetime(2020, 1, 1)\n",
    "data = pdr.get_data_yahoo(\"AAPL\", start)"
   ]
  },
  {
   "cell_type": "code",
   "execution_count": 5,
   "metadata": {},
   "outputs": [
    {
     "data": {
      "text/html": [
       "<div>\n",
       "<style scoped>\n",
       "    .dataframe tbody tr th:only-of-type {\n",
       "        vertical-align: middle;\n",
       "    }\n",
       "\n",
       "    .dataframe tbody tr th {\n",
       "        vertical-align: top;\n",
       "    }\n",
       "\n",
       "    .dataframe thead th {\n",
       "        text-align: right;\n",
       "    }\n",
       "</style>\n",
       "<table border=\"1\" class=\"dataframe\">\n",
       "  <thead>\n",
       "    <tr style=\"text-align: right;\">\n",
       "      <th></th>\n",
       "      <th>High</th>\n",
       "      <th>Low</th>\n",
       "      <th>Open</th>\n",
       "      <th>Close</th>\n",
       "      <th>Volume</th>\n",
       "      <th>Adj Close</th>\n",
       "    </tr>\n",
       "    <tr>\n",
       "      <th>Date</th>\n",
       "      <th></th>\n",
       "      <th></th>\n",
       "      <th></th>\n",
       "      <th></th>\n",
       "      <th></th>\n",
       "      <th></th>\n",
       "    </tr>\n",
       "  </thead>\n",
       "  <tbody>\n",
       "    <tr>\n",
       "      <th>2020-01-02</th>\n",
       "      <td>75.150002</td>\n",
       "      <td>73.797501</td>\n",
       "      <td>74.059998</td>\n",
       "      <td>75.087502</td>\n",
       "      <td>135480400.0</td>\n",
       "      <td>73.894333</td>\n",
       "    </tr>\n",
       "    <tr>\n",
       "      <th>2020-01-03</th>\n",
       "      <td>75.144997</td>\n",
       "      <td>74.125000</td>\n",
       "      <td>74.287498</td>\n",
       "      <td>74.357498</td>\n",
       "      <td>146322800.0</td>\n",
       "      <td>73.175934</td>\n",
       "    </tr>\n",
       "    <tr>\n",
       "      <th>2020-01-06</th>\n",
       "      <td>74.989998</td>\n",
       "      <td>73.187500</td>\n",
       "      <td>73.447502</td>\n",
       "      <td>74.949997</td>\n",
       "      <td>118387200.0</td>\n",
       "      <td>73.759003</td>\n",
       "    </tr>\n",
       "    <tr>\n",
       "      <th>2020-01-07</th>\n",
       "      <td>75.224998</td>\n",
       "      <td>74.370003</td>\n",
       "      <td>74.959999</td>\n",
       "      <td>74.597504</td>\n",
       "      <td>108872000.0</td>\n",
       "      <td>73.412109</td>\n",
       "    </tr>\n",
       "    <tr>\n",
       "      <th>2020-01-08</th>\n",
       "      <td>76.110001</td>\n",
       "      <td>74.290001</td>\n",
       "      <td>74.290001</td>\n",
       "      <td>75.797501</td>\n",
       "      <td>132079200.0</td>\n",
       "      <td>74.593040</td>\n",
       "    </tr>\n",
       "  </tbody>\n",
       "</table>\n",
       "</div>"
      ],
      "text/plain": [
       "                 High        Low       Open      Close       Volume  Adj Close\n",
       "Date                                                                          \n",
       "2020-01-02  75.150002  73.797501  74.059998  75.087502  135480400.0  73.894333\n",
       "2020-01-03  75.144997  74.125000  74.287498  74.357498  146322800.0  73.175934\n",
       "2020-01-06  74.989998  73.187500  73.447502  74.949997  118387200.0  73.759003\n",
       "2020-01-07  75.224998  74.370003  74.959999  74.597504  108872000.0  73.412109\n",
       "2020-01-08  76.110001  74.290001  74.290001  75.797501  132079200.0  74.593040"
      ]
     },
     "execution_count": 5,
     "metadata": {},
     "output_type": "execute_result"
    }
   ],
   "source": [
    "data.head()"
   ]
  },
  {
   "cell_type": "code",
   "execution_count": 6,
   "metadata": {},
   "outputs": [
    {
     "data": {
      "text/plain": [
       "DatetimeIndex(['2020-01-02', '2020-01-03', '2020-01-06', '2020-01-07',\n",
       "               '2020-01-08', '2020-01-09', '2020-01-10', '2020-01-13',\n",
       "               '2020-01-14', '2020-01-15',\n",
       "               ...\n",
       "               '2022-02-11', '2022-02-14', '2022-02-15', '2022-02-16',\n",
       "               '2022-02-17', '2022-02-18', '2022-02-22', '2022-02-23',\n",
       "               '2022-02-24', '2022-02-25'],\n",
       "              dtype='datetime64[ns]', name='Date', length=543, freq=None)"
      ]
     },
     "execution_count": 6,
     "metadata": {},
     "output_type": "execute_result"
    }
   ],
   "source": [
    "data.index"
   ]
  },
  {
   "cell_type": "code",
   "execution_count": 7,
   "metadata": {},
   "outputs": [
    {
     "data": {
      "text/plain": [
       "High         float64\n",
       "Low          float64\n",
       "Open         float64\n",
       "Close        float64\n",
       "Volume       float64\n",
       "Adj Close    float64\n",
       "dtype: object"
      ]
     },
     "execution_count": 7,
     "metadata": {},
     "output_type": "execute_result"
    }
   ],
   "source": [
    "data.dtypes"
   ]
  },
  {
   "cell_type": "code",
   "execution_count": 8,
   "metadata": {},
   "outputs": [
    {
     "data": {
      "text/plain": [
       "pandas.core.frame.DataFrame"
      ]
     },
     "execution_count": 8,
     "metadata": {},
     "output_type": "execute_result"
    }
   ],
   "source": [
    "type(data)"
   ]
  },
  {
   "cell_type": "markdown",
   "metadata": {},
   "source": [
    "### NumPy"
   ]
  },
  {
   "cell_type": "code",
   "execution_count": 9,
   "metadata": {},
   "outputs": [
    {
     "data": {
      "text/plain": [
       "array([[7.51500015e+01, 7.37975006e+01, 7.40599976e+01, 7.50875015e+01,\n",
       "        1.35480400e+08, 7.38943329e+01],\n",
       "       [7.51449966e+01, 7.41250000e+01, 7.42874985e+01, 7.43574982e+01,\n",
       "        1.46322800e+08, 7.31759338e+01],\n",
       "       [7.49899979e+01, 7.31875000e+01, 7.34475021e+01, 7.49499969e+01,\n",
       "        1.18387200e+08, 7.37590027e+01],\n",
       "       ...,\n",
       "       [1.66149994e+02, 1.59750000e+02, 1.65539993e+02, 1.60070007e+02,\n",
       "        9.00092000e+07, 1.60070007e+02],\n",
       "       [1.62850006e+02, 1.52000000e+02, 1.52580002e+02, 1.62740005e+02,\n",
       "        1.41147500e+08, 1.62740005e+02],\n",
       "       [1.65119995e+02, 1.60869995e+02, 1.63839996e+02, 1.64850006e+02,\n",
       "        9.18817000e+07, 1.64850006e+02]])"
      ]
     },
     "execution_count": 9,
     "metadata": {},
     "output_type": "execute_result"
    }
   ],
   "source": [
    "data.to_numpy()"
   ]
  },
  {
   "cell_type": "code",
   "execution_count": 10,
   "metadata": {},
   "outputs": [],
   "source": [
    "arr = data.to_numpy()"
   ]
  },
  {
   "cell_type": "code",
   "execution_count": 11,
   "metadata": {},
   "outputs": [
    {
     "data": {
      "text/plain": [
       "(543, 6)"
      ]
     },
     "execution_count": 11,
     "metadata": {},
     "output_type": "execute_result"
    }
   ],
   "source": [
    "arr.shape"
   ]
  },
  {
   "cell_type": "code",
   "execution_count": 12,
   "metadata": {},
   "outputs": [
    {
     "data": {
      "text/plain": [
       "543"
      ]
     },
     "execution_count": 12,
     "metadata": {},
     "output_type": "execute_result"
    }
   ],
   "source": [
    "len(data)"
   ]
  },
  {
   "cell_type": "code",
   "execution_count": 13,
   "metadata": {},
   "outputs": [
    {
     "data": {
      "text/plain": [
       "array([7.51500015e+01, 7.37975006e+01, 7.40599976e+01, 7.50875015e+01,\n",
       "       1.35480400e+08, 7.38943329e+01])"
      ]
     },
     "execution_count": 13,
     "metadata": {},
     "output_type": "execute_result"
    }
   ],
   "source": [
    "arr[0]"
   ]
  },
  {
   "cell_type": "code",
   "execution_count": 14,
   "metadata": {},
   "outputs": [
    {
     "data": {
      "text/html": [
       "<div>\n",
       "<style scoped>\n",
       "    .dataframe tbody tr th:only-of-type {\n",
       "        vertical-align: middle;\n",
       "    }\n",
       "\n",
       "    .dataframe tbody tr th {\n",
       "        vertical-align: top;\n",
       "    }\n",
       "\n",
       "    .dataframe thead th {\n",
       "        text-align: right;\n",
       "    }\n",
       "</style>\n",
       "<table border=\"1\" class=\"dataframe\">\n",
       "  <thead>\n",
       "    <tr style=\"text-align: right;\">\n",
       "      <th></th>\n",
       "      <th>High</th>\n",
       "      <th>Low</th>\n",
       "      <th>Open</th>\n",
       "      <th>Close</th>\n",
       "      <th>Volume</th>\n",
       "      <th>Adj Close</th>\n",
       "    </tr>\n",
       "    <tr>\n",
       "      <th>Date</th>\n",
       "      <th></th>\n",
       "      <th></th>\n",
       "      <th></th>\n",
       "      <th></th>\n",
       "      <th></th>\n",
       "      <th></th>\n",
       "    </tr>\n",
       "  </thead>\n",
       "  <tbody>\n",
       "    <tr>\n",
       "      <th>2020-01-02</th>\n",
       "      <td>75.150002</td>\n",
       "      <td>73.797501</td>\n",
       "      <td>74.059998</td>\n",
       "      <td>75.087502</td>\n",
       "      <td>135480400.0</td>\n",
       "      <td>73.894333</td>\n",
       "    </tr>\n",
       "  </tbody>\n",
       "</table>\n",
       "</div>"
      ],
      "text/plain": [
       "                 High        Low       Open      Close       Volume  Adj Close\n",
       "Date                                                                          \n",
       "2020-01-02  75.150002  73.797501  74.059998  75.087502  135480400.0  73.894333"
      ]
     },
     "execution_count": 14,
     "metadata": {},
     "output_type": "execute_result"
    }
   ],
   "source": [
    "data.head(1)"
   ]
  },
  {
   "cell_type": "code",
   "execution_count": 15,
   "metadata": {},
   "outputs": [
    {
     "data": {
      "text/plain": [
       "dtype('float64')"
      ]
     },
     "execution_count": 15,
     "metadata": {},
     "output_type": "execute_result"
    }
   ],
   "source": [
    "arr.dtype"
   ]
  },
  {
   "cell_type": "code",
   "execution_count": 16,
   "metadata": {},
   "outputs": [],
   "source": [
    "small = arr[:10, 0].copy()"
   ]
  },
  {
   "cell_type": "code",
   "execution_count": 17,
   "metadata": {},
   "outputs": [
    {
     "data": {
      "text/plain": [
       "array([75.15000153, 75.14499664, 74.98999786, 75.22499847, 76.11000061,\n",
       "       77.60749817, 78.16750336, 79.26750183, 79.39250183, 78.875     ])"
      ]
     },
     "execution_count": 17,
     "metadata": {},
     "output_type": "execute_result"
    }
   ],
   "source": [
    "small"
   ]
  },
  {
   "cell_type": "code",
   "execution_count": 18,
   "metadata": {},
   "outputs": [
    {
     "data": {
      "text/html": [
       "<div>\n",
       "<style scoped>\n",
       "    .dataframe tbody tr th:only-of-type {\n",
       "        vertical-align: middle;\n",
       "    }\n",
       "\n",
       "    .dataframe tbody tr th {\n",
       "        vertical-align: top;\n",
       "    }\n",
       "\n",
       "    .dataframe thead th {\n",
       "        text-align: right;\n",
       "    }\n",
       "</style>\n",
       "<table border=\"1\" class=\"dataframe\">\n",
       "  <thead>\n",
       "    <tr style=\"text-align: right;\">\n",
       "      <th></th>\n",
       "      <th>High</th>\n",
       "      <th>Low</th>\n",
       "      <th>Open</th>\n",
       "      <th>Close</th>\n",
       "      <th>Volume</th>\n",
       "      <th>Adj Close</th>\n",
       "    </tr>\n",
       "    <tr>\n",
       "      <th>Date</th>\n",
       "      <th></th>\n",
       "      <th></th>\n",
       "      <th></th>\n",
       "      <th></th>\n",
       "      <th></th>\n",
       "      <th></th>\n",
       "    </tr>\n",
       "  </thead>\n",
       "  <tbody>\n",
       "    <tr>\n",
       "      <th>2020-01-02</th>\n",
       "      <td>75.150002</td>\n",
       "      <td>73.797501</td>\n",
       "      <td>74.059998</td>\n",
       "      <td>75.087502</td>\n",
       "      <td>135480400.0</td>\n",
       "      <td>73.894333</td>\n",
       "    </tr>\n",
       "    <tr>\n",
       "      <th>2020-01-03</th>\n",
       "      <td>75.144997</td>\n",
       "      <td>74.125000</td>\n",
       "      <td>74.287498</td>\n",
       "      <td>74.357498</td>\n",
       "      <td>146322800.0</td>\n",
       "      <td>73.175934</td>\n",
       "    </tr>\n",
       "    <tr>\n",
       "      <th>2020-01-06</th>\n",
       "      <td>74.989998</td>\n",
       "      <td>73.187500</td>\n",
       "      <td>73.447502</td>\n",
       "      <td>74.949997</td>\n",
       "      <td>118387200.0</td>\n",
       "      <td>73.759003</td>\n",
       "    </tr>\n",
       "    <tr>\n",
       "      <th>2020-01-07</th>\n",
       "      <td>75.224998</td>\n",
       "      <td>74.370003</td>\n",
       "      <td>74.959999</td>\n",
       "      <td>74.597504</td>\n",
       "      <td>108872000.0</td>\n",
       "      <td>73.412109</td>\n",
       "    </tr>\n",
       "    <tr>\n",
       "      <th>2020-01-08</th>\n",
       "      <td>76.110001</td>\n",
       "      <td>74.290001</td>\n",
       "      <td>74.290001</td>\n",
       "      <td>75.797501</td>\n",
       "      <td>132079200.0</td>\n",
       "      <td>74.593040</td>\n",
       "    </tr>\n",
       "  </tbody>\n",
       "</table>\n",
       "</div>"
      ],
      "text/plain": [
       "                 High        Low       Open      Close       Volume  Adj Close\n",
       "Date                                                                          \n",
       "2020-01-02  75.150002  73.797501  74.059998  75.087502  135480400.0  73.894333\n",
       "2020-01-03  75.144997  74.125000  74.287498  74.357498  146322800.0  73.175934\n",
       "2020-01-06  74.989998  73.187500  73.447502  74.949997  118387200.0  73.759003\n",
       "2020-01-07  75.224998  74.370003  74.959999  74.597504  108872000.0  73.412109\n",
       "2020-01-08  76.110001  74.290001  74.290001  75.797501  132079200.0  74.593040"
      ]
     },
     "execution_count": 18,
     "metadata": {},
     "output_type": "execute_result"
    }
   ],
   "source": [
    "data.head()"
   ]
  },
  {
   "cell_type": "code",
   "execution_count": 19,
   "metadata": {},
   "outputs": [
    {
     "data": {
      "text/plain": [
       "79.39250183105469"
      ]
     },
     "execution_count": 19,
     "metadata": {},
     "output_type": "execute_result"
    }
   ],
   "source": [
    "np.max(small)"
   ]
  },
  {
   "cell_type": "code",
   "execution_count": 20,
   "metadata": {},
   "outputs": [
    {
     "data": {
      "text/plain": [
       "79.39250183105469"
      ]
     },
     "execution_count": 20,
     "metadata": {},
     "output_type": "execute_result"
    }
   ],
   "source": [
    "small.max()"
   ]
  },
  {
   "cell_type": "code",
   "execution_count": 21,
   "metadata": {},
   "outputs": [
    {
     "data": {
      "text/plain": [
       "8"
      ]
     },
     "execution_count": 21,
     "metadata": {},
     "output_type": "execute_result"
    }
   ],
   "source": [
    "small.argmax()"
   ]
  },
  {
   "cell_type": "code",
   "execution_count": 22,
   "metadata": {},
   "outputs": [
    {
     "data": {
      "text/plain": [
       "array([75.15000153, 75.14499664, 74.98999786, 75.22499847, 76.11000061,\n",
       "       77.60749817, 78.16750336, 79.26750183, 79.39250183, 78.875     ])"
      ]
     },
     "execution_count": 22,
     "metadata": {},
     "output_type": "execute_result"
    }
   ],
   "source": [
    "small"
   ]
  },
  {
   "cell_type": "code",
   "execution_count": 23,
   "metadata": {},
   "outputs": [
    {
     "data": {
      "text/plain": [
       "79.39250183105469"
      ]
     },
     "execution_count": 23,
     "metadata": {},
     "output_type": "execute_result"
    }
   ],
   "source": [
    "small[small.argmax()]"
   ]
  },
  {
   "cell_type": "code",
   "execution_count": 24,
   "metadata": {},
   "outputs": [
    {
     "data": {
      "text/plain": [
       "array([4.31948614, 4.31941954, 4.31735474, 4.3204836 , 4.33217967,\n",
       "       4.35166405, 4.358854  , 4.37282823, 4.37440393, 4.36786432])"
      ]
     },
     "execution_count": 24,
     "metadata": {},
     "output_type": "execute_result"
    }
   ],
   "source": [
    "np.log(small)"
   ]
  },
  {
   "cell_type": "code",
   "execution_count": 25,
   "metadata": {},
   "outputs": [
    {
     "data": {
      "text/html": [
       "<div>\n",
       "<style scoped>\n",
       "    .dataframe tbody tr th:only-of-type {\n",
       "        vertical-align: middle;\n",
       "    }\n",
       "\n",
       "    .dataframe tbody tr th {\n",
       "        vertical-align: top;\n",
       "    }\n",
       "\n",
       "    .dataframe thead th {\n",
       "        text-align: right;\n",
       "    }\n",
       "</style>\n",
       "<table border=\"1\" class=\"dataframe\">\n",
       "  <thead>\n",
       "    <tr style=\"text-align: right;\">\n",
       "      <th></th>\n",
       "      <th>High</th>\n",
       "      <th>Low</th>\n",
       "      <th>Open</th>\n",
       "      <th>Close</th>\n",
       "      <th>Volume</th>\n",
       "      <th>Adj Close</th>\n",
       "    </tr>\n",
       "    <tr>\n",
       "      <th>Date</th>\n",
       "      <th></th>\n",
       "      <th></th>\n",
       "      <th></th>\n",
       "      <th></th>\n",
       "      <th></th>\n",
       "      <th></th>\n",
       "    </tr>\n",
       "  </thead>\n",
       "  <tbody>\n",
       "    <tr>\n",
       "      <th>2020-01-02</th>\n",
       "      <td>4.319486</td>\n",
       "      <td>4.301325</td>\n",
       "      <td>4.304876</td>\n",
       "      <td>4.318654</td>\n",
       "      <td>18.724338</td>\n",
       "      <td>4.302636</td>\n",
       "    </tr>\n",
       "    <tr>\n",
       "      <th>2020-01-03</th>\n",
       "      <td>4.319420</td>\n",
       "      <td>4.305753</td>\n",
       "      <td>4.307943</td>\n",
       "      <td>4.308885</td>\n",
       "      <td>18.801326</td>\n",
       "      <td>4.292867</td>\n",
       "    </tr>\n",
       "    <tr>\n",
       "      <th>2020-01-06</th>\n",
       "      <td>4.317355</td>\n",
       "      <td>4.293025</td>\n",
       "      <td>4.296571</td>\n",
       "      <td>4.316821</td>\n",
       "      <td>18.589471</td>\n",
       "      <td>4.300803</td>\n",
       "    </tr>\n",
       "    <tr>\n",
       "      <th>2020-01-07</th>\n",
       "      <td>4.320484</td>\n",
       "      <td>4.309053</td>\n",
       "      <td>4.316955</td>\n",
       "      <td>4.312107</td>\n",
       "      <td>18.505683</td>\n",
       "      <td>4.296089</td>\n",
       "    </tr>\n",
       "    <tr>\n",
       "      <th>2020-01-08</th>\n",
       "      <td>4.332180</td>\n",
       "      <td>4.307976</td>\n",
       "      <td>4.307976</td>\n",
       "      <td>4.328065</td>\n",
       "      <td>18.698912</td>\n",
       "      <td>4.312047</td>\n",
       "    </tr>\n",
       "    <tr>\n",
       "      <th>...</th>\n",
       "      <td>...</td>\n",
       "      <td>...</td>\n",
       "      <td>...</td>\n",
       "      <td>...</td>\n",
       "      <td>...</td>\n",
       "      <td>...</td>\n",
       "    </tr>\n",
       "    <tr>\n",
       "      <th>2022-02-18</th>\n",
       "      <td>5.138970</td>\n",
       "      <td>5.113132</td>\n",
       "      <td>5.134739</td>\n",
       "      <td>5.119789</td>\n",
       "      <td>18.229692</td>\n",
       "      <td>5.119789</td>\n",
       "    </tr>\n",
       "    <tr>\n",
       "      <th>2022-02-22</th>\n",
       "      <td>5.116136</td>\n",
       "      <td>5.088522</td>\n",
       "      <td>5.105824</td>\n",
       "      <td>5.101816</td>\n",
       "      <td>18.328157</td>\n",
       "      <td>5.101816</td>\n",
       "    </tr>\n",
       "    <tr>\n",
       "      <th>2022-02-23</th>\n",
       "      <td>5.112891</td>\n",
       "      <td>5.073610</td>\n",
       "      <td>5.109213</td>\n",
       "      <td>5.075611</td>\n",
       "      <td>18.315422</td>\n",
       "      <td>5.075611</td>\n",
       "    </tr>\n",
       "    <tr>\n",
       "      <th>2022-02-24</th>\n",
       "      <td>5.092830</td>\n",
       "      <td>5.023881</td>\n",
       "      <td>5.027689</td>\n",
       "      <td>5.092154</td>\n",
       "      <td>18.765316</td>\n",
       "      <td>5.092154</td>\n",
       "    </tr>\n",
       "    <tr>\n",
       "      <th>2022-02-25</th>\n",
       "      <td>5.106672</td>\n",
       "      <td>5.080597</td>\n",
       "      <td>5.098890</td>\n",
       "      <td>5.105036</td>\n",
       "      <td>18.336012</td>\n",
       "      <td>5.105036</td>\n",
       "    </tr>\n",
       "  </tbody>\n",
       "</table>\n",
       "<p>543 rows × 6 columns</p>\n",
       "</div>"
      ],
      "text/plain": [
       "                High       Low      Open     Close     Volume  Adj Close\n",
       "Date                                                                    \n",
       "2020-01-02  4.319486  4.301325  4.304876  4.318654  18.724338   4.302636\n",
       "2020-01-03  4.319420  4.305753  4.307943  4.308885  18.801326   4.292867\n",
       "2020-01-06  4.317355  4.293025  4.296571  4.316821  18.589471   4.300803\n",
       "2020-01-07  4.320484  4.309053  4.316955  4.312107  18.505683   4.296089\n",
       "2020-01-08  4.332180  4.307976  4.307976  4.328065  18.698912   4.312047\n",
       "...              ...       ...       ...       ...        ...        ...\n",
       "2022-02-18  5.138970  5.113132  5.134739  5.119789  18.229692   5.119789\n",
       "2022-02-22  5.116136  5.088522  5.105824  5.101816  18.328157   5.101816\n",
       "2022-02-23  5.112891  5.073610  5.109213  5.075611  18.315422   5.075611\n",
       "2022-02-24  5.092830  5.023881  5.027689  5.092154  18.765316   5.092154\n",
       "2022-02-25  5.106672  5.080597  5.098890  5.105036  18.336012   5.105036\n",
       "\n",
       "[543 rows x 6 columns]"
      ]
     },
     "execution_count": 25,
     "metadata": {},
     "output_type": "execute_result"
    }
   ],
   "source": [
    "np.log(data)"
   ]
  },
  {
   "cell_type": "code",
   "execution_count": 26,
   "metadata": {},
   "outputs": [
    {
     "data": {
      "text/html": [
       "<div>\n",
       "<style scoped>\n",
       "    .dataframe tbody tr th:only-of-type {\n",
       "        vertical-align: middle;\n",
       "    }\n",
       "\n",
       "    .dataframe tbody tr th {\n",
       "        vertical-align: top;\n",
       "    }\n",
       "\n",
       "    .dataframe thead th {\n",
       "        text-align: right;\n",
       "    }\n",
       "</style>\n",
       "<table border=\"1\" class=\"dataframe\">\n",
       "  <thead>\n",
       "    <tr style=\"text-align: right;\">\n",
       "      <th></th>\n",
       "      <th>High</th>\n",
       "      <th>Low</th>\n",
       "      <th>Open</th>\n",
       "      <th>Close</th>\n",
       "      <th>Volume</th>\n",
       "      <th>Adj Close</th>\n",
       "    </tr>\n",
       "    <tr>\n",
       "      <th>Date</th>\n",
       "      <th></th>\n",
       "      <th></th>\n",
       "      <th></th>\n",
       "      <th></th>\n",
       "      <th></th>\n",
       "      <th></th>\n",
       "    </tr>\n",
       "  </thead>\n",
       "  <tbody>\n",
       "    <tr>\n",
       "      <th>2020-01-02</th>\n",
       "      <td>NaN</td>\n",
       "      <td>NaN</td>\n",
       "      <td>NaN</td>\n",
       "      <td>NaN</td>\n",
       "      <td>NaN</td>\n",
       "      <td>NaN</td>\n",
       "    </tr>\n",
       "    <tr>\n",
       "      <th>2020-01-03</th>\n",
       "      <td>0.999933</td>\n",
       "      <td>1.004438</td>\n",
       "      <td>1.003072</td>\n",
       "      <td>0.990278</td>\n",
       "      <td>1.080029</td>\n",
       "      <td>0.990278</td>\n",
       "    </tr>\n",
       "    <tr>\n",
       "      <th>2020-01-06</th>\n",
       "      <td>0.997937</td>\n",
       "      <td>0.987352</td>\n",
       "      <td>0.988693</td>\n",
       "      <td>1.007968</td>\n",
       "      <td>0.809082</td>\n",
       "      <td>1.007968</td>\n",
       "    </tr>\n",
       "    <tr>\n",
       "      <th>2020-01-07</th>\n",
       "      <td>1.003134</td>\n",
       "      <td>1.016157</td>\n",
       "      <td>1.020593</td>\n",
       "      <td>0.995297</td>\n",
       "      <td>0.919626</td>\n",
       "      <td>0.995297</td>\n",
       "    </tr>\n",
       "    <tr>\n",
       "      <th>2020-01-08</th>\n",
       "      <td>1.011765</td>\n",
       "      <td>0.998924</td>\n",
       "      <td>0.991062</td>\n",
       "      <td>1.016086</td>\n",
       "      <td>1.213160</td>\n",
       "      <td>1.016086</td>\n",
       "    </tr>\n",
       "    <tr>\n",
       "      <th>...</th>\n",
       "      <td>...</td>\n",
       "      <td>...</td>\n",
       "      <td>...</td>\n",
       "      <td>...</td>\n",
       "      <td>...</td>\n",
       "      <td>...</td>\n",
       "    </tr>\n",
       "    <tr>\n",
       "      <th>2022-02-18</th>\n",
       "      <td>0.992031</td>\n",
       "      <td>0.986466</td>\n",
       "      <td>0.992925</td>\n",
       "      <td>0.990644</td>\n",
       "      <td>1.187168</td>\n",
       "      <td>0.990644</td>\n",
       "    </tr>\n",
       "    <tr>\n",
       "      <th>2022-02-22</th>\n",
       "      <td>0.977425</td>\n",
       "      <td>0.975690</td>\n",
       "      <td>0.971499</td>\n",
       "      <td>0.982188</td>\n",
       "      <td>1.103476</td>\n",
       "      <td>0.982188</td>\n",
       "    </tr>\n",
       "    <tr>\n",
       "      <th>2022-02-23</th>\n",
       "      <td>0.996760</td>\n",
       "      <td>0.985199</td>\n",
       "      <td>1.003394</td>\n",
       "      <td>0.974136</td>\n",
       "      <td>0.987346</td>\n",
       "      <td>0.974136</td>\n",
       "    </tr>\n",
       "    <tr>\n",
       "      <th>2022-02-24</th>\n",
       "      <td>0.980139</td>\n",
       "      <td>0.951487</td>\n",
       "      <td>0.921711</td>\n",
       "      <td>1.016680</td>\n",
       "      <td>1.568145</td>\n",
       "      <td>1.016680</td>\n",
       "    </tr>\n",
       "    <tr>\n",
       "      <th>2022-02-25</th>\n",
       "      <td>1.013939</td>\n",
       "      <td>1.058355</td>\n",
       "      <td>1.073797</td>\n",
       "      <td>1.012965</td>\n",
       "      <td>0.650962</td>\n",
       "      <td>1.012965</td>\n",
       "    </tr>\n",
       "  </tbody>\n",
       "</table>\n",
       "<p>543 rows × 6 columns</p>\n",
       "</div>"
      ],
      "text/plain": [
       "                High       Low      Open     Close    Volume  Adj Close\n",
       "Date                                                                   \n",
       "2020-01-02       NaN       NaN       NaN       NaN       NaN        NaN\n",
       "2020-01-03  0.999933  1.004438  1.003072  0.990278  1.080029   0.990278\n",
       "2020-01-06  0.997937  0.987352  0.988693  1.007968  0.809082   1.007968\n",
       "2020-01-07  1.003134  1.016157  1.020593  0.995297  0.919626   0.995297\n",
       "2020-01-08  1.011765  0.998924  0.991062  1.016086  1.213160   1.016086\n",
       "...              ...       ...       ...       ...       ...        ...\n",
       "2022-02-18  0.992031  0.986466  0.992925  0.990644  1.187168   0.990644\n",
       "2022-02-22  0.977425  0.975690  0.971499  0.982188  1.103476   0.982188\n",
       "2022-02-23  0.996760  0.985199  1.003394  0.974136  0.987346   0.974136\n",
       "2022-02-24  0.980139  0.951487  0.921711  1.016680  1.568145   1.016680\n",
       "2022-02-25  1.013939  1.058355  1.073797  1.012965  0.650962   1.012965\n",
       "\n",
       "[543 rows x 6 columns]"
      ]
     },
     "execution_count": 26,
     "metadata": {},
     "output_type": "execute_result"
    }
   ],
   "source": [
    "data/data.shift()"
   ]
  },
  {
   "cell_type": "code",
   "execution_count": 27,
   "metadata": {},
   "outputs": [
    {
     "data": {
      "text/html": [
       "<div>\n",
       "<style scoped>\n",
       "    .dataframe tbody tr th:only-of-type {\n",
       "        vertical-align: middle;\n",
       "    }\n",
       "\n",
       "    .dataframe tbody tr th {\n",
       "        vertical-align: top;\n",
       "    }\n",
       "\n",
       "    .dataframe thead th {\n",
       "        text-align: right;\n",
       "    }\n",
       "</style>\n",
       "<table border=\"1\" class=\"dataframe\">\n",
       "  <thead>\n",
       "    <tr style=\"text-align: right;\">\n",
       "      <th></th>\n",
       "      <th>High</th>\n",
       "      <th>Low</th>\n",
       "      <th>Open</th>\n",
       "      <th>Close</th>\n",
       "      <th>Volume</th>\n",
       "      <th>Adj Close</th>\n",
       "    </tr>\n",
       "    <tr>\n",
       "      <th>Date</th>\n",
       "      <th></th>\n",
       "      <th></th>\n",
       "      <th></th>\n",
       "      <th></th>\n",
       "      <th></th>\n",
       "      <th></th>\n",
       "    </tr>\n",
       "  </thead>\n",
       "  <tbody>\n",
       "    <tr>\n",
       "      <th>2020-01-02</th>\n",
       "      <td>75.150002</td>\n",
       "      <td>73.797501</td>\n",
       "      <td>74.059998</td>\n",
       "      <td>75.087502</td>\n",
       "      <td>135480400.0</td>\n",
       "      <td>73.894333</td>\n",
       "    </tr>\n",
       "    <tr>\n",
       "      <th>2020-01-03</th>\n",
       "      <td>75.144997</td>\n",
       "      <td>74.125000</td>\n",
       "      <td>74.287498</td>\n",
       "      <td>74.357498</td>\n",
       "      <td>146322800.0</td>\n",
       "      <td>73.175934</td>\n",
       "    </tr>\n",
       "    <tr>\n",
       "      <th>2020-01-06</th>\n",
       "      <td>74.989998</td>\n",
       "      <td>73.187500</td>\n",
       "      <td>73.447502</td>\n",
       "      <td>74.949997</td>\n",
       "      <td>118387200.0</td>\n",
       "      <td>73.759003</td>\n",
       "    </tr>\n",
       "    <tr>\n",
       "      <th>2020-01-07</th>\n",
       "      <td>75.224998</td>\n",
       "      <td>74.370003</td>\n",
       "      <td>74.959999</td>\n",
       "      <td>74.597504</td>\n",
       "      <td>108872000.0</td>\n",
       "      <td>73.412109</td>\n",
       "    </tr>\n",
       "    <tr>\n",
       "      <th>2020-01-08</th>\n",
       "      <td>76.110001</td>\n",
       "      <td>74.290001</td>\n",
       "      <td>74.290001</td>\n",
       "      <td>75.797501</td>\n",
       "      <td>132079200.0</td>\n",
       "      <td>74.593040</td>\n",
       "    </tr>\n",
       "  </tbody>\n",
       "</table>\n",
       "</div>"
      ],
      "text/plain": [
       "                 High        Low       Open      Close       Volume  Adj Close\n",
       "Date                                                                          \n",
       "2020-01-02  75.150002  73.797501  74.059998  75.087502  135480400.0  73.894333\n",
       "2020-01-03  75.144997  74.125000  74.287498  74.357498  146322800.0  73.175934\n",
       "2020-01-06  74.989998  73.187500  73.447502  74.949997  118387200.0  73.759003\n",
       "2020-01-07  75.224998  74.370003  74.959999  74.597504  108872000.0  73.412109\n",
       "2020-01-08  76.110001  74.290001  74.290001  75.797501  132079200.0  74.593040"
      ]
     },
     "execution_count": 27,
     "metadata": {},
     "output_type": "execute_result"
    }
   ],
   "source": [
    "data.head()"
   ]
  },
  {
   "cell_type": "code",
   "execution_count": 28,
   "metadata": {},
   "outputs": [
    {
     "data": {
      "text/plain": [
       "0.9999333998687053"
      ]
     },
     "execution_count": 28,
     "metadata": {},
     "output_type": "execute_result"
    }
   ],
   "source": [
    "75.144997/75.150002"
   ]
  },
  {
   "cell_type": "code",
   "execution_count": 29,
   "metadata": {},
   "outputs": [
    {
     "data": {
      "text/plain": [
       "High         0.787186\n",
       "Low          0.779272\n",
       "Open         0.794015\n",
       "Close        0.786382\n",
       "Volume      -0.388325\n",
       "Adj Close    0.802400\n",
       "dtype: float64"
      ]
     },
     "execution_count": 29,
     "metadata": {},
     "output_type": "execute_result"
    }
   ],
   "source": [
    "np.sum(np.log(data/data.shift()))"
   ]
  },
  {
   "cell_type": "code",
   "execution_count": 30,
   "metadata": {},
   "outputs": [
    {
     "data": {
      "text/html": [
       "<div>\n",
       "<style scoped>\n",
       "    .dataframe tbody tr th:only-of-type {\n",
       "        vertical-align: middle;\n",
       "    }\n",
       "\n",
       "    .dataframe tbody tr th {\n",
       "        vertical-align: top;\n",
       "    }\n",
       "\n",
       "    .dataframe thead th {\n",
       "        text-align: right;\n",
       "    }\n",
       "</style>\n",
       "<table border=\"1\" class=\"dataframe\">\n",
       "  <thead>\n",
       "    <tr style=\"text-align: right;\">\n",
       "      <th></th>\n",
       "      <th>High</th>\n",
       "      <th>Low</th>\n",
       "      <th>Open</th>\n",
       "      <th>Close</th>\n",
       "      <th>Volume</th>\n",
       "      <th>Adj Close</th>\n",
       "    </tr>\n",
       "    <tr>\n",
       "      <th>Date</th>\n",
       "      <th></th>\n",
       "      <th></th>\n",
       "      <th></th>\n",
       "      <th></th>\n",
       "      <th></th>\n",
       "      <th></th>\n",
       "    </tr>\n",
       "  </thead>\n",
       "  <tbody>\n",
       "    <tr>\n",
       "      <th>2022-02-25</th>\n",
       "      <td>0.787186</td>\n",
       "      <td>0.779272</td>\n",
       "      <td>0.794015</td>\n",
       "      <td>0.786382</td>\n",
       "      <td>-0.388325</td>\n",
       "      <td>0.8024</td>\n",
       "    </tr>\n",
       "  </tbody>\n",
       "</table>\n",
       "</div>"
      ],
      "text/plain": [
       "                High       Low      Open     Close    Volume  Adj Close\n",
       "Date                                                                   \n",
       "2022-02-25  0.787186  0.779272  0.794015  0.786382 -0.388325     0.8024"
      ]
     },
     "execution_count": 30,
     "metadata": {},
     "output_type": "execute_result"
    }
   ],
   "source": [
    "np.log(data/data.iloc[0]).tail(1)"
   ]
  },
  {
   "cell_type": "markdown",
   "metadata": {},
   "source": [
    "Compare the tweo results above, explain the differences and what conclusion you have draw?"
   ]
  },
  {
   "cell_type": "code",
   "execution_count": null,
   "metadata": {},
   "outputs": [],
   "source": [
    "data/data.iloc[0]"
   ]
  },
  {
   "cell_type": "code",
   "execution_count": 53,
   "metadata": {},
   "outputs": [
    {
     "data": {
      "text/html": [
       "<div>\n",
       "<style scoped>\n",
       "    .dataframe tbody tr th:only-of-type {\n",
       "        vertical-align: middle;\n",
       "    }\n",
       "\n",
       "    .dataframe tbody tr th {\n",
       "        vertical-align: top;\n",
       "    }\n",
       "\n",
       "    .dataframe thead th {\n",
       "        text-align: right;\n",
       "    }\n",
       "</style>\n",
       "<table border=\"1\" class=\"dataframe\">\n",
       "  <thead>\n",
       "    <tr style=\"text-align: right;\">\n",
       "      <th>Symbols</th>\n",
       "      <th>AAPL</th>\n",
       "      <th>MSFT</th>\n",
       "      <th>TWTR</th>\n",
       "      <th>IBM</th>\n",
       "    </tr>\n",
       "    <tr>\n",
       "      <th>Date</th>\n",
       "      <th></th>\n",
       "      <th></th>\n",
       "      <th></th>\n",
       "      <th></th>\n",
       "    </tr>\n",
       "  </thead>\n",
       "  <tbody>\n",
       "    <tr>\n",
       "      <th>2020-01-02</th>\n",
       "      <td>0.000000</td>\n",
       "      <td>0.000000</td>\n",
       "      <td>0.000000</td>\n",
       "      <td>0.000000</td>\n",
       "    </tr>\n",
       "    <tr>\n",
       "      <th>2020-01-03</th>\n",
       "      <td>-0.009769</td>\n",
       "      <td>-0.012530</td>\n",
       "      <td>-0.024445</td>\n",
       "      <td>-0.008007</td>\n",
       "    </tr>\n",
       "    <tr>\n",
       "      <th>2020-01-06</th>\n",
       "      <td>-0.001833</td>\n",
       "      <td>-0.009948</td>\n",
       "      <td>-0.020645</td>\n",
       "      <td>-0.009795</td>\n",
       "    </tr>\n",
       "    <tr>\n",
       "      <th>2020-01-07</th>\n",
       "      <td>-0.006547</td>\n",
       "      <td>-0.019108</td>\n",
       "      <td>0.007403</td>\n",
       "      <td>-0.009124</td>\n",
       "    </tr>\n",
       "    <tr>\n",
       "      <th>2020-01-08</th>\n",
       "      <td>0.009411</td>\n",
       "      <td>-0.003305</td>\n",
       "      <td>0.022954</td>\n",
       "      <td>-0.000813</td>\n",
       "    </tr>\n",
       "    <tr>\n",
       "      <th>...</th>\n",
       "      <td>...</td>\n",
       "      <td>...</td>\n",
       "      <td>...</td>\n",
       "      <td>...</td>\n",
       "    </tr>\n",
       "    <tr>\n",
       "      <th>2022-02-18</th>\n",
       "      <td>0.817153</td>\n",
       "      <td>0.604627</td>\n",
       "      <td>0.060661</td>\n",
       "      <td>0.071870</td>\n",
       "    </tr>\n",
       "    <tr>\n",
       "      <th>2022-02-22</th>\n",
       "      <td>0.799180</td>\n",
       "      <td>0.603897</td>\n",
       "      <td>0.019317</td>\n",
       "      <td>0.068406</td>\n",
       "    </tr>\n",
       "    <tr>\n",
       "      <th>2022-02-23</th>\n",
       "      <td>0.772975</td>\n",
       "      <td>0.577663</td>\n",
       "      <td>0.014141</td>\n",
       "      <td>0.053364</td>\n",
       "    </tr>\n",
       "    <tr>\n",
       "      <th>2022-02-24</th>\n",
       "      <td>0.789518</td>\n",
       "      <td>0.627494</td>\n",
       "      <td>0.079709</td>\n",
       "      <td>0.052544</td>\n",
       "    </tr>\n",
       "    <tr>\n",
       "      <th>2022-02-25</th>\n",
       "      <td>0.802400</td>\n",
       "      <td>0.636685</td>\n",
       "      <td>0.088532</td>\n",
       "      <td>0.070501</td>\n",
       "    </tr>\n",
       "  </tbody>\n",
       "</table>\n",
       "<p>543 rows × 4 columns</p>\n",
       "</div>"
      ],
      "text/plain": [
       "Symbols         AAPL      MSFT      TWTR       IBM\n",
       "Date                                              \n",
       "2020-01-02  0.000000  0.000000  0.000000  0.000000\n",
       "2020-01-03 -0.009769 -0.012530 -0.024445 -0.008007\n",
       "2020-01-06 -0.001833 -0.009948 -0.020645 -0.009795\n",
       "2020-01-07 -0.006547 -0.019108  0.007403 -0.009124\n",
       "2020-01-08  0.009411 -0.003305  0.022954 -0.000813\n",
       "...              ...       ...       ...       ...\n",
       "2022-02-18  0.817153  0.604627  0.060661  0.071870\n",
       "2022-02-22  0.799180  0.603897  0.019317  0.068406\n",
       "2022-02-23  0.772975  0.577663  0.014141  0.053364\n",
       "2022-02-24  0.789518  0.627494  0.079709  0.052544\n",
       "2022-02-25  0.802400  0.636685  0.088532  0.070501\n",
       "\n",
       "[543 rows x 4 columns]"
      ]
     },
     "execution_count": 53,
     "metadata": {},
     "output_type": "execute_result"
    }
   ],
   "source": [
    "np.log(data/data.iloc[0])"
   ]
  },
  {
   "cell_type": "markdown",
   "metadata": {},
   "source": [
    "Familiar with shape function"
   ]
  },
  {
   "cell_type": "code",
   "execution_count": 36,
   "metadata": {},
   "outputs": [
    {
     "data": {
      "text/plain": [
       "(10,)"
      ]
     },
     "execution_count": 36,
     "metadata": {},
     "output_type": "execute_result"
    }
   ],
   "source": [
    "small.shape"
   ]
  },
  {
   "cell_type": "code",
   "execution_count": 37,
   "metadata": {},
   "outputs": [
    {
     "data": {
      "text/plain": [
       "array([75.15000153, 75.14499664, 74.98999786, 75.22499847, 76.11000061,\n",
       "       77.60749817, 78.16750336, 79.26750183, 79.39250183, 78.875     ])"
      ]
     },
     "execution_count": 37,
     "metadata": {},
     "output_type": "execute_result"
    }
   ],
   "source": [
    "small"
   ]
  },
  {
   "cell_type": "code",
   "execution_count": 38,
   "metadata": {},
   "outputs": [
    {
     "data": {
      "text/plain": [
       "array([[75.15000153, 75.14499664, 74.98999786, 75.22499847, 76.11000061],\n",
       "       [77.60749817, 78.16750336, 79.26750183, 79.39250183, 78.875     ]])"
      ]
     },
     "execution_count": 38,
     "metadata": {},
     "output_type": "execute_result"
    }
   ],
   "source": [
    "small.reshape(2, 5)"
   ]
  },
  {
   "cell_type": "code",
   "execution_count": 39,
   "metadata": {},
   "outputs": [
    {
     "data": {
      "text/plain": [
       "array([[75.15000153],\n",
       "       [75.14499664],\n",
       "       [74.98999786],\n",
       "       [75.22499847],\n",
       "       [76.11000061],\n",
       "       [77.60749817],\n",
       "       [78.16750336],\n",
       "       [79.26750183],\n",
       "       [79.39250183],\n",
       "       [78.875     ]])"
      ]
     },
     "execution_count": 39,
     "metadata": {},
     "output_type": "execute_result"
    }
   ],
   "source": [
    "small.reshape(10, 1)"
   ]
  },
  {
   "cell_type": "code",
   "execution_count": 40,
   "metadata": {},
   "outputs": [
    {
     "data": {
      "text/plain": [
       "array([[75.15000153],\n",
       "       [75.14499664],\n",
       "       [74.98999786],\n",
       "       [75.22499847],\n",
       "       [76.11000061],\n",
       "       [77.60749817],\n",
       "       [78.16750336],\n",
       "       [79.26750183],\n",
       "       [79.39250183],\n",
       "       [78.875     ]])"
      ]
     },
     "execution_count": 40,
     "metadata": {},
     "output_type": "execute_result"
    }
   ],
   "source": [
    "small.reshape(-1, 1)"
   ]
  },
  {
   "cell_type": "markdown",
   "metadata": {},
   "source": [
    "### Portfolios"
   ]
  },
  {
   "cell_type": "code",
   "execution_count": 41,
   "metadata": {},
   "outputs": [],
   "source": [
    "tickers = ['AAPL', 'MSFT', 'TWTR', 'IBM']\n",
    "start = dt.datetime(2020, 1, 1)\n",
    "\n",
    "data = pdr.get_data_yahoo(tickers, start)"
   ]
  },
  {
   "cell_type": "code",
   "execution_count": 42,
   "metadata": {},
   "outputs": [
    {
     "data": {
      "text/html": [
       "<div>\n",
       "<style scoped>\n",
       "    .dataframe tbody tr th:only-of-type {\n",
       "        vertical-align: middle;\n",
       "    }\n",
       "\n",
       "    .dataframe tbody tr th {\n",
       "        vertical-align: top;\n",
       "    }\n",
       "\n",
       "    .dataframe thead tr th {\n",
       "        text-align: left;\n",
       "    }\n",
       "\n",
       "    .dataframe thead tr:last-of-type th {\n",
       "        text-align: right;\n",
       "    }\n",
       "</style>\n",
       "<table border=\"1\" class=\"dataframe\">\n",
       "  <thead>\n",
       "    <tr>\n",
       "      <th>Attributes</th>\n",
       "      <th colspan=\"4\" halign=\"left\">Adj Close</th>\n",
       "      <th colspan=\"4\" halign=\"left\">Close</th>\n",
       "      <th colspan=\"2\" halign=\"left\">High</th>\n",
       "      <th>...</th>\n",
       "      <th colspan=\"2\" halign=\"left\">Low</th>\n",
       "      <th colspan=\"4\" halign=\"left\">Open</th>\n",
       "      <th colspan=\"4\" halign=\"left\">Volume</th>\n",
       "    </tr>\n",
       "    <tr>\n",
       "      <th>Symbols</th>\n",
       "      <th>AAPL</th>\n",
       "      <th>MSFT</th>\n",
       "      <th>TWTR</th>\n",
       "      <th>IBM</th>\n",
       "      <th>AAPL</th>\n",
       "      <th>MSFT</th>\n",
       "      <th>TWTR</th>\n",
       "      <th>IBM</th>\n",
       "      <th>AAPL</th>\n",
       "      <th>MSFT</th>\n",
       "      <th>...</th>\n",
       "      <th>TWTR</th>\n",
       "      <th>IBM</th>\n",
       "      <th>AAPL</th>\n",
       "      <th>MSFT</th>\n",
       "      <th>TWTR</th>\n",
       "      <th>IBM</th>\n",
       "      <th>AAPL</th>\n",
       "      <th>MSFT</th>\n",
       "      <th>TWTR</th>\n",
       "      <th>IBM</th>\n",
       "    </tr>\n",
       "    <tr>\n",
       "      <th>Date</th>\n",
       "      <th></th>\n",
       "      <th></th>\n",
       "      <th></th>\n",
       "      <th></th>\n",
       "      <th></th>\n",
       "      <th></th>\n",
       "      <th></th>\n",
       "      <th></th>\n",
       "      <th></th>\n",
       "      <th></th>\n",
       "      <th></th>\n",
       "      <th></th>\n",
       "      <th></th>\n",
       "      <th></th>\n",
       "      <th></th>\n",
       "      <th></th>\n",
       "      <th></th>\n",
       "      <th></th>\n",
       "      <th></th>\n",
       "      <th></th>\n",
       "      <th></th>\n",
       "    </tr>\n",
       "  </thead>\n",
       "  <tbody>\n",
       "    <tr>\n",
       "      <th>2020-01-02</th>\n",
       "      <td>73.894325</td>\n",
       "      <td>157.289871</td>\n",
       "      <td>32.299999</td>\n",
       "      <td>115.726616</td>\n",
       "      <td>75.087502</td>\n",
       "      <td>160.619995</td>\n",
       "      <td>32.299999</td>\n",
       "      <td>129.464630</td>\n",
       "      <td>75.150002</td>\n",
       "      <td>160.729996</td>\n",
       "      <td>...</td>\n",
       "      <td>31.959999</td>\n",
       "      <td>128.843216</td>\n",
       "      <td>74.059998</td>\n",
       "      <td>158.779999</td>\n",
       "      <td>32.310001</td>\n",
       "      <td>129.063095</td>\n",
       "      <td>135480400.0</td>\n",
       "      <td>22622100.0</td>\n",
       "      <td>10721100.0</td>\n",
       "      <td>3293436.0</td>\n",
       "    </tr>\n",
       "    <tr>\n",
       "      <th>2020-01-03</th>\n",
       "      <td>73.175934</td>\n",
       "      <td>155.331329</td>\n",
       "      <td>31.520000</td>\n",
       "      <td>114.803673</td>\n",
       "      <td>74.357498</td>\n",
       "      <td>158.619995</td>\n",
       "      <td>31.520000</td>\n",
       "      <td>128.432129</td>\n",
       "      <td>75.144997</td>\n",
       "      <td>159.949997</td>\n",
       "      <td>...</td>\n",
       "      <td>31.260000</td>\n",
       "      <td>127.686424</td>\n",
       "      <td>74.287498</td>\n",
       "      <td>158.320007</td>\n",
       "      <td>31.709999</td>\n",
       "      <td>127.695984</td>\n",
       "      <td>146322800.0</td>\n",
       "      <td>21116200.0</td>\n",
       "      <td>14429500.0</td>\n",
       "      <td>2482890.0</td>\n",
       "    </tr>\n",
       "    <tr>\n",
       "      <th>2020-01-06</th>\n",
       "      <td>73.759003</td>\n",
       "      <td>155.732849</td>\n",
       "      <td>31.639999</td>\n",
       "      <td>114.598587</td>\n",
       "      <td>74.949997</td>\n",
       "      <td>159.029999</td>\n",
       "      <td>31.639999</td>\n",
       "      <td>128.202682</td>\n",
       "      <td>74.989998</td>\n",
       "      <td>159.100006</td>\n",
       "      <td>...</td>\n",
       "      <td>31.160000</td>\n",
       "      <td>127.342255</td>\n",
       "      <td>73.447502</td>\n",
       "      <td>157.080002</td>\n",
       "      <td>31.230000</td>\n",
       "      <td>127.552582</td>\n",
       "      <td>118387200.0</td>\n",
       "      <td>20813700.0</td>\n",
       "      <td>12582500.0</td>\n",
       "      <td>2537073.0</td>\n",
       "    </tr>\n",
       "    <tr>\n",
       "      <th>2020-01-07</th>\n",
       "      <td>73.412117</td>\n",
       "      <td>154.312927</td>\n",
       "      <td>32.540001</td>\n",
       "      <td>114.675476</td>\n",
       "      <td>74.597504</td>\n",
       "      <td>157.580002</td>\n",
       "      <td>32.540001</td>\n",
       "      <td>128.288712</td>\n",
       "      <td>75.224998</td>\n",
       "      <td>159.669998</td>\n",
       "      <td>...</td>\n",
       "      <td>31.719999</td>\n",
       "      <td>127.533463</td>\n",
       "      <td>74.959999</td>\n",
       "      <td>159.320007</td>\n",
       "      <td>31.799999</td>\n",
       "      <td>127.810707</td>\n",
       "      <td>108872000.0</td>\n",
       "      <td>21634100.0</td>\n",
       "      <td>13712900.0</td>\n",
       "      <td>3232977.0</td>\n",
       "    </tr>\n",
       "    <tr>\n",
       "      <th>2020-01-08</th>\n",
       "      <td>74.593033</td>\n",
       "      <td>156.770859</td>\n",
       "      <td>33.049999</td>\n",
       "      <td>115.632614</td>\n",
       "      <td>75.797501</td>\n",
       "      <td>160.089996</td>\n",
       "      <td>33.049999</td>\n",
       "      <td>129.359467</td>\n",
       "      <td>76.110001</td>\n",
       "      <td>160.800003</td>\n",
       "      <td>...</td>\n",
       "      <td>32.349998</td>\n",
       "      <td>128.030594</td>\n",
       "      <td>74.290001</td>\n",
       "      <td>158.929993</td>\n",
       "      <td>32.349998</td>\n",
       "      <td>128.594650</td>\n",
       "      <td>132079200.0</td>\n",
       "      <td>27746500.0</td>\n",
       "      <td>14632400.0</td>\n",
       "      <td>4545916.0</td>\n",
       "    </tr>\n",
       "  </tbody>\n",
       "</table>\n",
       "<p>5 rows × 24 columns</p>\n",
       "</div>"
      ],
      "text/plain": [
       "Attributes  Adj Close                                         Close  \\\n",
       "Symbols          AAPL        MSFT       TWTR         IBM       AAPL   \n",
       "Date                                                                  \n",
       "2020-01-02  73.894325  157.289871  32.299999  115.726616  75.087502   \n",
       "2020-01-03  73.175934  155.331329  31.520000  114.803673  74.357498   \n",
       "2020-01-06  73.759003  155.732849  31.639999  114.598587  74.949997   \n",
       "2020-01-07  73.412117  154.312927  32.540001  114.675476  74.597504   \n",
       "2020-01-08  74.593033  156.770859  33.049999  115.632614  75.797501   \n",
       "\n",
       "Attributes                                          High              ...  \\\n",
       "Symbols           MSFT       TWTR         IBM       AAPL        MSFT  ...   \n",
       "Date                                                                  ...   \n",
       "2020-01-02  160.619995  32.299999  129.464630  75.150002  160.729996  ...   \n",
       "2020-01-03  158.619995  31.520000  128.432129  75.144997  159.949997  ...   \n",
       "2020-01-06  159.029999  31.639999  128.202682  74.989998  159.100006  ...   \n",
       "2020-01-07  157.580002  32.540001  128.288712  75.224998  159.669998  ...   \n",
       "2020-01-08  160.089996  33.049999  129.359467  76.110001  160.800003  ...   \n",
       "\n",
       "Attributes        Low                   Open                         \\\n",
       "Symbols          TWTR         IBM       AAPL        MSFT       TWTR   \n",
       "Date                                                                  \n",
       "2020-01-02  31.959999  128.843216  74.059998  158.779999  32.310001   \n",
       "2020-01-03  31.260000  127.686424  74.287498  158.320007  31.709999   \n",
       "2020-01-06  31.160000  127.342255  73.447502  157.080002  31.230000   \n",
       "2020-01-07  31.719999  127.533463  74.959999  159.320007  31.799999   \n",
       "2020-01-08  32.349998  128.030594  74.290001  158.929993  32.349998   \n",
       "\n",
       "Attributes                   Volume                                     \n",
       "Symbols            IBM         AAPL        MSFT        TWTR        IBM  \n",
       "Date                                                                    \n",
       "2020-01-02  129.063095  135480400.0  22622100.0  10721100.0  3293436.0  \n",
       "2020-01-03  127.695984  146322800.0  21116200.0  14429500.0  2482890.0  \n",
       "2020-01-06  127.552582  118387200.0  20813700.0  12582500.0  2537073.0  \n",
       "2020-01-07  127.810707  108872000.0  21634100.0  13712900.0  3232977.0  \n",
       "2020-01-08  128.594650  132079200.0  27746500.0  14632400.0  4545916.0  \n",
       "\n",
       "[5 rows x 24 columns]"
      ]
     },
     "execution_count": 42,
     "metadata": {},
     "output_type": "execute_result"
    }
   ],
   "source": [
    "data.head()"
   ]
  },
  {
   "cell_type": "code",
   "execution_count": 43,
   "metadata": {},
   "outputs": [],
   "source": [
    "data = data['Adj Close']"
   ]
  },
  {
   "cell_type": "code",
   "execution_count": 44,
   "metadata": {},
   "outputs": [
    {
     "data": {
      "text/html": [
       "<div>\n",
       "<style scoped>\n",
       "    .dataframe tbody tr th:only-of-type {\n",
       "        vertical-align: middle;\n",
       "    }\n",
       "\n",
       "    .dataframe tbody tr th {\n",
       "        vertical-align: top;\n",
       "    }\n",
       "\n",
       "    .dataframe thead th {\n",
       "        text-align: right;\n",
       "    }\n",
       "</style>\n",
       "<table border=\"1\" class=\"dataframe\">\n",
       "  <thead>\n",
       "    <tr style=\"text-align: right;\">\n",
       "      <th>Symbols</th>\n",
       "      <th>AAPL</th>\n",
       "      <th>MSFT</th>\n",
       "      <th>TWTR</th>\n",
       "      <th>IBM</th>\n",
       "    </tr>\n",
       "    <tr>\n",
       "      <th>Date</th>\n",
       "      <th></th>\n",
       "      <th></th>\n",
       "      <th></th>\n",
       "      <th></th>\n",
       "    </tr>\n",
       "  </thead>\n",
       "  <tbody>\n",
       "    <tr>\n",
       "      <th>2020-01-02</th>\n",
       "      <td>73.894325</td>\n",
       "      <td>157.289871</td>\n",
       "      <td>32.299999</td>\n",
       "      <td>115.726616</td>\n",
       "    </tr>\n",
       "    <tr>\n",
       "      <th>2020-01-03</th>\n",
       "      <td>73.175934</td>\n",
       "      <td>155.331329</td>\n",
       "      <td>31.520000</td>\n",
       "      <td>114.803673</td>\n",
       "    </tr>\n",
       "    <tr>\n",
       "      <th>2020-01-06</th>\n",
       "      <td>73.759003</td>\n",
       "      <td>155.732849</td>\n",
       "      <td>31.639999</td>\n",
       "      <td>114.598587</td>\n",
       "    </tr>\n",
       "    <tr>\n",
       "      <th>2020-01-07</th>\n",
       "      <td>73.412117</td>\n",
       "      <td>154.312927</td>\n",
       "      <td>32.540001</td>\n",
       "      <td>114.675476</td>\n",
       "    </tr>\n",
       "    <tr>\n",
       "      <th>2020-01-08</th>\n",
       "      <td>74.593033</td>\n",
       "      <td>156.770859</td>\n",
       "      <td>33.049999</td>\n",
       "      <td>115.632614</td>\n",
       "    </tr>\n",
       "  </tbody>\n",
       "</table>\n",
       "</div>"
      ],
      "text/plain": [
       "Symbols          AAPL        MSFT       TWTR         IBM\n",
       "Date                                                    \n",
       "2020-01-02  73.894325  157.289871  32.299999  115.726616\n",
       "2020-01-03  73.175934  155.331329  31.520000  114.803673\n",
       "2020-01-06  73.759003  155.732849  31.639999  114.598587\n",
       "2020-01-07  73.412117  154.312927  32.540001  114.675476\n",
       "2020-01-08  74.593033  156.770859  33.049999  115.632614"
      ]
     },
     "execution_count": 44,
     "metadata": {},
     "output_type": "execute_result"
    }
   ],
   "source": [
    "data.head()"
   ]
  },
  {
   "cell_type": "code",
   "execution_count": 45,
   "metadata": {},
   "outputs": [],
   "source": [
    "portfolios = [.25, .15, .40, .20]"
   ]
  },
  {
   "cell_type": "code",
   "execution_count": 46,
   "metadata": {},
   "outputs": [
    {
     "data": {
      "text/plain": [
       "1.0"
      ]
     },
     "execution_count": 46,
     "metadata": {},
     "output_type": "execute_result"
    }
   ],
   "source": [
    "np.sum(portfolios)"
   ]
  },
  {
   "cell_type": "code",
   "execution_count": 47,
   "metadata": {},
   "outputs": [
    {
     "data": {
      "text/html": [
       "<div>\n",
       "<style scoped>\n",
       "    .dataframe tbody tr th:only-of-type {\n",
       "        vertical-align: middle;\n",
       "    }\n",
       "\n",
       "    .dataframe tbody tr th {\n",
       "        vertical-align: top;\n",
       "    }\n",
       "\n",
       "    .dataframe thead th {\n",
       "        text-align: right;\n",
       "    }\n",
       "</style>\n",
       "<table border=\"1\" class=\"dataframe\">\n",
       "  <thead>\n",
       "    <tr style=\"text-align: right;\">\n",
       "      <th>Symbols</th>\n",
       "      <th>AAPL</th>\n",
       "      <th>MSFT</th>\n",
       "      <th>TWTR</th>\n",
       "      <th>IBM</th>\n",
       "    </tr>\n",
       "    <tr>\n",
       "      <th>Date</th>\n",
       "      <th></th>\n",
       "      <th></th>\n",
       "      <th></th>\n",
       "      <th></th>\n",
       "    </tr>\n",
       "  </thead>\n",
       "  <tbody>\n",
       "    <tr>\n",
       "      <th>2020-01-02</th>\n",
       "      <td>25000.000000</td>\n",
       "      <td>15000.000000</td>\n",
       "      <td>40000.000000</td>\n",
       "      <td>20000.000000</td>\n",
       "    </tr>\n",
       "    <tr>\n",
       "      <th>2020-01-03</th>\n",
       "      <td>24756.953117</td>\n",
       "      <td>14813.223014</td>\n",
       "      <td>39034.057216</td>\n",
       "      <td>19840.495964</td>\n",
       "    </tr>\n",
       "    <tr>\n",
       "      <th>2020-01-06</th>\n",
       "      <td>24954.217536</td>\n",
       "      <td>14851.514079</td>\n",
       "      <td>39182.662708</td>\n",
       "      <td>19805.052820</td>\n",
       "    </tr>\n",
       "    <tr>\n",
       "      <th>2020-01-07</th>\n",
       "      <td>24836.858835</td>\n",
       "      <td>14716.102765</td>\n",
       "      <td>40297.215708</td>\n",
       "      <td>19818.340868</td>\n",
       "    </tr>\n",
       "    <tr>\n",
       "      <th>2020-01-08</th>\n",
       "      <td>25236.387428</td>\n",
       "      <td>14950.504208</td>\n",
       "      <td>40928.792592</td>\n",
       "      <td>19983.754512</td>\n",
       "    </tr>\n",
       "    <tr>\n",
       "      <th>...</th>\n",
       "      <td>...</td>\n",
       "      <td>...</td>\n",
       "      <td>...</td>\n",
       "      <td>...</td>\n",
       "    </tr>\n",
       "    <tr>\n",
       "      <th>2022-02-18</th>\n",
       "      <td>56601.099770</td>\n",
       "      <td>27458.537900</td>\n",
       "      <td>42501.548614</td>\n",
       "      <td>21490.302382</td>\n",
       "    </tr>\n",
       "    <tr>\n",
       "      <th>2022-02-22</th>\n",
       "      <td>55592.904717</td>\n",
       "      <td>27438.511997</td>\n",
       "      <td>40780.187100</td>\n",
       "      <td>21415.989260</td>\n",
       "    </tr>\n",
       "    <tr>\n",
       "      <th>2022-02-23</th>\n",
       "      <td>54155.040583</td>\n",
       "      <td>26728.039147</td>\n",
       "      <td>40569.658322</td>\n",
       "      <td>21096.270506</td>\n",
       "    </tr>\n",
       "    <tr>\n",
       "      <th>2022-02-24</th>\n",
       "      <td>55058.356961</td>\n",
       "      <td>28093.671327</td>\n",
       "      <td>43318.885905</td>\n",
       "      <td>21078.988661</td>\n",
       "    </tr>\n",
       "    <tr>\n",
       "      <th>2022-02-25</th>\n",
       "      <td>55772.214420</td>\n",
       "      <td>28353.065133</td>\n",
       "      <td>43702.788544</td>\n",
       "      <td>21460.923113</td>\n",
       "    </tr>\n",
       "  </tbody>\n",
       "</table>\n",
       "<p>543 rows × 4 columns</p>\n",
       "</div>"
      ],
      "text/plain": [
       "Symbols             AAPL          MSFT          TWTR           IBM\n",
       "Date                                                              \n",
       "2020-01-02  25000.000000  15000.000000  40000.000000  20000.000000\n",
       "2020-01-03  24756.953117  14813.223014  39034.057216  19840.495964\n",
       "2020-01-06  24954.217536  14851.514079  39182.662708  19805.052820\n",
       "2020-01-07  24836.858835  14716.102765  40297.215708  19818.340868\n",
       "2020-01-08  25236.387428  14950.504208  40928.792592  19983.754512\n",
       "...                  ...           ...           ...           ...\n",
       "2022-02-18  56601.099770  27458.537900  42501.548614  21490.302382\n",
       "2022-02-22  55592.904717  27438.511997  40780.187100  21415.989260\n",
       "2022-02-23  54155.040583  26728.039147  40569.658322  21096.270506\n",
       "2022-02-24  55058.356961  28093.671327  43318.885905  21078.988661\n",
       "2022-02-25  55772.214420  28353.065133  43702.788544  21460.923113\n",
       "\n",
       "[543 rows x 4 columns]"
      ]
     },
     "execution_count": 47,
     "metadata": {},
     "output_type": "execute_result"
    }
   ],
   "source": [
    "(data/data.iloc[0])*portfolios*100000"
   ]
  },
  {
   "cell_type": "markdown",
   "metadata": {},
   "source": [
    "We can get the sum of the full return as follows."
   ]
  },
  {
   "cell_type": "code",
   "execution_count": 48,
   "metadata": {},
   "outputs": [
    {
     "data": {
      "text/plain": [
       "Date\n",
       "2020-01-02    100000.000000\n",
       "2020-01-03     98444.729311\n",
       "2020-01-06     98793.447144\n",
       "2020-01-07     99668.518176\n",
       "2020-01-08    101099.438739\n",
       "                  ...      \n",
       "2022-02-18    148051.488667\n",
       "2022-02-22    145227.593074\n",
       "2022-02-23    142549.008558\n",
       "2022-02-24    147549.902854\n",
       "2022-02-25    149288.991210\n",
       "Length: 543, dtype: float64"
      ]
     },
     "execution_count": 48,
     "metadata": {},
     "output_type": "execute_result"
    }
   ],
   "source": [
    "np.sum((data/data.iloc[0])*portfolios*100000, axis=1)"
   ]
  },
  {
   "cell_type": "markdown",
   "metadata": {},
   "source": [
    "### A random portfolio \n",
    "\n",
    "A random portfolio can be generated as follows with NumPy\n",
    "\n",
    "Actually, when we get to Monte Carlo Simulation, this will be handy. There, we will generate multiple random portfolios and calculate the return and risk for each of them, to optimize the portfolio composition.\n"
   ]
  },
  {
   "cell_type": "markdown",
   "metadata": {},
   "source": [
    "weight = np.random.random(4)\n",
    "weight /= weight.sum()\n",
    "weight"
   ]
  },
  {
   "cell_type": "code",
   "execution_count": 50,
   "metadata": {},
   "outputs": [
    {
     "data": {
      "text/plain": [
       "1.0000000000000002"
      ]
     },
     "execution_count": 50,
     "metadata": {},
     "output_type": "execute_result"
    }
   ],
   "source": [
    "weight.sum()"
   ]
  },
  {
   "cell_type": "code",
   "execution_count": 51,
   "metadata": {},
   "outputs": [
    {
     "data": {
      "text/plain": [
       "Date\n",
       "2020-01-02    100000.000000\n",
       "2020-01-03     98444.729311\n",
       "2020-01-06     98793.447144\n",
       "2020-01-07     99668.518176\n",
       "2020-01-08    101099.438739\n",
       "                  ...      \n",
       "2022-02-18    148051.488667\n",
       "2022-02-22    145227.593074\n",
       "2022-02-23    142549.008558\n",
       "2022-02-24    147549.902854\n",
       "2022-02-25    149288.991210\n",
       "Length: 543, dtype: float64"
      ]
     },
     "execution_count": 51,
     "metadata": {},
     "output_type": "execute_result"
    }
   ],
   "source": [
    "np.sum((data/data.iloc[0])*portfolios*100000, axis=1)"
   ]
  },
  {
   "cell_type": "markdown",
   "metadata": {},
   "source": [
    "Compare the random generated portfolio with the portfolio we defined before"
   ]
  },
  {
   "cell_type": "code",
   "execution_count": 52,
   "metadata": {},
   "outputs": [
    {
     "data": {
      "text/plain": [
       "Date\n",
       "2020-01-02    100000.000000\n",
       "2020-01-03     98501.891492\n",
       "2020-01-06     98769.510145\n",
       "2020-01-07     99229.986038\n",
       "2020-01-08    100667.755921\n",
       "                  ...      \n",
       "2022-02-18    149994.863846\n",
       "2022-02-22    148125.639132\n",
       "2022-02-23    145158.691979\n",
       "2022-02-24    151338.233417\n",
       "2022-02-25    152977.715139\n",
       "Length: 543, dtype: float64"
      ]
     },
     "execution_count": 52,
     "metadata": {},
     "output_type": "execute_result"
    }
   ],
   "source": [
    "np.sum((data/data.iloc[0])*weight*100000, axis=1)"
   ]
  },
  {
   "cell_type": "markdown",
   "metadata": {},
   "source": [
    "This is just one randomly generated portfolio and it has more return than the intial portfolio. Can we repeat this process and find the best portfolio?"
   ]
  },
  {
   "cell_type": "markdown",
   "metadata": {},
   "source": [
    "# End"
   ]
  },
  {
   "cell_type": "code",
   "execution_count": null,
   "metadata": {},
   "outputs": [],
   "source": []
  }
 ],
 "metadata": {
  "kernelspec": {
   "display_name": "Python 3 (ipykernel)",
   "language": "python",
   "name": "python3"
  },
  "language_info": {
   "codemirror_mode": {
    "name": "ipython",
    "version": 3
   },
   "file_extension": ".py",
   "mimetype": "text/x-python",
   "name": "python",
   "nbconvert_exporter": "python",
   "pygments_lexer": "ipython3",
   "version": "3.9.7"
  }
 },
 "nbformat": 4,
 "nbformat_minor": 4
}
