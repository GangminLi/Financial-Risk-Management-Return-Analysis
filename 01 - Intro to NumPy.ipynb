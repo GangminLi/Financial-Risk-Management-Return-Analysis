{
 "cells": [
  {
   "cell_type": "markdown",
   "metadata": {},
   "source": [
    "# Tutorial 1 - Portfolio and Risk Using Pandas and NumPy\n",
    "\n",
    "Learning objectives: after this tutorial, you should have a good idea what is: \n",
    "- RoI (Return of Invest) :  np.log(data/data.iloc[0]).tail(1)\n",
    "- Portfolio:  portfolios = [.25, .15, .40, .20]\n",
    "- Total return:  np.sum((data/data.iloc[0])*portfolios*100000, axis=1)\n"
   ]
  },
  {
   "cell_type": "markdown",
   "metadata": {},
   "source": [
    "### Resources\n",
    "- Pandas Datareader\n",
    "https://pandas-datareader.readthedocs.io/ (https://youtu.be/sgndYho8RyI)\n",
    "- Pandas https://pandas.pydata.org (https://youtu.be/m8ahf_c9hEc)\n",
    "- NumPy http://numpy.org (Focus here)"
   ]
  },
  {
   "cell_type": "markdown",
   "metadata": {},
   "source": [
    "### Pandas Datareader & Pandas DataFrame"
   ]
  },
  {
   "cell_type": "code",
   "execution_count": null,
   "metadata": {},
   "outputs": [],
   "source": [
    "#pip install pandas-datareader"
   ]
  },
  {
   "cell_type": "code",
   "execution_count": 4,
   "metadata": {},
   "outputs": [],
   "source": [
    "import numpy as np\n",
    "import yfinance as yf\n",
    "import datetime as dt\n",
    "import pandas as pd"
   ]
  },
  {
   "cell_type": "markdown",
   "metadata": {},
   "source": [
    "### DataFrame"
   ]
  },
  {
   "cell_type": "code",
   "execution_count": 11,
   "metadata": {},
   "outputs": [
    {
     "name": "stdout",
     "output_type": "stream",
     "text": [
      "[*********************100%***********************]  1 of 1 completed\n"
     ]
    }
   ],
   "source": [
    "# Define the ticker symbol\n",
    "tickerSymbol = 'AAPL'\n",
    "\n",
    "# Set the start date\n",
    "start_date = '2022-01-01'\n",
    "\n",
    "# Set the end date\n",
    "end_date = '2022-12-31'\n",
    "\n",
    "# Get the data for the stock\n",
    "data = yf.download(tickerSymbol, start=start_date, end=end_date)\n"
   ]
  },
  {
   "cell_type": "code",
   "execution_count": 12,
   "metadata": {},
   "outputs": [
    {
     "name": "stdout",
     "output_type": "stream",
     "text": [
      "                  Open        High         Low       Close   Adj Close  \\\n",
      "Date                                                                     \n",
      "2022-01-03  177.830002  182.880005  177.710007  182.009995  180.683868   \n",
      "2022-01-04  182.630005  182.940002  179.119995  179.699997  178.390701   \n",
      "2022-01-05  179.610001  180.169998  174.639999  174.919998  173.645538   \n",
      "2022-01-06  172.699997  175.300003  171.639999  172.000000  170.746811   \n",
      "2022-01-07  172.889999  174.139999  171.029999  172.169998  170.915588   \n",
      "\n",
      "               Volume  \n",
      "Date                   \n",
      "2022-01-03  104487900  \n",
      "2022-01-04   99310400  \n",
      "2022-01-05   94537600  \n",
      "2022-01-06   96904000  \n",
      "2022-01-07   86709100  \n"
     ]
    }
   ],
   "source": [
    "# Print the first few rows of the data\n",
    "print(data.head())"
   ]
  },
  {
   "cell_type": "code",
   "execution_count": 13,
   "metadata": {},
   "outputs": [
    {
     "data": {
      "text/plain": [
       "DatetimeIndex(['2022-01-03', '2022-01-04', '2022-01-05', '2022-01-06',\n",
       "               '2022-01-07', '2022-01-10', '2022-01-11', '2022-01-12',\n",
       "               '2022-01-13', '2022-01-14',\n",
       "               ...\n",
       "               '2022-12-16', '2022-12-19', '2022-12-20', '2022-12-21',\n",
       "               '2022-12-22', '2022-12-23', '2022-12-27', '2022-12-28',\n",
       "               '2022-12-29', '2022-12-30'],\n",
       "              dtype='datetime64[ns]', name='Date', length=251, freq=None)"
      ]
     },
     "execution_count": 13,
     "metadata": {},
     "output_type": "execute_result"
    }
   ],
   "source": [
    "# Print the index of the data to confirm the time series\n",
    "data.index"
   ]
  },
  {
   "cell_type": "code",
   "execution_count": 14,
   "metadata": {
    "scrolled": true
   },
   "outputs": [
    {
     "data": {
      "text/plain": [
       "Open         float64\n",
       "High         float64\n",
       "Low          float64\n",
       "Close        float64\n",
       "Adj Close    float64\n",
       "Volume         int64\n",
       "dtype: object"
      ]
     },
     "execution_count": 14,
     "metadata": {},
     "output_type": "execute_result"
    }
   ],
   "source": [
    "# Print out data attibutes types \n",
    "data.dtypes"
   ]
  },
  {
   "cell_type": "code",
   "execution_count": 15,
   "metadata": {},
   "outputs": [
    {
     "data": {
      "text/plain": [
       "pandas.core.frame.DataFrame"
      ]
     },
     "execution_count": 15,
     "metadata": {},
     "output_type": "execute_result"
    }
   ],
   "source": [
    "# Comfirm the Dataframe \n",
    "type(data)"
   ]
  },
  {
   "cell_type": "markdown",
   "metadata": {},
   "source": [
    "### NumPy"
   ]
  },
  {
   "cell_type": "code",
   "execution_count": 16,
   "metadata": {},
   "outputs": [
    {
     "data": {
      "text/plain": [
       "array([[1.77830002e+02, 1.82880005e+02, 1.77710007e+02, 1.82009995e+02,\n",
       "        1.80683868e+02, 1.04487900e+08],\n",
       "       [1.82630005e+02, 1.82940002e+02, 1.79119995e+02, 1.79699997e+02,\n",
       "        1.78390701e+02, 9.93104000e+07],\n",
       "       [1.79610001e+02, 1.80169998e+02, 1.74639999e+02, 1.74919998e+02,\n",
       "        1.73645538e+02, 9.45376000e+07],\n",
       "       ...,\n",
       "       [1.29669998e+02, 1.31029999e+02, 1.25870003e+02, 1.26040001e+02,\n",
       "        1.25847855e+02, 8.54384000e+07],\n",
       "       [1.27989998e+02, 1.30479996e+02, 1.27730003e+02, 1.29610001e+02,\n",
       "        1.29412415e+02, 7.57037000e+07],\n",
       "       [1.28410004e+02, 1.29949997e+02, 1.27430000e+02, 1.29929993e+02,\n",
       "        1.29731918e+02, 7.69606000e+07]])"
      ]
     },
     "execution_count": 16,
     "metadata": {},
     "output_type": "execute_result"
    }
   ],
   "source": [
    "data.to_numpy()"
   ]
  },
  {
   "cell_type": "code",
   "execution_count": 17,
   "metadata": {},
   "outputs": [],
   "source": [
    "arr = data.to_numpy()"
   ]
  },
  {
   "cell_type": "code",
   "execution_count": 18,
   "metadata": {},
   "outputs": [
    {
     "data": {
      "text/plain": [
       "(251, 6)"
      ]
     },
     "execution_count": 18,
     "metadata": {},
     "output_type": "execute_result"
    }
   ],
   "source": [
    "arr.shape"
   ]
  },
  {
   "cell_type": "code",
   "execution_count": 19,
   "metadata": {},
   "outputs": [
    {
     "data": {
      "text/plain": [
       "251"
      ]
     },
     "execution_count": 19,
     "metadata": {},
     "output_type": "execute_result"
    }
   ],
   "source": [
    "len(data)"
   ]
  },
  {
   "cell_type": "code",
   "execution_count": 20,
   "metadata": {},
   "outputs": [
    {
     "data": {
      "text/plain": [
       "array([1.77830002e+02, 1.82880005e+02, 1.77710007e+02, 1.82009995e+02,\n",
       "       1.80683868e+02, 1.04487900e+08])"
      ]
     },
     "execution_count": 20,
     "metadata": {},
     "output_type": "execute_result"
    }
   ],
   "source": [
    "arr[0]"
   ]
  },
  {
   "cell_type": "code",
   "execution_count": 21,
   "metadata": {},
   "outputs": [
    {
     "data": {
      "text/html": [
       "<div>\n",
       "<style scoped>\n",
       "    .dataframe tbody tr th:only-of-type {\n",
       "        vertical-align: middle;\n",
       "    }\n",
       "\n",
       "    .dataframe tbody tr th {\n",
       "        vertical-align: top;\n",
       "    }\n",
       "\n",
       "    .dataframe thead th {\n",
       "        text-align: right;\n",
       "    }\n",
       "</style>\n",
       "<table border=\"1\" class=\"dataframe\">\n",
       "  <thead>\n",
       "    <tr style=\"text-align: right;\">\n",
       "      <th></th>\n",
       "      <th>Open</th>\n",
       "      <th>High</th>\n",
       "      <th>Low</th>\n",
       "      <th>Close</th>\n",
       "      <th>Adj Close</th>\n",
       "      <th>Volume</th>\n",
       "    </tr>\n",
       "    <tr>\n",
       "      <th>Date</th>\n",
       "      <th></th>\n",
       "      <th></th>\n",
       "      <th></th>\n",
       "      <th></th>\n",
       "      <th></th>\n",
       "      <th></th>\n",
       "    </tr>\n",
       "  </thead>\n",
       "  <tbody>\n",
       "    <tr>\n",
       "      <th>2022-01-03</th>\n",
       "      <td>177.830002</td>\n",
       "      <td>182.880005</td>\n",
       "      <td>177.710007</td>\n",
       "      <td>182.009995</td>\n",
       "      <td>180.683868</td>\n",
       "      <td>104487900</td>\n",
       "    </tr>\n",
       "  </tbody>\n",
       "</table>\n",
       "</div>"
      ],
      "text/plain": [
       "                  Open        High         Low       Close   Adj Close  \\\n",
       "Date                                                                     \n",
       "2022-01-03  177.830002  182.880005  177.710007  182.009995  180.683868   \n",
       "\n",
       "               Volume  \n",
       "Date                   \n",
       "2022-01-03  104487900  "
      ]
     },
     "execution_count": 21,
     "metadata": {},
     "output_type": "execute_result"
    }
   ],
   "source": [
    "data.head(1)"
   ]
  },
  {
   "cell_type": "code",
   "execution_count": 22,
   "metadata": {},
   "outputs": [
    {
     "data": {
      "text/plain": [
       "dtype('float64')"
      ]
     },
     "execution_count": 22,
     "metadata": {},
     "output_type": "execute_result"
    }
   ],
   "source": [
    "arr.dtype"
   ]
  },
  {
   "cell_type": "code",
   "execution_count": 23,
   "metadata": {},
   "outputs": [],
   "source": [
    "small = arr[:10, 0].copy()"
   ]
  },
  {
   "cell_type": "code",
   "execution_count": 24,
   "metadata": {},
   "outputs": [
    {
     "data": {
      "text/plain": [
       "array([177.83000183, 182.63000488, 179.61000061, 172.69999695,\n",
       "       172.88999939, 169.08000183, 172.32000732, 176.11999512,\n",
       "       175.77999878, 171.33999634])"
      ]
     },
     "execution_count": 24,
     "metadata": {},
     "output_type": "execute_result"
    }
   ],
   "source": [
    "small"
   ]
  },
  {
   "cell_type": "code",
   "execution_count": 25,
   "metadata": {},
   "outputs": [
    {
     "data": {
      "text/html": [
       "<div>\n",
       "<style scoped>\n",
       "    .dataframe tbody tr th:only-of-type {\n",
       "        vertical-align: middle;\n",
       "    }\n",
       "\n",
       "    .dataframe tbody tr th {\n",
       "        vertical-align: top;\n",
       "    }\n",
       "\n",
       "    .dataframe thead th {\n",
       "        text-align: right;\n",
       "    }\n",
       "</style>\n",
       "<table border=\"1\" class=\"dataframe\">\n",
       "  <thead>\n",
       "    <tr style=\"text-align: right;\">\n",
       "      <th></th>\n",
       "      <th>Open</th>\n",
       "      <th>High</th>\n",
       "      <th>Low</th>\n",
       "      <th>Close</th>\n",
       "      <th>Adj Close</th>\n",
       "      <th>Volume</th>\n",
       "    </tr>\n",
       "    <tr>\n",
       "      <th>Date</th>\n",
       "      <th></th>\n",
       "      <th></th>\n",
       "      <th></th>\n",
       "      <th></th>\n",
       "      <th></th>\n",
       "      <th></th>\n",
       "    </tr>\n",
       "  </thead>\n",
       "  <tbody>\n",
       "    <tr>\n",
       "      <th>2022-01-03</th>\n",
       "      <td>177.830002</td>\n",
       "      <td>182.880005</td>\n",
       "      <td>177.710007</td>\n",
       "      <td>182.009995</td>\n",
       "      <td>180.683868</td>\n",
       "      <td>104487900</td>\n",
       "    </tr>\n",
       "    <tr>\n",
       "      <th>2022-01-04</th>\n",
       "      <td>182.630005</td>\n",
       "      <td>182.940002</td>\n",
       "      <td>179.119995</td>\n",
       "      <td>179.699997</td>\n",
       "      <td>178.390701</td>\n",
       "      <td>99310400</td>\n",
       "    </tr>\n",
       "    <tr>\n",
       "      <th>2022-01-05</th>\n",
       "      <td>179.610001</td>\n",
       "      <td>180.169998</td>\n",
       "      <td>174.639999</td>\n",
       "      <td>174.919998</td>\n",
       "      <td>173.645538</td>\n",
       "      <td>94537600</td>\n",
       "    </tr>\n",
       "    <tr>\n",
       "      <th>2022-01-06</th>\n",
       "      <td>172.699997</td>\n",
       "      <td>175.300003</td>\n",
       "      <td>171.639999</td>\n",
       "      <td>172.000000</td>\n",
       "      <td>170.746811</td>\n",
       "      <td>96904000</td>\n",
       "    </tr>\n",
       "    <tr>\n",
       "      <th>2022-01-07</th>\n",
       "      <td>172.889999</td>\n",
       "      <td>174.139999</td>\n",
       "      <td>171.029999</td>\n",
       "      <td>172.169998</td>\n",
       "      <td>170.915588</td>\n",
       "      <td>86709100</td>\n",
       "    </tr>\n",
       "  </tbody>\n",
       "</table>\n",
       "</div>"
      ],
      "text/plain": [
       "                  Open        High         Low       Close   Adj Close  \\\n",
       "Date                                                                     \n",
       "2022-01-03  177.830002  182.880005  177.710007  182.009995  180.683868   \n",
       "2022-01-04  182.630005  182.940002  179.119995  179.699997  178.390701   \n",
       "2022-01-05  179.610001  180.169998  174.639999  174.919998  173.645538   \n",
       "2022-01-06  172.699997  175.300003  171.639999  172.000000  170.746811   \n",
       "2022-01-07  172.889999  174.139999  171.029999  172.169998  170.915588   \n",
       "\n",
       "               Volume  \n",
       "Date                   \n",
       "2022-01-03  104487900  \n",
       "2022-01-04   99310400  \n",
       "2022-01-05   94537600  \n",
       "2022-01-06   96904000  \n",
       "2022-01-07   86709100  "
      ]
     },
     "execution_count": 25,
     "metadata": {},
     "output_type": "execute_result"
    }
   ],
   "source": [
    "data.head()"
   ]
  },
  {
   "cell_type": "code",
   "execution_count": 26,
   "metadata": {},
   "outputs": [
    {
     "data": {
      "text/plain": [
       "182.6300048828125"
      ]
     },
     "execution_count": 26,
     "metadata": {},
     "output_type": "execute_result"
    }
   ],
   "source": [
    "np.max(small)"
   ]
  },
  {
   "cell_type": "code",
   "execution_count": 27,
   "metadata": {},
   "outputs": [
    {
     "data": {
      "text/plain": [
       "182.6300048828125"
      ]
     },
     "execution_count": 27,
     "metadata": {},
     "output_type": "execute_result"
    }
   ],
   "source": [
    "small.max()"
   ]
  },
  {
   "cell_type": "code",
   "execution_count": 28,
   "metadata": {},
   "outputs": [
    {
     "data": {
      "text/plain": [
       "1"
      ]
     },
     "execution_count": 28,
     "metadata": {},
     "output_type": "execute_result"
    }
   ],
   "source": [
    "# the index of the max in samll\n",
    "\n",
    "small.argmax()"
   ]
  },
  {
   "cell_type": "code",
   "execution_count": null,
   "metadata": {},
   "outputs": [],
   "source": [
    "small"
   ]
  },
  {
   "cell_type": "code",
   "execution_count": 29,
   "metadata": {},
   "outputs": [
    {
     "data": {
      "text/plain": [
       "182.6300048828125"
      ]
     },
     "execution_count": 29,
     "metadata": {},
     "output_type": "execute_result"
    }
   ],
   "source": [
    "small[small.argmax()]"
   ]
  },
  {
   "cell_type": "markdown",
   "metadata": {},
   "source": [
    "### Logarithm"
   ]
  },
  {
   "cell_type": "code",
   "execution_count": 30,
   "metadata": {},
   "outputs": [
    {
     "data": {
      "text/plain": [
       "array([5.18082805, 5.20746227, 5.19078784, 5.15155597, 5.15265555,\n",
       "       5.13037199, 5.14935326, 5.17116555, 5.16923321, 5.14364987])"
      ]
     },
     "execution_count": 30,
     "metadata": {},
     "output_type": "execute_result"
    }
   ],
   "source": [
    "np.log(small)"
   ]
  },
  {
   "cell_type": "code",
   "execution_count": 31,
   "metadata": {},
   "outputs": [
    {
     "data": {
      "text/html": [
       "<div>\n",
       "<style scoped>\n",
       "    .dataframe tbody tr th:only-of-type {\n",
       "        vertical-align: middle;\n",
       "    }\n",
       "\n",
       "    .dataframe tbody tr th {\n",
       "        vertical-align: top;\n",
       "    }\n",
       "\n",
       "    .dataframe thead th {\n",
       "        text-align: right;\n",
       "    }\n",
       "</style>\n",
       "<table border=\"1\" class=\"dataframe\">\n",
       "  <thead>\n",
       "    <tr style=\"text-align: right;\">\n",
       "      <th></th>\n",
       "      <th>Open</th>\n",
       "      <th>High</th>\n",
       "      <th>Low</th>\n",
       "      <th>Close</th>\n",
       "      <th>Adj Close</th>\n",
       "      <th>Volume</th>\n",
       "    </tr>\n",
       "    <tr>\n",
       "      <th>Date</th>\n",
       "      <th></th>\n",
       "      <th></th>\n",
       "      <th></th>\n",
       "      <th></th>\n",
       "      <th></th>\n",
       "      <th></th>\n",
       "    </tr>\n",
       "  </thead>\n",
       "  <tbody>\n",
       "    <tr>\n",
       "      <th>2022-01-03</th>\n",
       "      <td>5.180828</td>\n",
       "      <td>5.208830</td>\n",
       "      <td>5.180153</td>\n",
       "      <td>5.204062</td>\n",
       "      <td>5.196749</td>\n",
       "      <td>18.464582</td>\n",
       "    </tr>\n",
       "    <tr>\n",
       "      <th>2022-01-04</th>\n",
       "      <td>5.207462</td>\n",
       "      <td>5.209158</td>\n",
       "      <td>5.188056</td>\n",
       "      <td>5.191289</td>\n",
       "      <td>5.183976</td>\n",
       "      <td>18.413761</td>\n",
       "    </tr>\n",
       "    <tr>\n",
       "      <th>2022-01-05</th>\n",
       "      <td>5.190788</td>\n",
       "      <td>5.193901</td>\n",
       "      <td>5.162727</td>\n",
       "      <td>5.164329</td>\n",
       "      <td>5.157016</td>\n",
       "      <td>18.364508</td>\n",
       "    </tr>\n",
       "    <tr>\n",
       "      <th>2022-01-06</th>\n",
       "      <td>5.151556</td>\n",
       "      <td>5.166499</td>\n",
       "      <td>5.145399</td>\n",
       "      <td>5.147494</td>\n",
       "      <td>5.140182</td>\n",
       "      <td>18.389231</td>\n",
       "    </tr>\n",
       "    <tr>\n",
       "      <th>2022-01-07</th>\n",
       "      <td>5.152656</td>\n",
       "      <td>5.159860</td>\n",
       "      <td>5.141839</td>\n",
       "      <td>5.148482</td>\n",
       "      <td>5.141170</td>\n",
       "      <td>18.278069</td>\n",
       "    </tr>\n",
       "    <tr>\n",
       "      <th>...</th>\n",
       "      <td>...</td>\n",
       "      <td>...</td>\n",
       "      <td>...</td>\n",
       "      <td>...</td>\n",
       "      <td>...</td>\n",
       "      <td>...</td>\n",
       "    </tr>\n",
       "    <tr>\n",
       "      <th>2022-12-23</th>\n",
       "      <td>4.874586</td>\n",
       "      <td>4.885979</td>\n",
       "      <td>4.864761</td>\n",
       "      <td>4.881741</td>\n",
       "      <td>4.880215</td>\n",
       "      <td>17.971497</td>\n",
       "    </tr>\n",
       "    <tr>\n",
       "      <th>2022-12-27</th>\n",
       "      <td>4.878094</td>\n",
       "      <td>4.878322</td>\n",
       "      <td>4.857640</td>\n",
       "      <td>4.867765</td>\n",
       "      <td>4.866240</td>\n",
       "      <td>18.049730</td>\n",
       "    </tr>\n",
       "    <tr>\n",
       "      <th>2022-12-28</th>\n",
       "      <td>4.864993</td>\n",
       "      <td>4.875426</td>\n",
       "      <td>4.835250</td>\n",
       "      <td>4.836599</td>\n",
       "      <td>4.835074</td>\n",
       "      <td>18.263306</td>\n",
       "    </tr>\n",
       "    <tr>\n",
       "      <th>2022-12-29</th>\n",
       "      <td>4.851952</td>\n",
       "      <td>4.871220</td>\n",
       "      <td>4.849919</td>\n",
       "      <td>4.864530</td>\n",
       "      <td>4.863004</td>\n",
       "      <td>18.142338</td>\n",
       "    </tr>\n",
       "    <tr>\n",
       "      <th>2022-12-30</th>\n",
       "      <td>4.855228</td>\n",
       "      <td>4.867150</td>\n",
       "      <td>4.847567</td>\n",
       "      <td>4.866996</td>\n",
       "      <td>4.865470</td>\n",
       "      <td>18.158804</td>\n",
       "    </tr>\n",
       "  </tbody>\n",
       "</table>\n",
       "<p>251 rows × 6 columns</p>\n",
       "</div>"
      ],
      "text/plain": [
       "                Open      High       Low     Close  Adj Close     Volume\n",
       "Date                                                                    \n",
       "2022-01-03  5.180828  5.208830  5.180153  5.204062   5.196749  18.464582\n",
       "2022-01-04  5.207462  5.209158  5.188056  5.191289   5.183976  18.413761\n",
       "2022-01-05  5.190788  5.193901  5.162727  5.164329   5.157016  18.364508\n",
       "2022-01-06  5.151556  5.166499  5.145399  5.147494   5.140182  18.389231\n",
       "2022-01-07  5.152656  5.159860  5.141839  5.148482   5.141170  18.278069\n",
       "...              ...       ...       ...       ...        ...        ...\n",
       "2022-12-23  4.874586  4.885979  4.864761  4.881741   4.880215  17.971497\n",
       "2022-12-27  4.878094  4.878322  4.857640  4.867765   4.866240  18.049730\n",
       "2022-12-28  4.864993  4.875426  4.835250  4.836599   4.835074  18.263306\n",
       "2022-12-29  4.851952  4.871220  4.849919  4.864530   4.863004  18.142338\n",
       "2022-12-30  4.855228  4.867150  4.847567  4.866996   4.865470  18.158804\n",
       "\n",
       "[251 rows x 6 columns]"
      ]
     },
     "execution_count": 31,
     "metadata": {},
     "output_type": "execute_result"
    }
   ],
   "source": [
    "np.log(data)"
   ]
  },
  {
   "cell_type": "code",
   "execution_count": 32,
   "metadata": {},
   "outputs": [
    {
     "data": {
      "text/html": [
       "<div>\n",
       "<style scoped>\n",
       "    .dataframe tbody tr th:only-of-type {\n",
       "        vertical-align: middle;\n",
       "    }\n",
       "\n",
       "    .dataframe tbody tr th {\n",
       "        vertical-align: top;\n",
       "    }\n",
       "\n",
       "    .dataframe thead th {\n",
       "        text-align: right;\n",
       "    }\n",
       "</style>\n",
       "<table border=\"1\" class=\"dataframe\">\n",
       "  <thead>\n",
       "    <tr style=\"text-align: right;\">\n",
       "      <th></th>\n",
       "      <th>Open</th>\n",
       "      <th>High</th>\n",
       "      <th>Low</th>\n",
       "      <th>Close</th>\n",
       "      <th>Adj Close</th>\n",
       "      <th>Volume</th>\n",
       "    </tr>\n",
       "    <tr>\n",
       "      <th>Date</th>\n",
       "      <th></th>\n",
       "      <th></th>\n",
       "      <th></th>\n",
       "      <th></th>\n",
       "      <th></th>\n",
       "      <th></th>\n",
       "    </tr>\n",
       "  </thead>\n",
       "  <tbody>\n",
       "    <tr>\n",
       "      <th>2022-01-03</th>\n",
       "      <td>NaN</td>\n",
       "      <td>NaN</td>\n",
       "      <td>NaN</td>\n",
       "      <td>NaN</td>\n",
       "      <td>NaN</td>\n",
       "      <td>NaN</td>\n",
       "    </tr>\n",
       "    <tr>\n",
       "      <th>2022-01-04</th>\n",
       "      <td>1.026992</td>\n",
       "      <td>1.000328</td>\n",
       "      <td>1.007934</td>\n",
       "      <td>0.987308</td>\n",
       "      <td>0.987308</td>\n",
       "      <td>0.950449</td>\n",
       "    </tr>\n",
       "    <tr>\n",
       "      <th>2022-01-05</th>\n",
       "      <td>0.983464</td>\n",
       "      <td>0.984858</td>\n",
       "      <td>0.974989</td>\n",
       "      <td>0.973400</td>\n",
       "      <td>0.973400</td>\n",
       "      <td>0.951941</td>\n",
       "    </tr>\n",
       "    <tr>\n",
       "      <th>2022-01-06</th>\n",
       "      <td>0.961528</td>\n",
       "      <td>0.972970</td>\n",
       "      <td>0.982822</td>\n",
       "      <td>0.983307</td>\n",
       "      <td>0.983307</td>\n",
       "      <td>1.025031</td>\n",
       "    </tr>\n",
       "    <tr>\n",
       "      <th>2022-01-07</th>\n",
       "      <td>1.001100</td>\n",
       "      <td>0.993383</td>\n",
       "      <td>0.996446</td>\n",
       "      <td>1.000988</td>\n",
       "      <td>1.000988</td>\n",
       "      <td>0.894794</td>\n",
       "    </tr>\n",
       "    <tr>\n",
       "      <th>...</th>\n",
       "      <td>...</td>\n",
       "      <td>...</td>\n",
       "      <td>...</td>\n",
       "      <td>...</td>\n",
       "      <td>...</td>\n",
       "      <td>...</td>\n",
       "    </tr>\n",
       "    <tr>\n",
       "      <th>2022-12-23</th>\n",
       "      <td>0.974470</td>\n",
       "      <td>0.984096</td>\n",
       "      <td>0.994935</td>\n",
       "      <td>0.997202</td>\n",
       "      <td>0.997202</td>\n",
       "      <td>0.819694</td>\n",
       "    </tr>\n",
       "    <tr>\n",
       "      <th>2022-12-27</th>\n",
       "      <td>1.003514</td>\n",
       "      <td>0.992373</td>\n",
       "      <td>0.992903</td>\n",
       "      <td>0.986122</td>\n",
       "      <td>0.986122</td>\n",
       "      <td>1.081374</td>\n",
       "    </tr>\n",
       "    <tr>\n",
       "      <th>2022-12-28</th>\n",
       "      <td>0.986984</td>\n",
       "      <td>0.997108</td>\n",
       "      <td>0.977859</td>\n",
       "      <td>0.969315</td>\n",
       "      <td>0.969315</td>\n",
       "      <td>1.238098</td>\n",
       "    </tr>\n",
       "    <tr>\n",
       "      <th>2022-12-29</th>\n",
       "      <td>0.987044</td>\n",
       "      <td>0.995802</td>\n",
       "      <td>1.014777</td>\n",
       "      <td>1.028324</td>\n",
       "      <td>1.028324</td>\n",
       "      <td>0.886062</td>\n",
       "    </tr>\n",
       "    <tr>\n",
       "      <th>2022-12-30</th>\n",
       "      <td>1.003282</td>\n",
       "      <td>0.995938</td>\n",
       "      <td>0.997651</td>\n",
       "      <td>1.002469</td>\n",
       "      <td>1.002469</td>\n",
       "      <td>1.016603</td>\n",
       "    </tr>\n",
       "  </tbody>\n",
       "</table>\n",
       "<p>251 rows × 6 columns</p>\n",
       "</div>"
      ],
      "text/plain": [
       "                Open      High       Low     Close  Adj Close    Volume\n",
       "Date                                                                   \n",
       "2022-01-03       NaN       NaN       NaN       NaN        NaN       NaN\n",
       "2022-01-04  1.026992  1.000328  1.007934  0.987308   0.987308  0.950449\n",
       "2022-01-05  0.983464  0.984858  0.974989  0.973400   0.973400  0.951941\n",
       "2022-01-06  0.961528  0.972970  0.982822  0.983307   0.983307  1.025031\n",
       "2022-01-07  1.001100  0.993383  0.996446  1.000988   1.000988  0.894794\n",
       "...              ...       ...       ...       ...        ...       ...\n",
       "2022-12-23  0.974470  0.984096  0.994935  0.997202   0.997202  0.819694\n",
       "2022-12-27  1.003514  0.992373  0.992903  0.986122   0.986122  1.081374\n",
       "2022-12-28  0.986984  0.997108  0.977859  0.969315   0.969315  1.238098\n",
       "2022-12-29  0.987044  0.995802  1.014777  1.028324   1.028324  0.886062\n",
       "2022-12-30  1.003282  0.995938  0.997651  1.002469   1.002469  1.016603\n",
       "\n",
       "[251 rows x 6 columns]"
      ]
     },
     "execution_count": 32,
     "metadata": {},
     "output_type": "execute_result"
    }
   ],
   "source": [
    "data/data.shift()"
   ]
  },
  {
   "cell_type": "code",
   "execution_count": 33,
   "metadata": {},
   "outputs": [
    {
     "data": {
      "text/html": [
       "<div>\n",
       "<style scoped>\n",
       "    .dataframe tbody tr th:only-of-type {\n",
       "        vertical-align: middle;\n",
       "    }\n",
       "\n",
       "    .dataframe tbody tr th {\n",
       "        vertical-align: top;\n",
       "    }\n",
       "\n",
       "    .dataframe thead th {\n",
       "        text-align: right;\n",
       "    }\n",
       "</style>\n",
       "<table border=\"1\" class=\"dataframe\">\n",
       "  <thead>\n",
       "    <tr style=\"text-align: right;\">\n",
       "      <th></th>\n",
       "      <th>Open</th>\n",
       "      <th>High</th>\n",
       "      <th>Low</th>\n",
       "      <th>Close</th>\n",
       "      <th>Adj Close</th>\n",
       "      <th>Volume</th>\n",
       "    </tr>\n",
       "    <tr>\n",
       "      <th>Date</th>\n",
       "      <th></th>\n",
       "      <th></th>\n",
       "      <th></th>\n",
       "      <th></th>\n",
       "      <th></th>\n",
       "      <th></th>\n",
       "    </tr>\n",
       "  </thead>\n",
       "  <tbody>\n",
       "    <tr>\n",
       "      <th>2022-01-03</th>\n",
       "      <td>177.830002</td>\n",
       "      <td>182.880005</td>\n",
       "      <td>177.710007</td>\n",
       "      <td>182.009995</td>\n",
       "      <td>180.683868</td>\n",
       "      <td>104487900</td>\n",
       "    </tr>\n",
       "    <tr>\n",
       "      <th>2022-01-04</th>\n",
       "      <td>182.630005</td>\n",
       "      <td>182.940002</td>\n",
       "      <td>179.119995</td>\n",
       "      <td>179.699997</td>\n",
       "      <td>178.390701</td>\n",
       "      <td>99310400</td>\n",
       "    </tr>\n",
       "    <tr>\n",
       "      <th>2022-01-05</th>\n",
       "      <td>179.610001</td>\n",
       "      <td>180.169998</td>\n",
       "      <td>174.639999</td>\n",
       "      <td>174.919998</td>\n",
       "      <td>173.645538</td>\n",
       "      <td>94537600</td>\n",
       "    </tr>\n",
       "    <tr>\n",
       "      <th>2022-01-06</th>\n",
       "      <td>172.699997</td>\n",
       "      <td>175.300003</td>\n",
       "      <td>171.639999</td>\n",
       "      <td>172.000000</td>\n",
       "      <td>170.746811</td>\n",
       "      <td>96904000</td>\n",
       "    </tr>\n",
       "    <tr>\n",
       "      <th>2022-01-07</th>\n",
       "      <td>172.889999</td>\n",
       "      <td>174.139999</td>\n",
       "      <td>171.029999</td>\n",
       "      <td>172.169998</td>\n",
       "      <td>170.915588</td>\n",
       "      <td>86709100</td>\n",
       "    </tr>\n",
       "  </tbody>\n",
       "</table>\n",
       "</div>"
      ],
      "text/plain": [
       "                  Open        High         Low       Close   Adj Close  \\\n",
       "Date                                                                     \n",
       "2022-01-03  177.830002  182.880005  177.710007  182.009995  180.683868   \n",
       "2022-01-04  182.630005  182.940002  179.119995  179.699997  178.390701   \n",
       "2022-01-05  179.610001  180.169998  174.639999  174.919998  173.645538   \n",
       "2022-01-06  172.699997  175.300003  171.639999  172.000000  170.746811   \n",
       "2022-01-07  172.889999  174.139999  171.029999  172.169998  170.915588   \n",
       "\n",
       "               Volume  \n",
       "Date                   \n",
       "2022-01-03  104487900  \n",
       "2022-01-04   99310400  \n",
       "2022-01-05   94537600  \n",
       "2022-01-06   96904000  \n",
       "2022-01-07   86709100  "
      ]
     },
     "execution_count": 33,
     "metadata": {},
     "output_type": "execute_result"
    }
   ],
   "source": [
    "data.head()"
   ]
  },
  {
   "cell_type": "code",
   "execution_count": 34,
   "metadata": {},
   "outputs": [
    {
     "data": {
      "text/plain": [
       "1.0269920876455931"
      ]
     },
     "execution_count": 34,
     "metadata": {},
     "output_type": "execute_result"
    }
   ],
   "source": [
    "182.630005/177.830002"
   ]
  },
  {
   "cell_type": "code",
   "execution_count": 35,
   "metadata": {},
   "outputs": [
    {
     "data": {
      "text/plain": [
       "Open        -0.325600\n",
       "High        -0.341680\n",
       "Low         -0.332586\n",
       "Close       -0.337066\n",
       "Adj Close   -0.331279\n",
       "Volume      -0.305778\n",
       "dtype: float64"
      ]
     },
     "execution_count": 35,
     "metadata": {},
     "output_type": "execute_result"
    }
   ],
   "source": [
    "np.sum(np.log(data/data.shift()))"
   ]
  },
  {
   "cell_type": "code",
   "execution_count": 36,
   "metadata": {},
   "outputs": [
    {
     "data": {
      "text/html": [
       "<div>\n",
       "<style scoped>\n",
       "    .dataframe tbody tr th:only-of-type {\n",
       "        vertical-align: middle;\n",
       "    }\n",
       "\n",
       "    .dataframe tbody tr th {\n",
       "        vertical-align: top;\n",
       "    }\n",
       "\n",
       "    .dataframe thead th {\n",
       "        text-align: right;\n",
       "    }\n",
       "</style>\n",
       "<table border=\"1\" class=\"dataframe\">\n",
       "  <thead>\n",
       "    <tr style=\"text-align: right;\">\n",
       "      <th></th>\n",
       "      <th>Open</th>\n",
       "      <th>High</th>\n",
       "      <th>Low</th>\n",
       "      <th>Close</th>\n",
       "      <th>Adj Close</th>\n",
       "      <th>Volume</th>\n",
       "    </tr>\n",
       "    <tr>\n",
       "      <th>Date</th>\n",
       "      <th></th>\n",
       "      <th></th>\n",
       "      <th></th>\n",
       "      <th></th>\n",
       "      <th></th>\n",
       "      <th></th>\n",
       "    </tr>\n",
       "  </thead>\n",
       "  <tbody>\n",
       "    <tr>\n",
       "      <th>2022-12-30</th>\n",
       "      <td>-0.3256</td>\n",
       "      <td>-0.34168</td>\n",
       "      <td>-0.332586</td>\n",
       "      <td>-0.337066</td>\n",
       "      <td>-0.331279</td>\n",
       "      <td>-0.305778</td>\n",
       "    </tr>\n",
       "  </tbody>\n",
       "</table>\n",
       "</div>"
      ],
      "text/plain": [
       "              Open     High       Low     Close  Adj Close    Volume\n",
       "Date                                                                \n",
       "2022-12-30 -0.3256 -0.34168 -0.332586 -0.337066  -0.331279 -0.305778"
      ]
     },
     "execution_count": 36,
     "metadata": {},
     "output_type": "execute_result"
    }
   ],
   "source": [
    "np.log(data/data.iloc[0]).tail(1)"
   ]
  },
  {
   "cell_type": "markdown",
   "metadata": {},
   "source": [
    "Compare the tweo results above, explain the differences and what conclusion you have draw?"
   ]
  },
  {
   "cell_type": "code",
   "execution_count": 37,
   "metadata": {},
   "outputs": [
    {
     "data": {
      "text/html": [
       "<div>\n",
       "<style scoped>\n",
       "    .dataframe tbody tr th:only-of-type {\n",
       "        vertical-align: middle;\n",
       "    }\n",
       "\n",
       "    .dataframe tbody tr th {\n",
       "        vertical-align: top;\n",
       "    }\n",
       "\n",
       "    .dataframe thead th {\n",
       "        text-align: right;\n",
       "    }\n",
       "</style>\n",
       "<table border=\"1\" class=\"dataframe\">\n",
       "  <thead>\n",
       "    <tr style=\"text-align: right;\">\n",
       "      <th></th>\n",
       "      <th>Open</th>\n",
       "      <th>High</th>\n",
       "      <th>Low</th>\n",
       "      <th>Close</th>\n",
       "      <th>Adj Close</th>\n",
       "      <th>Volume</th>\n",
       "    </tr>\n",
       "    <tr>\n",
       "      <th>Date</th>\n",
       "      <th></th>\n",
       "      <th></th>\n",
       "      <th></th>\n",
       "      <th></th>\n",
       "      <th></th>\n",
       "      <th></th>\n",
       "    </tr>\n",
       "  </thead>\n",
       "  <tbody>\n",
       "    <tr>\n",
       "      <th>2022-01-03</th>\n",
       "      <td>1.000000</td>\n",
       "      <td>1.000000</td>\n",
       "      <td>1.000000</td>\n",
       "      <td>1.000000</td>\n",
       "      <td>1.000000</td>\n",
       "      <td>1.000000</td>\n",
       "    </tr>\n",
       "    <tr>\n",
       "      <th>2022-01-04</th>\n",
       "      <td>1.026992</td>\n",
       "      <td>1.000328</td>\n",
       "      <td>1.007934</td>\n",
       "      <td>0.987308</td>\n",
       "      <td>0.987308</td>\n",
       "      <td>0.950449</td>\n",
       "    </tr>\n",
       "    <tr>\n",
       "      <th>2022-01-05</th>\n",
       "      <td>1.010010</td>\n",
       "      <td>0.985182</td>\n",
       "      <td>0.982725</td>\n",
       "      <td>0.961046</td>\n",
       "      <td>0.961046</td>\n",
       "      <td>0.904771</td>\n",
       "    </tr>\n",
       "    <tr>\n",
       "      <th>2022-01-06</th>\n",
       "      <td>0.971152</td>\n",
       "      <td>0.958552</td>\n",
       "      <td>0.965843</td>\n",
       "      <td>0.945003</td>\n",
       "      <td>0.945003</td>\n",
       "      <td>0.927418</td>\n",
       "    </tr>\n",
       "    <tr>\n",
       "      <th>2022-01-07</th>\n",
       "      <td>0.972221</td>\n",
       "      <td>0.952209</td>\n",
       "      <td>0.962411</td>\n",
       "      <td>0.945937</td>\n",
       "      <td>0.945937</td>\n",
       "      <td>0.829848</td>\n",
       "    </tr>\n",
       "    <tr>\n",
       "      <th>...</th>\n",
       "      <td>...</td>\n",
       "      <td>...</td>\n",
       "      <td>...</td>\n",
       "      <td>...</td>\n",
       "      <td>...</td>\n",
       "      <td>...</td>\n",
       "    </tr>\n",
       "    <tr>\n",
       "      <th>2022-12-23</th>\n",
       "      <td>0.736209</td>\n",
       "      <td>0.724081</td>\n",
       "      <td>0.729503</td>\n",
       "      <td>0.724466</td>\n",
       "      <td>0.728670</td>\n",
       "      <td>0.610740</td>\n",
       "    </tr>\n",
       "    <tr>\n",
       "      <th>2022-12-27</th>\n",
       "      <td>0.738795</td>\n",
       "      <td>0.718559</td>\n",
       "      <td>0.724326</td>\n",
       "      <td>0.714411</td>\n",
       "      <td>0.718558</td>\n",
       "      <td>0.660438</td>\n",
       "    </tr>\n",
       "    <tr>\n",
       "      <th>2022-12-28</th>\n",
       "      <td>0.729180</td>\n",
       "      <td>0.716481</td>\n",
       "      <td>0.708289</td>\n",
       "      <td>0.692489</td>\n",
       "      <td>0.696509</td>\n",
       "      <td>0.817687</td>\n",
       "    </tr>\n",
       "    <tr>\n",
       "      <th>2022-12-29</th>\n",
       "      <td>0.719732</td>\n",
       "      <td>0.713473</td>\n",
       "      <td>0.718755</td>\n",
       "      <td>0.712104</td>\n",
       "      <td>0.716237</td>\n",
       "      <td>0.724521</td>\n",
       "    </tr>\n",
       "    <tr>\n",
       "      <th>2022-12-30</th>\n",
       "      <td>0.722094</td>\n",
       "      <td>0.710575</td>\n",
       "      <td>0.717067</td>\n",
       "      <td>0.713862</td>\n",
       "      <td>0.718005</td>\n",
       "      <td>0.736550</td>\n",
       "    </tr>\n",
       "  </tbody>\n",
       "</table>\n",
       "<p>251 rows × 6 columns</p>\n",
       "</div>"
      ],
      "text/plain": [
       "                Open      High       Low     Close  Adj Close    Volume\n",
       "Date                                                                   \n",
       "2022-01-03  1.000000  1.000000  1.000000  1.000000   1.000000  1.000000\n",
       "2022-01-04  1.026992  1.000328  1.007934  0.987308   0.987308  0.950449\n",
       "2022-01-05  1.010010  0.985182  0.982725  0.961046   0.961046  0.904771\n",
       "2022-01-06  0.971152  0.958552  0.965843  0.945003   0.945003  0.927418\n",
       "2022-01-07  0.972221  0.952209  0.962411  0.945937   0.945937  0.829848\n",
       "...              ...       ...       ...       ...        ...       ...\n",
       "2022-12-23  0.736209  0.724081  0.729503  0.724466   0.728670  0.610740\n",
       "2022-12-27  0.738795  0.718559  0.724326  0.714411   0.718558  0.660438\n",
       "2022-12-28  0.729180  0.716481  0.708289  0.692489   0.696509  0.817687\n",
       "2022-12-29  0.719732  0.713473  0.718755  0.712104   0.716237  0.724521\n",
       "2022-12-30  0.722094  0.710575  0.717067  0.713862   0.718005  0.736550\n",
       "\n",
       "[251 rows x 6 columns]"
      ]
     },
     "execution_count": 37,
     "metadata": {},
     "output_type": "execute_result"
    }
   ],
   "source": [
    "data/data.iloc[0]"
   ]
  },
  {
   "cell_type": "code",
   "execution_count": 38,
   "metadata": {},
   "outputs": [
    {
     "data": {
      "text/html": [
       "<div>\n",
       "<style scoped>\n",
       "    .dataframe tbody tr th:only-of-type {\n",
       "        vertical-align: middle;\n",
       "    }\n",
       "\n",
       "    .dataframe tbody tr th {\n",
       "        vertical-align: top;\n",
       "    }\n",
       "\n",
       "    .dataframe thead th {\n",
       "        text-align: right;\n",
       "    }\n",
       "</style>\n",
       "<table border=\"1\" class=\"dataframe\">\n",
       "  <thead>\n",
       "    <tr style=\"text-align: right;\">\n",
       "      <th></th>\n",
       "      <th>Open</th>\n",
       "      <th>High</th>\n",
       "      <th>Low</th>\n",
       "      <th>Close</th>\n",
       "      <th>Adj Close</th>\n",
       "      <th>Volume</th>\n",
       "    </tr>\n",
       "    <tr>\n",
       "      <th>Date</th>\n",
       "      <th></th>\n",
       "      <th></th>\n",
       "      <th></th>\n",
       "      <th></th>\n",
       "      <th></th>\n",
       "      <th></th>\n",
       "    </tr>\n",
       "  </thead>\n",
       "  <tbody>\n",
       "    <tr>\n",
       "      <th>2022-01-03</th>\n",
       "      <td>0.000000</td>\n",
       "      <td>0.000000</td>\n",
       "      <td>0.000000</td>\n",
       "      <td>0.000000</td>\n",
       "      <td>0.000000</td>\n",
       "      <td>0.000000</td>\n",
       "    </tr>\n",
       "    <tr>\n",
       "      <th>2022-01-04</th>\n",
       "      <td>0.026634</td>\n",
       "      <td>0.000328</td>\n",
       "      <td>0.007903</td>\n",
       "      <td>-0.012773</td>\n",
       "      <td>-0.012773</td>\n",
       "      <td>-0.050821</td>\n",
       "    </tr>\n",
       "    <tr>\n",
       "      <th>2022-01-05</th>\n",
       "      <td>0.009960</td>\n",
       "      <td>-0.014929</td>\n",
       "      <td>-0.017426</td>\n",
       "      <td>-0.039733</td>\n",
       "      <td>-0.039733</td>\n",
       "      <td>-0.100074</td>\n",
       "    </tr>\n",
       "    <tr>\n",
       "      <th>2022-01-06</th>\n",
       "      <td>-0.029272</td>\n",
       "      <td>-0.042331</td>\n",
       "      <td>-0.034754</td>\n",
       "      <td>-0.056567</td>\n",
       "      <td>-0.056567</td>\n",
       "      <td>-0.075350</td>\n",
       "    </tr>\n",
       "    <tr>\n",
       "      <th>2022-01-07</th>\n",
       "      <td>-0.028172</td>\n",
       "      <td>-0.048971</td>\n",
       "      <td>-0.038314</td>\n",
       "      <td>-0.055579</td>\n",
       "      <td>-0.055579</td>\n",
       "      <td>-0.186512</td>\n",
       "    </tr>\n",
       "    <tr>\n",
       "      <th>...</th>\n",
       "      <td>...</td>\n",
       "      <td>...</td>\n",
       "      <td>...</td>\n",
       "      <td>...</td>\n",
       "      <td>...</td>\n",
       "      <td>...</td>\n",
       "    </tr>\n",
       "    <tr>\n",
       "      <th>2022-12-23</th>\n",
       "      <td>-0.306242</td>\n",
       "      <td>-0.322852</td>\n",
       "      <td>-0.315392</td>\n",
       "      <td>-0.322321</td>\n",
       "      <td>-0.316534</td>\n",
       "      <td>-0.493085</td>\n",
       "    </tr>\n",
       "    <tr>\n",
       "      <th>2022-12-27</th>\n",
       "      <td>-0.302734</td>\n",
       "      <td>-0.330508</td>\n",
       "      <td>-0.322514</td>\n",
       "      <td>-0.336296</td>\n",
       "      <td>-0.330509</td>\n",
       "      <td>-0.414852</td>\n",
       "    </tr>\n",
       "    <tr>\n",
       "      <th>2022-12-28</th>\n",
       "      <td>-0.315835</td>\n",
       "      <td>-0.333404</td>\n",
       "      <td>-0.344903</td>\n",
       "      <td>-0.367462</td>\n",
       "      <td>-0.361675</td>\n",
       "      <td>-0.201276</td>\n",
       "    </tr>\n",
       "    <tr>\n",
       "      <th>2022-12-29</th>\n",
       "      <td>-0.328876</td>\n",
       "      <td>-0.337610</td>\n",
       "      <td>-0.330234</td>\n",
       "      <td>-0.339532</td>\n",
       "      <td>-0.333745</td>\n",
       "      <td>-0.322244</td>\n",
       "    </tr>\n",
       "    <tr>\n",
       "      <th>2022-12-30</th>\n",
       "      <td>-0.325600</td>\n",
       "      <td>-0.341680</td>\n",
       "      <td>-0.332586</td>\n",
       "      <td>-0.337066</td>\n",
       "      <td>-0.331279</td>\n",
       "      <td>-0.305778</td>\n",
       "    </tr>\n",
       "  </tbody>\n",
       "</table>\n",
       "<p>251 rows × 6 columns</p>\n",
       "</div>"
      ],
      "text/plain": [
       "                Open      High       Low     Close  Adj Close    Volume\n",
       "Date                                                                   \n",
       "2022-01-03  0.000000  0.000000  0.000000  0.000000   0.000000  0.000000\n",
       "2022-01-04  0.026634  0.000328  0.007903 -0.012773  -0.012773 -0.050821\n",
       "2022-01-05  0.009960 -0.014929 -0.017426 -0.039733  -0.039733 -0.100074\n",
       "2022-01-06 -0.029272 -0.042331 -0.034754 -0.056567  -0.056567 -0.075350\n",
       "2022-01-07 -0.028172 -0.048971 -0.038314 -0.055579  -0.055579 -0.186512\n",
       "...              ...       ...       ...       ...        ...       ...\n",
       "2022-12-23 -0.306242 -0.322852 -0.315392 -0.322321  -0.316534 -0.493085\n",
       "2022-12-27 -0.302734 -0.330508 -0.322514 -0.336296  -0.330509 -0.414852\n",
       "2022-12-28 -0.315835 -0.333404 -0.344903 -0.367462  -0.361675 -0.201276\n",
       "2022-12-29 -0.328876 -0.337610 -0.330234 -0.339532  -0.333745 -0.322244\n",
       "2022-12-30 -0.325600 -0.341680 -0.332586 -0.337066  -0.331279 -0.305778\n",
       "\n",
       "[251 rows x 6 columns]"
      ]
     },
     "execution_count": 38,
     "metadata": {},
     "output_type": "execute_result"
    }
   ],
   "source": [
    "np.log(data/data.iloc[0])"
   ]
  },
  {
   "cell_type": "markdown",
   "metadata": {},
   "source": [
    "### Shape \n",
    "\n",
    "In numpy, reshape is a method used to change the shape (i.e., number of rows and columns) of a numpy array while maintaining the same number of elements. The reshape method returns a new numpy array with the specified shape and does not modify the original array in place."
   ]
  },
  {
   "cell_type": "code",
   "execution_count": 44,
   "metadata": {},
   "outputs": [
    {
     "data": {
      "text/plain": [
       "(10,)"
      ]
     },
     "execution_count": 44,
     "metadata": {},
     "output_type": "execute_result"
    }
   ],
   "source": [
    "small.shape"
   ]
  },
  {
   "cell_type": "code",
   "execution_count": 40,
   "metadata": {},
   "outputs": [
    {
     "data": {
      "text/plain": [
       "array([177.83000183, 182.63000488, 179.61000061, 172.69999695,\n",
       "       172.88999939, 169.08000183, 172.32000732, 176.11999512,\n",
       "       175.77999878, 171.33999634])"
      ]
     },
     "execution_count": 40,
     "metadata": {},
     "output_type": "execute_result"
    }
   ],
   "source": [
    "small"
   ]
  },
  {
   "cell_type": "code",
   "execution_count": 41,
   "metadata": {},
   "outputs": [
    {
     "data": {
      "text/plain": [
       "array([[177.83000183, 182.63000488, 179.61000061, 172.69999695,\n",
       "        172.88999939],\n",
       "       [169.08000183, 172.32000732, 176.11999512, 175.77999878,\n",
       "        171.33999634]])"
      ]
     },
     "execution_count": 41,
     "metadata": {},
     "output_type": "execute_result"
    }
   ],
   "source": [
    "small.reshape(2, 5)"
   ]
  },
  {
   "cell_type": "code",
   "execution_count": 42,
   "metadata": {},
   "outputs": [
    {
     "data": {
      "text/plain": [
       "array([[177.83000183],\n",
       "       [182.63000488],\n",
       "       [179.61000061],\n",
       "       [172.69999695],\n",
       "       [172.88999939],\n",
       "       [169.08000183],\n",
       "       [172.32000732],\n",
       "       [176.11999512],\n",
       "       [175.77999878],\n",
       "       [171.33999634]])"
      ]
     },
     "execution_count": 42,
     "metadata": {},
     "output_type": "execute_result"
    }
   ],
   "source": [
    "small.reshape(10, 1)"
   ]
  },
  {
   "cell_type": "code",
   "execution_count": 43,
   "metadata": {},
   "outputs": [
    {
     "data": {
      "text/plain": [
       "array([[177.83000183],\n",
       "       [182.63000488],\n",
       "       [179.61000061],\n",
       "       [172.69999695],\n",
       "       [172.88999939],\n",
       "       [169.08000183],\n",
       "       [172.32000732],\n",
       "       [176.11999512],\n",
       "       [175.77999878],\n",
       "       [171.33999634]])"
      ]
     },
     "execution_count": 43,
     "metadata": {},
     "output_type": "execute_result"
    }
   ],
   "source": [
    "small.reshape(-1, 1)"
   ]
  },
  {
   "cell_type": "markdown",
   "metadata": {},
   "source": [
    "### Portfolios"
   ]
  },
  {
   "cell_type": "code",
   "execution_count": 46,
   "metadata": {},
   "outputs": [
    {
     "name": "stdout",
     "output_type": "stream",
     "text": [
      "[*********************100%***********************]  4 of 4 completed\n"
     ]
    }
   ],
   "source": [
    "# Get portfolios\n",
    "\n",
    "tickers = ['AAPL', 'MSFT', 'TWTR', 'IBM']\n",
    "start = '2020-01-01'\n",
    "end = '2020-12-31'\n",
    "data = yf.download(tickers, start, end)\n"
   ]
  },
  {
   "cell_type": "code",
   "execution_count": 47,
   "metadata": {},
   "outputs": [
    {
     "data": {
      "text/html": [
       "<div>\n",
       "<style scoped>\n",
       "    .dataframe tbody tr th:only-of-type {\n",
       "        vertical-align: middle;\n",
       "    }\n",
       "\n",
       "    .dataframe tbody tr th {\n",
       "        vertical-align: top;\n",
       "    }\n",
       "\n",
       "    .dataframe thead tr th {\n",
       "        text-align: left;\n",
       "    }\n",
       "\n",
       "    .dataframe thead tr:last-of-type th {\n",
       "        text-align: right;\n",
       "    }\n",
       "</style>\n",
       "<table border=\"1\" class=\"dataframe\">\n",
       "  <thead>\n",
       "    <tr>\n",
       "      <th></th>\n",
       "      <th colspan=\"4\" halign=\"left\">Adj Close</th>\n",
       "      <th colspan=\"4\" halign=\"left\">Close</th>\n",
       "      <th colspan=\"2\" halign=\"left\">High</th>\n",
       "      <th>...</th>\n",
       "      <th colspan=\"2\" halign=\"left\">Low</th>\n",
       "      <th colspan=\"4\" halign=\"left\">Open</th>\n",
       "      <th colspan=\"4\" halign=\"left\">Volume</th>\n",
       "    </tr>\n",
       "    <tr>\n",
       "      <th></th>\n",
       "      <th>AAPL</th>\n",
       "      <th>IBM</th>\n",
       "      <th>MSFT</th>\n",
       "      <th>TWTR</th>\n",
       "      <th>AAPL</th>\n",
       "      <th>IBM</th>\n",
       "      <th>MSFT</th>\n",
       "      <th>TWTR</th>\n",
       "      <th>AAPL</th>\n",
       "      <th>IBM</th>\n",
       "      <th>...</th>\n",
       "      <th>MSFT</th>\n",
       "      <th>TWTR</th>\n",
       "      <th>AAPL</th>\n",
       "      <th>IBM</th>\n",
       "      <th>MSFT</th>\n",
       "      <th>TWTR</th>\n",
       "      <th>AAPL</th>\n",
       "      <th>IBM</th>\n",
       "      <th>MSFT</th>\n",
       "      <th>TWTR</th>\n",
       "    </tr>\n",
       "    <tr>\n",
       "      <th>Date</th>\n",
       "      <th></th>\n",
       "      <th></th>\n",
       "      <th></th>\n",
       "      <th></th>\n",
       "      <th></th>\n",
       "      <th></th>\n",
       "      <th></th>\n",
       "      <th></th>\n",
       "      <th></th>\n",
       "      <th></th>\n",
       "      <th></th>\n",
       "      <th></th>\n",
       "      <th></th>\n",
       "      <th></th>\n",
       "      <th></th>\n",
       "      <th></th>\n",
       "      <th></th>\n",
       "      <th></th>\n",
       "      <th></th>\n",
       "      <th></th>\n",
       "      <th></th>\n",
       "    </tr>\n",
       "  </thead>\n",
       "  <tbody>\n",
       "    <tr>\n",
       "      <th>2020-01-02</th>\n",
       "      <td>73.449402</td>\n",
       "      <td>110.232491</td>\n",
       "      <td>155.761826</td>\n",
       "      <td>32.299999</td>\n",
       "      <td>75.087502</td>\n",
       "      <td>129.464630</td>\n",
       "      <td>160.619995</td>\n",
       "      <td>32.299999</td>\n",
       "      <td>75.150002</td>\n",
       "      <td>129.942642</td>\n",
       "      <td>...</td>\n",
       "      <td>158.330002</td>\n",
       "      <td>31.959999</td>\n",
       "      <td>74.059998</td>\n",
       "      <td>129.063095</td>\n",
       "      <td>158.779999</td>\n",
       "      <td>32.310001</td>\n",
       "      <td>135480400</td>\n",
       "      <td>3293436</td>\n",
       "      <td>22622100</td>\n",
       "      <td>10694420</td>\n",
       "    </tr>\n",
       "    <tr>\n",
       "      <th>2020-01-03</th>\n",
       "      <td>72.735321</td>\n",
       "      <td>109.353386</td>\n",
       "      <td>153.822296</td>\n",
       "      <td>31.520000</td>\n",
       "      <td>74.357498</td>\n",
       "      <td>128.432129</td>\n",
       "      <td>158.619995</td>\n",
       "      <td>31.520000</td>\n",
       "      <td>75.144997</td>\n",
       "      <td>128.929260</td>\n",
       "      <td>...</td>\n",
       "      <td>158.059998</td>\n",
       "      <td>31.260000</td>\n",
       "      <td>74.287498</td>\n",
       "      <td>127.695984</td>\n",
       "      <td>158.320007</td>\n",
       "      <td>31.709999</td>\n",
       "      <td>146322800</td>\n",
       "      <td>2482890</td>\n",
       "      <td>21116200</td>\n",
       "      <td>14440378</td>\n",
       "    </tr>\n",
       "    <tr>\n",
       "      <th>2020-01-06</th>\n",
       "      <td>73.314888</td>\n",
       "      <td>109.158020</td>\n",
       "      <td>154.219910</td>\n",
       "      <td>31.639999</td>\n",
       "      <td>74.949997</td>\n",
       "      <td>128.202682</td>\n",
       "      <td>159.029999</td>\n",
       "      <td>31.639999</td>\n",
       "      <td>74.989998</td>\n",
       "      <td>128.336517</td>\n",
       "      <td>...</td>\n",
       "      <td>156.509995</td>\n",
       "      <td>31.160000</td>\n",
       "      <td>73.447502</td>\n",
       "      <td>127.552582</td>\n",
       "      <td>157.080002</td>\n",
       "      <td>31.230000</td>\n",
       "      <td>118387200</td>\n",
       "      <td>2537073</td>\n",
       "      <td>20813700</td>\n",
       "      <td>12585831</td>\n",
       "    </tr>\n",
       "    <tr>\n",
       "      <th>2020-01-07</th>\n",
       "      <td>72.970085</td>\n",
       "      <td>109.231270</td>\n",
       "      <td>152.813782</td>\n",
       "      <td>32.540001</td>\n",
       "      <td>74.597504</td>\n",
       "      <td>128.288712</td>\n",
       "      <td>157.580002</td>\n",
       "      <td>32.540001</td>\n",
       "      <td>75.224998</td>\n",
       "      <td>129.024857</td>\n",
       "      <td>...</td>\n",
       "      <td>157.320007</td>\n",
       "      <td>31.719999</td>\n",
       "      <td>74.959999</td>\n",
       "      <td>127.810707</td>\n",
       "      <td>159.320007</td>\n",
       "      <td>31.799999</td>\n",
       "      <td>108872000</td>\n",
       "      <td>3232977</td>\n",
       "      <td>21634100</td>\n",
       "      <td>13484461</td>\n",
       "    </tr>\n",
       "    <tr>\n",
       "      <th>2020-01-08</th>\n",
       "      <td>74.143890</td>\n",
       "      <td>110.142975</td>\n",
       "      <td>155.247833</td>\n",
       "      <td>33.049999</td>\n",
       "      <td>75.797501</td>\n",
       "      <td>129.359467</td>\n",
       "      <td>160.089996</td>\n",
       "      <td>33.049999</td>\n",
       "      <td>76.110001</td>\n",
       "      <td>129.885284</td>\n",
       "      <td>...</td>\n",
       "      <td>157.949997</td>\n",
       "      <td>32.349998</td>\n",
       "      <td>74.290001</td>\n",
       "      <td>128.594650</td>\n",
       "      <td>158.929993</td>\n",
       "      <td>32.349998</td>\n",
       "      <td>132079200</td>\n",
       "      <td>4545916</td>\n",
       "      <td>27746500</td>\n",
       "      <td>14637344</td>\n",
       "    </tr>\n",
       "  </tbody>\n",
       "</table>\n",
       "<p>5 rows × 24 columns</p>\n",
       "</div>"
      ],
      "text/plain": [
       "            Adj Close                                         Close  \\\n",
       "                 AAPL         IBM        MSFT       TWTR       AAPL   \n",
       "Date                                                                  \n",
       "2020-01-02  73.449402  110.232491  155.761826  32.299999  75.087502   \n",
       "2020-01-03  72.735321  109.353386  153.822296  31.520000  74.357498   \n",
       "2020-01-06  73.314888  109.158020  154.219910  31.639999  74.949997   \n",
       "2020-01-07  72.970085  109.231270  152.813782  32.540001  74.597504   \n",
       "2020-01-08  74.143890  110.142975  155.247833  33.049999  75.797501   \n",
       "\n",
       "                                                    High              ...  \\\n",
       "                   IBM        MSFT       TWTR       AAPL         IBM  ...   \n",
       "Date                                                                  ...   \n",
       "2020-01-02  129.464630  160.619995  32.299999  75.150002  129.942642  ...   \n",
       "2020-01-03  128.432129  158.619995  31.520000  75.144997  128.929260  ...   \n",
       "2020-01-06  128.202682  159.029999  31.639999  74.989998  128.336517  ...   \n",
       "2020-01-07  128.288712  157.580002  32.540001  75.224998  129.024857  ...   \n",
       "2020-01-08  129.359467  160.089996  33.049999  76.110001  129.885284  ...   \n",
       "\n",
       "                   Low                  Open                          \\\n",
       "                  MSFT       TWTR       AAPL         IBM        MSFT   \n",
       "Date                                                                   \n",
       "2020-01-02  158.330002  31.959999  74.059998  129.063095  158.779999   \n",
       "2020-01-03  158.059998  31.260000  74.287498  127.695984  158.320007   \n",
       "2020-01-06  156.509995  31.160000  73.447502  127.552582  157.080002   \n",
       "2020-01-07  157.320007  31.719999  74.959999  127.810707  159.320007   \n",
       "2020-01-08  157.949997  32.349998  74.290001  128.594650  158.929993   \n",
       "\n",
       "                          Volume                               \n",
       "                 TWTR       AAPL      IBM      MSFT      TWTR  \n",
       "Date                                                           \n",
       "2020-01-02  32.310001  135480400  3293436  22622100  10694420  \n",
       "2020-01-03  31.709999  146322800  2482890  21116200  14440378  \n",
       "2020-01-06  31.230000  118387200  2537073  20813700  12585831  \n",
       "2020-01-07  31.799999  108872000  3232977  21634100  13484461  \n",
       "2020-01-08  32.349998  132079200  4545916  27746500  14637344  \n",
       "\n",
       "[5 rows x 24 columns]"
      ]
     },
     "execution_count": 47,
     "metadata": {},
     "output_type": "execute_result"
    }
   ],
   "source": [
    "data.head()"
   ]
  },
  {
   "cell_type": "code",
   "execution_count": 48,
   "metadata": {},
   "outputs": [],
   "source": [
    "data = data['Adj Close']"
   ]
  },
  {
   "cell_type": "code",
   "execution_count": 49,
   "metadata": {},
   "outputs": [
    {
     "data": {
      "text/html": [
       "<div>\n",
       "<style scoped>\n",
       "    .dataframe tbody tr th:only-of-type {\n",
       "        vertical-align: middle;\n",
       "    }\n",
       "\n",
       "    .dataframe tbody tr th {\n",
       "        vertical-align: top;\n",
       "    }\n",
       "\n",
       "    .dataframe thead th {\n",
       "        text-align: right;\n",
       "    }\n",
       "</style>\n",
       "<table border=\"1\" class=\"dataframe\">\n",
       "  <thead>\n",
       "    <tr style=\"text-align: right;\">\n",
       "      <th></th>\n",
       "      <th>AAPL</th>\n",
       "      <th>IBM</th>\n",
       "      <th>MSFT</th>\n",
       "      <th>TWTR</th>\n",
       "    </tr>\n",
       "    <tr>\n",
       "      <th>Date</th>\n",
       "      <th></th>\n",
       "      <th></th>\n",
       "      <th></th>\n",
       "      <th></th>\n",
       "    </tr>\n",
       "  </thead>\n",
       "  <tbody>\n",
       "    <tr>\n",
       "      <th>2020-01-02</th>\n",
       "      <td>73.449402</td>\n",
       "      <td>110.232491</td>\n",
       "      <td>155.761826</td>\n",
       "      <td>32.299999</td>\n",
       "    </tr>\n",
       "    <tr>\n",
       "      <th>2020-01-03</th>\n",
       "      <td>72.735321</td>\n",
       "      <td>109.353386</td>\n",
       "      <td>153.822296</td>\n",
       "      <td>31.520000</td>\n",
       "    </tr>\n",
       "    <tr>\n",
       "      <th>2020-01-06</th>\n",
       "      <td>73.314888</td>\n",
       "      <td>109.158020</td>\n",
       "      <td>154.219910</td>\n",
       "      <td>31.639999</td>\n",
       "    </tr>\n",
       "    <tr>\n",
       "      <th>2020-01-07</th>\n",
       "      <td>72.970085</td>\n",
       "      <td>109.231270</td>\n",
       "      <td>152.813782</td>\n",
       "      <td>32.540001</td>\n",
       "    </tr>\n",
       "    <tr>\n",
       "      <th>2020-01-08</th>\n",
       "      <td>74.143890</td>\n",
       "      <td>110.142975</td>\n",
       "      <td>155.247833</td>\n",
       "      <td>33.049999</td>\n",
       "    </tr>\n",
       "  </tbody>\n",
       "</table>\n",
       "</div>"
      ],
      "text/plain": [
       "                 AAPL         IBM        MSFT       TWTR\n",
       "Date                                                    \n",
       "2020-01-02  73.449402  110.232491  155.761826  32.299999\n",
       "2020-01-03  72.735321  109.353386  153.822296  31.520000\n",
       "2020-01-06  73.314888  109.158020  154.219910  31.639999\n",
       "2020-01-07  72.970085  109.231270  152.813782  32.540001\n",
       "2020-01-08  74.143890  110.142975  155.247833  33.049999"
      ]
     },
     "execution_count": 49,
     "metadata": {},
     "output_type": "execute_result"
    }
   ],
   "source": [
    "data.head()"
   ]
  },
  {
   "cell_type": "code",
   "execution_count": 50,
   "metadata": {},
   "outputs": [],
   "source": [
    "portfolios = [.25, .15, .40, .20]"
   ]
  },
  {
   "cell_type": "code",
   "execution_count": 51,
   "metadata": {},
   "outputs": [
    {
     "data": {
      "text/plain": [
       "1.0"
      ]
     },
     "execution_count": 51,
     "metadata": {},
     "output_type": "execute_result"
    }
   ],
   "source": [
    "np.sum(portfolios)"
   ]
  },
  {
   "cell_type": "code",
   "execution_count": 52,
   "metadata": {},
   "outputs": [
    {
     "data": {
      "text/html": [
       "<div>\n",
       "<style scoped>\n",
       "    .dataframe tbody tr th:only-of-type {\n",
       "        vertical-align: middle;\n",
       "    }\n",
       "\n",
       "    .dataframe tbody tr th {\n",
       "        vertical-align: top;\n",
       "    }\n",
       "\n",
       "    .dataframe thead th {\n",
       "        text-align: right;\n",
       "    }\n",
       "</style>\n",
       "<table border=\"1\" class=\"dataframe\">\n",
       "  <thead>\n",
       "    <tr style=\"text-align: right;\">\n",
       "      <th></th>\n",
       "      <th>AAPL</th>\n",
       "      <th>IBM</th>\n",
       "      <th>MSFT</th>\n",
       "      <th>TWTR</th>\n",
       "    </tr>\n",
       "    <tr>\n",
       "      <th>Date</th>\n",
       "      <th></th>\n",
       "      <th></th>\n",
       "      <th></th>\n",
       "      <th></th>\n",
       "    </tr>\n",
       "  </thead>\n",
       "  <tbody>\n",
       "    <tr>\n",
       "      <th>2020-01-02</th>\n",
       "      <td>25000.000000</td>\n",
       "      <td>15000.000000</td>\n",
       "      <td>40000.000000</td>\n",
       "      <td>20000.000000</td>\n",
       "    </tr>\n",
       "    <tr>\n",
       "      <th>2020-01-03</th>\n",
       "      <td>24756.948051</td>\n",
       "      <td>14880.374932</td>\n",
       "      <td>39501.924323</td>\n",
       "      <td>19517.028608</td>\n",
       "    </tr>\n",
       "    <tr>\n",
       "      <th>2020-01-06</th>\n",
       "      <td>24954.215470</td>\n",
       "      <td>14853.790314</td>\n",
       "      <td>39604.032403</td>\n",
       "      <td>19591.331354</td>\n",
       "    </tr>\n",
       "    <tr>\n",
       "      <th>2020-01-07</th>\n",
       "      <td>24836.854794</td>\n",
       "      <td>14863.757859</td>\n",
       "      <td>39242.935472</td>\n",
       "      <td>20148.607854</td>\n",
       "    </tr>\n",
       "    <tr>\n",
       "      <th>2020-01-08</th>\n",
       "      <td>25236.383316</td>\n",
       "      <td>14987.819061</td>\n",
       "      <td>39868.005576</td>\n",
       "      <td>20464.396296</td>\n",
       "    </tr>\n",
       "    <tr>\n",
       "      <th>...</th>\n",
       "      <td>...</td>\n",
       "      <td>...</td>\n",
       "      <td>...</td>\n",
       "      <td>...</td>\n",
       "    </tr>\n",
       "    <tr>\n",
       "      <th>2020-12-23</th>\n",
       "      <td>43979.003154</td>\n",
       "      <td>14443.708030</td>\n",
       "      <td>55624.793361</td>\n",
       "      <td>33622.291343</td>\n",
       "    </tr>\n",
       "    <tr>\n",
       "      <th>2020-12-24</th>\n",
       "      <td>44318.194566</td>\n",
       "      <td>14535.802701</td>\n",
       "      <td>56060.192749</td>\n",
       "      <td>33417.958202</td>\n",
       "    </tr>\n",
       "    <tr>\n",
       "      <th>2020-12-28</th>\n",
       "      <td>45903.257035</td>\n",
       "      <td>14550.959058</td>\n",
       "      <td>56616.387508</td>\n",
       "      <td>33702.787363</td>\n",
       "    </tr>\n",
       "    <tr>\n",
       "      <th>2020-12-29</th>\n",
       "      <td>45292.059133</td>\n",
       "      <td>14432.051371</td>\n",
       "      <td>56412.535767</td>\n",
       "      <td>33659.443897</td>\n",
       "    </tr>\n",
       "    <tr>\n",
       "      <th>2020-12-30</th>\n",
       "      <td>44905.870475</td>\n",
       "      <td>14495.000240</td>\n",
       "      <td>55790.898263</td>\n",
       "      <td>33640.868801</td>\n",
       "    </tr>\n",
       "  </tbody>\n",
       "</table>\n",
       "<p>252 rows × 4 columns</p>\n",
       "</div>"
      ],
      "text/plain": [
       "                    AAPL           IBM          MSFT          TWTR\n",
       "Date                                                              \n",
       "2020-01-02  25000.000000  15000.000000  40000.000000  20000.000000\n",
       "2020-01-03  24756.948051  14880.374932  39501.924323  19517.028608\n",
       "2020-01-06  24954.215470  14853.790314  39604.032403  19591.331354\n",
       "2020-01-07  24836.854794  14863.757859  39242.935472  20148.607854\n",
       "2020-01-08  25236.383316  14987.819061  39868.005576  20464.396296\n",
       "...                  ...           ...           ...           ...\n",
       "2020-12-23  43979.003154  14443.708030  55624.793361  33622.291343\n",
       "2020-12-24  44318.194566  14535.802701  56060.192749  33417.958202\n",
       "2020-12-28  45903.257035  14550.959058  56616.387508  33702.787363\n",
       "2020-12-29  45292.059133  14432.051371  56412.535767  33659.443897\n",
       "2020-12-30  44905.870475  14495.000240  55790.898263  33640.868801\n",
       "\n",
       "[252 rows x 4 columns]"
      ]
     },
     "execution_count": 52,
     "metadata": {},
     "output_type": "execute_result"
    }
   ],
   "source": [
    "(data/data.iloc[0])*portfolios*100000"
   ]
  },
  {
   "cell_type": "markdown",
   "metadata": {},
   "source": [
    "We can get the sum of the full return as follows."
   ]
  },
  {
   "cell_type": "code",
   "execution_count": 53,
   "metadata": {},
   "outputs": [
    {
     "data": {
      "text/plain": [
       "Date\n",
       "2020-01-02    100000.000000\n",
       "2020-01-03     98656.275914\n",
       "2020-01-06     99003.369541\n",
       "2020-01-07     99092.155979\n",
       "2020-01-08    100556.604248\n",
       "                  ...      \n",
       "2020-12-23    147669.795888\n",
       "2020-12-24    148332.148218\n",
       "2020-12-28    150773.390965\n",
       "2020-12-29    149796.090168\n",
       "2020-12-30    148832.637779\n",
       "Length: 252, dtype: float64"
      ]
     },
     "execution_count": 53,
     "metadata": {},
     "output_type": "execute_result"
    }
   ],
   "source": [
    "np.sum((data/data.iloc[0])*portfolios*100000, axis=1)"
   ]
  },
  {
   "cell_type": "markdown",
   "metadata": {},
   "source": [
    "### A random portfolio \n",
    "\n",
    "A random portfolio can be generated as follows with NumPy\n",
    "\n",
    "Actually, when we get to Monte Carlo Simulation, this will be handy. There, we will generate multiple random portfolios and calculate the return and risk for each of them, to optimize the portfolio composition.\n"
   ]
  },
  {
   "cell_type": "code",
   "execution_count": 60,
   "metadata": {},
   "outputs": [
    {
     "data": {
      "text/plain": [
       "array([0.36202807, 0.29171512, 0.02138818, 0.32486863])"
      ]
     },
     "execution_count": 60,
     "metadata": {},
     "output_type": "execute_result"
    }
   ],
   "source": [
    "weight = np.random.random(4)\n",
    "weight /= weight.sum()\n",
    "weight"
   ]
  },
  {
   "cell_type": "code",
   "execution_count": 61,
   "metadata": {},
   "outputs": [
    {
     "data": {
      "text/plain": [
       "1.0"
      ]
     },
     "execution_count": 61,
     "metadata": {},
     "output_type": "execute_result"
    }
   ],
   "source": [
    "weight.sum()"
   ]
  },
  {
   "cell_type": "code",
   "execution_count": 62,
   "metadata": {},
   "outputs": [
    {
     "data": {
      "text/plain": [
       "Date\n",
       "2020-01-02    100000.000000\n",
       "2020-01-03     98656.275914\n",
       "2020-01-06     99003.369541\n",
       "2020-01-07     99092.155979\n",
       "2020-01-08    100556.604248\n",
       "                  ...      \n",
       "2020-12-23    147669.795888\n",
       "2020-12-24    148332.148218\n",
       "2020-12-28    150773.390965\n",
       "2020-12-29    149796.090168\n",
       "2020-12-30    148832.637779\n",
       "Length: 252, dtype: float64"
      ]
     },
     "execution_count": 62,
     "metadata": {},
     "output_type": "execute_result"
    }
   ],
   "source": [
    "np.sum((data/data.iloc[0])*portfolios*100000, axis=1)"
   ]
  },
  {
   "cell_type": "markdown",
   "metadata": {},
   "source": [
    "Compare the random generated portfolio with the portfolio we defined before"
   ]
  },
  {
   "cell_type": "code",
   "execution_count": 63,
   "metadata": {
    "scrolled": true
   },
   "outputs": [
    {
     "data": {
      "text/plain": [
       "Date\n",
       "2020-01-02    100000.000000\n",
       "2020-01-03     98604.246950\n",
       "2020-01-06     98964.364344\n",
       "2020-01-07     99699.697696\n",
       "2020-01-08    101065.901616\n",
       "                  ...      \n",
       "2020-12-23    149364.609312\n",
       "2020-12-24    149726.273155\n",
       "2020-12-28    152543.497459\n",
       "2020-12-29    151345.861760\n",
       "2020-12-30    150845.626558\n",
       "Length: 252, dtype: float64"
      ]
     },
     "execution_count": 63,
     "metadata": {},
     "output_type": "execute_result"
    }
   ],
   "source": [
    "np.sum((data/data.iloc[0])*weight*100000, axis=1)"
   ]
  },
  {
   "cell_type": "markdown",
   "metadata": {},
   "source": [
    "This is just one randomly generated portfolio and it has more return than the initial portfolio. Can we repeat this process and find the best portfolio?"
   ]
  },
  {
   "cell_type": "markdown",
   "metadata": {},
   "source": [
    "# End"
   ]
  },
  {
   "cell_type": "markdown",
   "metadata": {},
   "source": [
    "2023.2.18"
   ]
  }
 ],
 "metadata": {
  "kernelspec": {
   "display_name": "Python 3",
   "language": "python",
   "name": "python3"
  },
  "language_info": {
   "codemirror_mode": {
    "name": "ipython",
    "version": 3
   },
   "file_extension": ".py",
   "mimetype": "text/x-python",
   "name": "python",
   "nbconvert_exporter": "python",
   "pygments_lexer": "ipython3",
   "version": "3.8.8"
  }
 },
 "nbformat": 4,
 "nbformat_minor": 4
}
