{
 "cells": [
  {
   "cell_type": "markdown",
   "metadata": {},
   "source": [
    "# Using Pandas and NumPy\n",
    "## Portfolio and Risk\n",
    "- Pandas Datareader\n",
    "- Pandas\n",
    "- Numpy\n",
    "- Portfolio and return"
   ]
  },
  {
   "cell_type": "markdown",
   "metadata": {},
   "source": [
    "### Resources\n",
    "- Pandas Datareader\n",
    "https://pandas-datareader.readthedocs.io/ (https://youtu.be/sgndYho8RyI)\n",
    "- Pandas https://pandas.pydata.org (https://youtu.be/m8ahf_c9hEc)\n",
    "- NumPy http://numpy.org (Focus here)"
   ]
  },
  {
   "cell_type": "markdown",
   "metadata": {},
   "source": [
    "### Pandas Datareader & Pandas DataFrame"
   ]
  },
  {
   "cell_type": "code",
   "execution_count": 1,
   "metadata": {},
   "outputs": [],
   "source": [
    "import numpy as np\n",
    "import pandas_datareader as pdr\n",
    "import datetime as dt\n",
    "import pandas as pd"
   ]
  },
  {
   "cell_type": "code",
   "execution_count": 2,
   "metadata": {},
   "outputs": [],
   "source": [
    "start = dt.datetime(2020, 1, 1)\n",
    "data = pdr.get_data_yahoo(\"AAPL\", start)"
   ]
  },
  {
   "cell_type": "code",
   "execution_count": 3,
   "metadata": {},
   "outputs": [
    {
     "data": {
      "text/html": [
       "<div>\n",
       "<style scoped>\n",
       "    .dataframe tbody tr th:only-of-type {\n",
       "        vertical-align: middle;\n",
       "    }\n",
       "\n",
       "    .dataframe tbody tr th {\n",
       "        vertical-align: top;\n",
       "    }\n",
       "\n",
       "    .dataframe thead th {\n",
       "        text-align: right;\n",
       "    }\n",
       "</style>\n",
       "<table border=\"1\" class=\"dataframe\">\n",
       "  <thead>\n",
       "    <tr style=\"text-align: right;\">\n",
       "      <th></th>\n",
       "      <th>High</th>\n",
       "      <th>Low</th>\n",
       "      <th>Open</th>\n",
       "      <th>Close</th>\n",
       "      <th>Volume</th>\n",
       "      <th>Adj Close</th>\n",
       "    </tr>\n",
       "    <tr>\n",
       "      <th>Date</th>\n",
       "      <th></th>\n",
       "      <th></th>\n",
       "      <th></th>\n",
       "      <th></th>\n",
       "      <th></th>\n",
       "      <th></th>\n",
       "    </tr>\n",
       "  </thead>\n",
       "  <tbody>\n",
       "    <tr>\n",
       "      <th>2020-01-02</th>\n",
       "      <td>75.150002</td>\n",
       "      <td>73.797501</td>\n",
       "      <td>74.059998</td>\n",
       "      <td>75.087502</td>\n",
       "      <td>135480400.0</td>\n",
       "      <td>74.333511</td>\n",
       "    </tr>\n",
       "    <tr>\n",
       "      <th>2020-01-03</th>\n",
       "      <td>75.144997</td>\n",
       "      <td>74.125000</td>\n",
       "      <td>74.287498</td>\n",
       "      <td>74.357498</td>\n",
       "      <td>146322800.0</td>\n",
       "      <td>73.610840</td>\n",
       "    </tr>\n",
       "    <tr>\n",
       "      <th>2020-01-06</th>\n",
       "      <td>74.989998</td>\n",
       "      <td>73.187500</td>\n",
       "      <td>73.447502</td>\n",
       "      <td>74.949997</td>\n",
       "      <td>118387200.0</td>\n",
       "      <td>74.197395</td>\n",
       "    </tr>\n",
       "    <tr>\n",
       "      <th>2020-01-07</th>\n",
       "      <td>75.224998</td>\n",
       "      <td>74.370003</td>\n",
       "      <td>74.959999</td>\n",
       "      <td>74.597504</td>\n",
       "      <td>108872000.0</td>\n",
       "      <td>73.848442</td>\n",
       "    </tr>\n",
       "    <tr>\n",
       "      <th>2020-01-08</th>\n",
       "      <td>76.110001</td>\n",
       "      <td>74.290001</td>\n",
       "      <td>74.290001</td>\n",
       "      <td>75.797501</td>\n",
       "      <td>132079200.0</td>\n",
       "      <td>75.036385</td>\n",
       "    </tr>\n",
       "  </tbody>\n",
       "</table>\n",
       "</div>"
      ],
      "text/plain": [
       "                 High        Low       Open      Close       Volume  Adj Close\n",
       "Date                                                                          \n",
       "2020-01-02  75.150002  73.797501  74.059998  75.087502  135480400.0  74.333511\n",
       "2020-01-03  75.144997  74.125000  74.287498  74.357498  146322800.0  73.610840\n",
       "2020-01-06  74.989998  73.187500  73.447502  74.949997  118387200.0  74.197395\n",
       "2020-01-07  75.224998  74.370003  74.959999  74.597504  108872000.0  73.848442\n",
       "2020-01-08  76.110001  74.290001  74.290001  75.797501  132079200.0  75.036385"
      ]
     },
     "execution_count": 3,
     "metadata": {},
     "output_type": "execute_result"
    }
   ],
   "source": [
    "data.head()"
   ]
  },
  {
   "cell_type": "code",
   "execution_count": 4,
   "metadata": {},
   "outputs": [
    {
     "data": {
      "text/plain": [
       "DatetimeIndex(['2020-01-02', '2020-01-03', '2020-01-06', '2020-01-07',\n",
       "               '2020-01-08', '2020-01-09', '2020-01-10', '2020-01-13',\n",
       "               '2020-01-14', '2020-01-15',\n",
       "               ...\n",
       "               '2021-02-10', '2021-02-11', '2021-02-12', '2021-02-16',\n",
       "               '2021-02-17', '2021-02-18', '2021-02-19', '2021-02-22',\n",
       "               '2021-02-23', '2021-02-24'],\n",
       "              dtype='datetime64[ns]', name='Date', length=289, freq=None)"
      ]
     },
     "execution_count": 4,
     "metadata": {},
     "output_type": "execute_result"
    }
   ],
   "source": [
    "data.index"
   ]
  },
  {
   "cell_type": "code",
   "execution_count": 5,
   "metadata": {},
   "outputs": [
    {
     "data": {
      "text/plain": [
       "High         float64\n",
       "Low          float64\n",
       "Open         float64\n",
       "Close        float64\n",
       "Volume       float64\n",
       "Adj Close    float64\n",
       "dtype: object"
      ]
     },
     "execution_count": 5,
     "metadata": {},
     "output_type": "execute_result"
    }
   ],
   "source": [
    "data.dtypes"
   ]
  },
  {
   "cell_type": "code",
   "execution_count": 6,
   "metadata": {},
   "outputs": [
    {
     "data": {
      "text/plain": [
       "pandas.core.frame.DataFrame"
      ]
     },
     "execution_count": 6,
     "metadata": {},
     "output_type": "execute_result"
    }
   ],
   "source": [
    "type(data)"
   ]
  },
  {
   "cell_type": "markdown",
   "metadata": {},
   "source": [
    "### NumPy"
   ]
  },
  {
   "cell_type": "code",
   "execution_count": 7,
   "metadata": {},
   "outputs": [
    {
     "data": {
      "text/plain": [
       "array([[7.51500015e+01, 7.37975006e+01, 7.40599976e+01, 7.50875015e+01,\n",
       "        1.35480400e+08, 7.43335114e+01],\n",
       "       [7.51449966e+01, 7.41250000e+01, 7.42874985e+01, 7.43574982e+01,\n",
       "        1.46322800e+08, 7.36108398e+01],\n",
       "       [7.49899979e+01, 7.31875000e+01, 7.34475021e+01, 7.49499969e+01,\n",
       "        1.18387200e+08, 7.41973953e+01],\n",
       "       ...,\n",
       "       [1.29720001e+02, 1.25599998e+02, 1.28009995e+02, 1.26000000e+02,\n",
       "        1.03607600e+08, 1.26000000e+02],\n",
       "       [1.26709999e+02, 1.18389999e+02, 1.23760002e+02, 1.25860001e+02,\n",
       "        1.57859100e+08, 1.25860001e+02],\n",
       "       [1.25559998e+02, 1.22230003e+02, 1.24940002e+02, 1.25349998e+02,\n",
       "        1.10691500e+08, 1.25349998e+02]])"
      ]
     },
     "execution_count": 7,
     "metadata": {},
     "output_type": "execute_result"
    }
   ],
   "source": [
    "data.to_numpy()"
   ]
  },
  {
   "cell_type": "code",
   "execution_count": 8,
   "metadata": {},
   "outputs": [],
   "source": [
    "arr = data.to_numpy()"
   ]
  },
  {
   "cell_type": "code",
   "execution_count": 9,
   "metadata": {},
   "outputs": [
    {
     "data": {
      "text/plain": [
       "(289, 6)"
      ]
     },
     "execution_count": 9,
     "metadata": {},
     "output_type": "execute_result"
    }
   ],
   "source": [
    "arr.shape"
   ]
  },
  {
   "cell_type": "code",
   "execution_count": 10,
   "metadata": {},
   "outputs": [
    {
     "data": {
      "text/plain": [
       "289"
      ]
     },
     "execution_count": 10,
     "metadata": {},
     "output_type": "execute_result"
    }
   ],
   "source": [
    "len(data)"
   ]
  },
  {
   "cell_type": "code",
   "execution_count": 11,
   "metadata": {},
   "outputs": [
    {
     "data": {
      "text/plain": [
       "array([7.51500015e+01, 7.37975006e+01, 7.40599976e+01, 7.50875015e+01,\n",
       "       1.35480400e+08, 7.43335114e+01])"
      ]
     },
     "execution_count": 11,
     "metadata": {},
     "output_type": "execute_result"
    }
   ],
   "source": [
    "arr[0]"
   ]
  },
  {
   "cell_type": "code",
   "execution_count": 12,
   "metadata": {},
   "outputs": [
    {
     "data": {
      "text/html": [
       "<div>\n",
       "<style scoped>\n",
       "    .dataframe tbody tr th:only-of-type {\n",
       "        vertical-align: middle;\n",
       "    }\n",
       "\n",
       "    .dataframe tbody tr th {\n",
       "        vertical-align: top;\n",
       "    }\n",
       "\n",
       "    .dataframe thead th {\n",
       "        text-align: right;\n",
       "    }\n",
       "</style>\n",
       "<table border=\"1\" class=\"dataframe\">\n",
       "  <thead>\n",
       "    <tr style=\"text-align: right;\">\n",
       "      <th></th>\n",
       "      <th>High</th>\n",
       "      <th>Low</th>\n",
       "      <th>Open</th>\n",
       "      <th>Close</th>\n",
       "      <th>Volume</th>\n",
       "      <th>Adj Close</th>\n",
       "    </tr>\n",
       "    <tr>\n",
       "      <th>Date</th>\n",
       "      <th></th>\n",
       "      <th></th>\n",
       "      <th></th>\n",
       "      <th></th>\n",
       "      <th></th>\n",
       "      <th></th>\n",
       "    </tr>\n",
       "  </thead>\n",
       "  <tbody>\n",
       "    <tr>\n",
       "      <th>2020-01-02</th>\n",
       "      <td>75.150002</td>\n",
       "      <td>73.797501</td>\n",
       "      <td>74.059998</td>\n",
       "      <td>75.087502</td>\n",
       "      <td>135480400.0</td>\n",
       "      <td>74.333511</td>\n",
       "    </tr>\n",
       "  </tbody>\n",
       "</table>\n",
       "</div>"
      ],
      "text/plain": [
       "                 High        Low       Open      Close       Volume  Adj Close\n",
       "Date                                                                          \n",
       "2020-01-02  75.150002  73.797501  74.059998  75.087502  135480400.0  74.333511"
      ]
     },
     "execution_count": 12,
     "metadata": {},
     "output_type": "execute_result"
    }
   ],
   "source": [
    "data.head(1)"
   ]
  },
  {
   "cell_type": "code",
   "execution_count": 13,
   "metadata": {},
   "outputs": [
    {
     "data": {
      "text/plain": [
       "dtype('float64')"
      ]
     },
     "execution_count": 13,
     "metadata": {},
     "output_type": "execute_result"
    }
   ],
   "source": [
    "arr.dtype"
   ]
  },
  {
   "cell_type": "code",
   "execution_count": 14,
   "metadata": {},
   "outputs": [],
   "source": [
    "small = arr[:10, 0].copy()"
   ]
  },
  {
   "cell_type": "code",
   "execution_count": 15,
   "metadata": {},
   "outputs": [
    {
     "data": {
      "text/plain": [
       "array([75.15000153, 75.14499664, 74.98999786, 75.22499847, 76.11000061,\n",
       "       77.60749817, 78.16750336, 79.26750183, 79.39250183, 78.875     ])"
      ]
     },
     "execution_count": 15,
     "metadata": {},
     "output_type": "execute_result"
    }
   ],
   "source": [
    "small"
   ]
  },
  {
   "cell_type": "code",
   "execution_count": 16,
   "metadata": {},
   "outputs": [
    {
     "data": {
      "text/html": [
       "<div>\n",
       "<style scoped>\n",
       "    .dataframe tbody tr th:only-of-type {\n",
       "        vertical-align: middle;\n",
       "    }\n",
       "\n",
       "    .dataframe tbody tr th {\n",
       "        vertical-align: top;\n",
       "    }\n",
       "\n",
       "    .dataframe thead th {\n",
       "        text-align: right;\n",
       "    }\n",
       "</style>\n",
       "<table border=\"1\" class=\"dataframe\">\n",
       "  <thead>\n",
       "    <tr style=\"text-align: right;\">\n",
       "      <th></th>\n",
       "      <th>High</th>\n",
       "      <th>Low</th>\n",
       "      <th>Open</th>\n",
       "      <th>Close</th>\n",
       "      <th>Volume</th>\n",
       "      <th>Adj Close</th>\n",
       "    </tr>\n",
       "    <tr>\n",
       "      <th>Date</th>\n",
       "      <th></th>\n",
       "      <th></th>\n",
       "      <th></th>\n",
       "      <th></th>\n",
       "      <th></th>\n",
       "      <th></th>\n",
       "    </tr>\n",
       "  </thead>\n",
       "  <tbody>\n",
       "    <tr>\n",
       "      <th>2020-01-02</th>\n",
       "      <td>75.150002</td>\n",
       "      <td>73.797501</td>\n",
       "      <td>74.059998</td>\n",
       "      <td>75.087502</td>\n",
       "      <td>135480400.0</td>\n",
       "      <td>74.333511</td>\n",
       "    </tr>\n",
       "    <tr>\n",
       "      <th>2020-01-03</th>\n",
       "      <td>75.144997</td>\n",
       "      <td>74.125000</td>\n",
       "      <td>74.287498</td>\n",
       "      <td>74.357498</td>\n",
       "      <td>146322800.0</td>\n",
       "      <td>73.610840</td>\n",
       "    </tr>\n",
       "    <tr>\n",
       "      <th>2020-01-06</th>\n",
       "      <td>74.989998</td>\n",
       "      <td>73.187500</td>\n",
       "      <td>73.447502</td>\n",
       "      <td>74.949997</td>\n",
       "      <td>118387200.0</td>\n",
       "      <td>74.197395</td>\n",
       "    </tr>\n",
       "    <tr>\n",
       "      <th>2020-01-07</th>\n",
       "      <td>75.224998</td>\n",
       "      <td>74.370003</td>\n",
       "      <td>74.959999</td>\n",
       "      <td>74.597504</td>\n",
       "      <td>108872000.0</td>\n",
       "      <td>73.848442</td>\n",
       "    </tr>\n",
       "    <tr>\n",
       "      <th>2020-01-08</th>\n",
       "      <td>76.110001</td>\n",
       "      <td>74.290001</td>\n",
       "      <td>74.290001</td>\n",
       "      <td>75.797501</td>\n",
       "      <td>132079200.0</td>\n",
       "      <td>75.036385</td>\n",
       "    </tr>\n",
       "  </tbody>\n",
       "</table>\n",
       "</div>"
      ],
      "text/plain": [
       "                 High        Low       Open      Close       Volume  Adj Close\n",
       "Date                                                                          \n",
       "2020-01-02  75.150002  73.797501  74.059998  75.087502  135480400.0  74.333511\n",
       "2020-01-03  75.144997  74.125000  74.287498  74.357498  146322800.0  73.610840\n",
       "2020-01-06  74.989998  73.187500  73.447502  74.949997  118387200.0  74.197395\n",
       "2020-01-07  75.224998  74.370003  74.959999  74.597504  108872000.0  73.848442\n",
       "2020-01-08  76.110001  74.290001  74.290001  75.797501  132079200.0  75.036385"
      ]
     },
     "execution_count": 16,
     "metadata": {},
     "output_type": "execute_result"
    }
   ],
   "source": [
    "data.head()"
   ]
  },
  {
   "cell_type": "code",
   "execution_count": 17,
   "metadata": {},
   "outputs": [
    {
     "data": {
      "text/plain": [
       "79.39250183105469"
      ]
     },
     "execution_count": 17,
     "metadata": {},
     "output_type": "execute_result"
    }
   ],
   "source": [
    "np.max(small)"
   ]
  },
  {
   "cell_type": "code",
   "execution_count": 18,
   "metadata": {},
   "outputs": [
    {
     "data": {
      "text/plain": [
       "79.39250183105469"
      ]
     },
     "execution_count": 18,
     "metadata": {},
     "output_type": "execute_result"
    }
   ],
   "source": [
    "small.max()"
   ]
  },
  {
   "cell_type": "code",
   "execution_count": 19,
   "metadata": {},
   "outputs": [
    {
     "data": {
      "text/plain": [
       "8"
      ]
     },
     "execution_count": 19,
     "metadata": {},
     "output_type": "execute_result"
    }
   ],
   "source": [
    "small.argmax()"
   ]
  },
  {
   "cell_type": "code",
   "execution_count": 20,
   "metadata": {},
   "outputs": [
    {
     "data": {
      "text/plain": [
       "array([75.15000153, 75.14499664, 74.98999786, 75.22499847, 76.11000061,\n",
       "       77.60749817, 78.16750336, 79.26750183, 79.39250183, 78.875     ])"
      ]
     },
     "execution_count": 20,
     "metadata": {},
     "output_type": "execute_result"
    }
   ],
   "source": [
    "small"
   ]
  },
  {
   "cell_type": "code",
   "execution_count": 21,
   "metadata": {},
   "outputs": [
    {
     "data": {
      "text/plain": [
       "79.39250183105469"
      ]
     },
     "execution_count": 21,
     "metadata": {},
     "output_type": "execute_result"
    }
   ],
   "source": [
    "small[small.argmax()]"
   ]
  },
  {
   "cell_type": "code",
   "execution_count": 22,
   "metadata": {},
   "outputs": [
    {
     "data": {
      "text/plain": [
       "array([4.31948614, 4.31941954, 4.31735474, 4.3204836 , 4.33217967,\n",
       "       4.35166405, 4.358854  , 4.37282823, 4.37440393, 4.36786432])"
      ]
     },
     "execution_count": 22,
     "metadata": {},
     "output_type": "execute_result"
    }
   ],
   "source": [
    "np.log(small)"
   ]
  },
  {
   "cell_type": "code",
   "execution_count": 23,
   "metadata": {},
   "outputs": [
    {
     "data": {
      "text/html": [
       "<div>\n",
       "<style scoped>\n",
       "    .dataframe tbody tr th:only-of-type {\n",
       "        vertical-align: middle;\n",
       "    }\n",
       "\n",
       "    .dataframe tbody tr th {\n",
       "        vertical-align: top;\n",
       "    }\n",
       "\n",
       "    .dataframe thead th {\n",
       "        text-align: right;\n",
       "    }\n",
       "</style>\n",
       "<table border=\"1\" class=\"dataframe\">\n",
       "  <thead>\n",
       "    <tr style=\"text-align: right;\">\n",
       "      <th></th>\n",
       "      <th>High</th>\n",
       "      <th>Low</th>\n",
       "      <th>Open</th>\n",
       "      <th>Close</th>\n",
       "      <th>Volume</th>\n",
       "      <th>Adj Close</th>\n",
       "    </tr>\n",
       "    <tr>\n",
       "      <th>Date</th>\n",
       "      <th></th>\n",
       "      <th></th>\n",
       "      <th></th>\n",
       "      <th></th>\n",
       "      <th></th>\n",
       "      <th></th>\n",
       "    </tr>\n",
       "  </thead>\n",
       "  <tbody>\n",
       "    <tr>\n",
       "      <th>2020-01-02</th>\n",
       "      <td>4.319486</td>\n",
       "      <td>4.301325</td>\n",
       "      <td>4.304876</td>\n",
       "      <td>4.318654</td>\n",
       "      <td>18.724338</td>\n",
       "      <td>4.308562</td>\n",
       "    </tr>\n",
       "    <tr>\n",
       "      <th>2020-01-03</th>\n",
       "      <td>4.319420</td>\n",
       "      <td>4.305753</td>\n",
       "      <td>4.307943</td>\n",
       "      <td>4.308885</td>\n",
       "      <td>18.801326</td>\n",
       "      <td>4.298792</td>\n",
       "    </tr>\n",
       "    <tr>\n",
       "      <th>2020-01-06</th>\n",
       "      <td>4.317355</td>\n",
       "      <td>4.293025</td>\n",
       "      <td>4.296571</td>\n",
       "      <td>4.316821</td>\n",
       "      <td>18.589471</td>\n",
       "      <td>4.306729</td>\n",
       "    </tr>\n",
       "    <tr>\n",
       "      <th>2020-01-07</th>\n",
       "      <td>4.320484</td>\n",
       "      <td>4.309053</td>\n",
       "      <td>4.316955</td>\n",
       "      <td>4.312107</td>\n",
       "      <td>18.505683</td>\n",
       "      <td>4.302015</td>\n",
       "    </tr>\n",
       "    <tr>\n",
       "      <th>2020-01-08</th>\n",
       "      <td>4.332180</td>\n",
       "      <td>4.307976</td>\n",
       "      <td>4.307976</td>\n",
       "      <td>4.328065</td>\n",
       "      <td>18.698912</td>\n",
       "      <td>4.317973</td>\n",
       "    </tr>\n",
       "    <tr>\n",
       "      <th>...</th>\n",
       "      <td>...</td>\n",
       "      <td>...</td>\n",
       "      <td>...</td>\n",
       "      <td>...</td>\n",
       "      <td>...</td>\n",
       "      <td>...</td>\n",
       "    </tr>\n",
       "    <tr>\n",
       "      <th>2021-02-18</th>\n",
       "      <td>4.867534</td>\n",
       "      <td>4.847410</td>\n",
       "      <td>4.861362</td>\n",
       "      <td>4.865301</td>\n",
       "      <td>18.386587</td>\n",
       "      <td>4.865301</td>\n",
       "    </tr>\n",
       "    <tr>\n",
       "      <th>2021-02-19</th>\n",
       "      <td>4.872981</td>\n",
       "      <td>4.858261</td>\n",
       "      <td>4.869379</td>\n",
       "      <td>4.866534</td>\n",
       "      <td>18.287445</td>\n",
       "      <td>4.866534</td>\n",
       "    </tr>\n",
       "    <tr>\n",
       "      <th>2021-02-22</th>\n",
       "      <td>4.865378</td>\n",
       "      <td>4.833102</td>\n",
       "      <td>4.852108</td>\n",
       "      <td>4.836282</td>\n",
       "      <td>18.456121</td>\n",
       "      <td>4.836282</td>\n",
       "    </tr>\n",
       "    <tr>\n",
       "      <th>2021-02-23</th>\n",
       "      <td>4.841901</td>\n",
       "      <td>4.773984</td>\n",
       "      <td>4.818344</td>\n",
       "      <td>4.835170</td>\n",
       "      <td>18.877213</td>\n",
       "      <td>4.835170</td>\n",
       "    </tr>\n",
       "    <tr>\n",
       "      <th>2021-02-24</th>\n",
       "      <td>4.832784</td>\n",
       "      <td>4.805905</td>\n",
       "      <td>4.827834</td>\n",
       "      <td>4.831110</td>\n",
       "      <td>18.522258</td>\n",
       "      <td>4.831110</td>\n",
       "    </tr>\n",
       "  </tbody>\n",
       "</table>\n",
       "<p>289 rows × 6 columns</p>\n",
       "</div>"
      ],
      "text/plain": [
       "                High       Low      Open     Close     Volume  Adj Close\n",
       "Date                                                                    \n",
       "2020-01-02  4.319486  4.301325  4.304876  4.318654  18.724338   4.308562\n",
       "2020-01-03  4.319420  4.305753  4.307943  4.308885  18.801326   4.298792\n",
       "2020-01-06  4.317355  4.293025  4.296571  4.316821  18.589471   4.306729\n",
       "2020-01-07  4.320484  4.309053  4.316955  4.312107  18.505683   4.302015\n",
       "2020-01-08  4.332180  4.307976  4.307976  4.328065  18.698912   4.317973\n",
       "...              ...       ...       ...       ...        ...        ...\n",
       "2021-02-18  4.867534  4.847410  4.861362  4.865301  18.386587   4.865301\n",
       "2021-02-19  4.872981  4.858261  4.869379  4.866534  18.287445   4.866534\n",
       "2021-02-22  4.865378  4.833102  4.852108  4.836282  18.456121   4.836282\n",
       "2021-02-23  4.841901  4.773984  4.818344  4.835170  18.877213   4.835170\n",
       "2021-02-24  4.832784  4.805905  4.827834  4.831110  18.522258   4.831110\n",
       "\n",
       "[289 rows x 6 columns]"
      ]
     },
     "execution_count": 23,
     "metadata": {},
     "output_type": "execute_result"
    }
   ],
   "source": [
    "np.log(data)"
   ]
  },
  {
   "cell_type": "code",
   "execution_count": 24,
   "metadata": {},
   "outputs": [
    {
     "data": {
      "text/html": [
       "<div>\n",
       "<style scoped>\n",
       "    .dataframe tbody tr th:only-of-type {\n",
       "        vertical-align: middle;\n",
       "    }\n",
       "\n",
       "    .dataframe tbody tr th {\n",
       "        vertical-align: top;\n",
       "    }\n",
       "\n",
       "    .dataframe thead th {\n",
       "        text-align: right;\n",
       "    }\n",
       "</style>\n",
       "<table border=\"1\" class=\"dataframe\">\n",
       "  <thead>\n",
       "    <tr style=\"text-align: right;\">\n",
       "      <th></th>\n",
       "      <th>High</th>\n",
       "      <th>Low</th>\n",
       "      <th>Open</th>\n",
       "      <th>Close</th>\n",
       "      <th>Volume</th>\n",
       "      <th>Adj Close</th>\n",
       "    </tr>\n",
       "    <tr>\n",
       "      <th>Date</th>\n",
       "      <th></th>\n",
       "      <th></th>\n",
       "      <th></th>\n",
       "      <th></th>\n",
       "      <th></th>\n",
       "      <th></th>\n",
       "    </tr>\n",
       "  </thead>\n",
       "  <tbody>\n",
       "    <tr>\n",
       "      <th>2020-01-02</th>\n",
       "      <td>NaN</td>\n",
       "      <td>NaN</td>\n",
       "      <td>NaN</td>\n",
       "      <td>NaN</td>\n",
       "      <td>NaN</td>\n",
       "      <td>NaN</td>\n",
       "    </tr>\n",
       "    <tr>\n",
       "      <th>2020-01-03</th>\n",
       "      <td>0.999933</td>\n",
       "      <td>1.004438</td>\n",
       "      <td>1.003072</td>\n",
       "      <td>0.990278</td>\n",
       "      <td>1.080029</td>\n",
       "      <td>0.990278</td>\n",
       "    </tr>\n",
       "    <tr>\n",
       "      <th>2020-01-06</th>\n",
       "      <td>0.997937</td>\n",
       "      <td>0.987352</td>\n",
       "      <td>0.988693</td>\n",
       "      <td>1.007968</td>\n",
       "      <td>0.809082</td>\n",
       "      <td>1.007968</td>\n",
       "    </tr>\n",
       "    <tr>\n",
       "      <th>2020-01-07</th>\n",
       "      <td>1.003134</td>\n",
       "      <td>1.016157</td>\n",
       "      <td>1.020593</td>\n",
       "      <td>0.995297</td>\n",
       "      <td>0.919626</td>\n",
       "      <td>0.995297</td>\n",
       "    </tr>\n",
       "    <tr>\n",
       "      <th>2020-01-08</th>\n",
       "      <td>1.011765</td>\n",
       "      <td>0.998924</td>\n",
       "      <td>0.991062</td>\n",
       "      <td>1.016086</td>\n",
       "      <td>1.213160</td>\n",
       "      <td>1.016086</td>\n",
       "    </tr>\n",
       "    <tr>\n",
       "      <th>...</th>\n",
       "      <td>...</td>\n",
       "      <td>...</td>\n",
       "      <td>...</td>\n",
       "      <td>...</td>\n",
       "      <td>...</td>\n",
       "      <td>...</td>\n",
       "    </tr>\n",
       "    <tr>\n",
       "      <th>2021-02-18</th>\n",
       "      <td>0.983210</td>\n",
       "      <td>0.984089</td>\n",
       "      <td>0.984381</td>\n",
       "      <td>0.991364</td>\n",
       "      <td>0.987026</td>\n",
       "      <td>0.991364</td>\n",
       "    </tr>\n",
       "    <tr>\n",
       "      <th>2021-02-19</th>\n",
       "      <td>1.005462</td>\n",
       "      <td>1.010910</td>\n",
       "      <td>1.008050</td>\n",
       "      <td>1.001233</td>\n",
       "      <td>0.905614</td>\n",
       "      <td>1.001233</td>\n",
       "    </tr>\n",
       "    <tr>\n",
       "      <th>2021-02-22</th>\n",
       "      <td>0.992426</td>\n",
       "      <td>0.975155</td>\n",
       "      <td>0.982878</td>\n",
       "      <td>0.970201</td>\n",
       "      <td>1.183736</td>\n",
       "      <td>0.970201</td>\n",
       "    </tr>\n",
       "    <tr>\n",
       "      <th>2021-02-23</th>\n",
       "      <td>0.976796</td>\n",
       "      <td>0.942596</td>\n",
       "      <td>0.966800</td>\n",
       "      <td>0.998889</td>\n",
       "      <td>1.523625</td>\n",
       "      <td>0.998889</td>\n",
       "    </tr>\n",
       "    <tr>\n",
       "      <th>2021-02-24</th>\n",
       "      <td>0.990924</td>\n",
       "      <td>1.032435</td>\n",
       "      <td>1.009535</td>\n",
       "      <td>0.995948</td>\n",
       "      <td>0.701204</td>\n",
       "      <td>0.995948</td>\n",
       "    </tr>\n",
       "  </tbody>\n",
       "</table>\n",
       "<p>289 rows × 6 columns</p>\n",
       "</div>"
      ],
      "text/plain": [
       "                High       Low      Open     Close    Volume  Adj Close\n",
       "Date                                                                   \n",
       "2020-01-02       NaN       NaN       NaN       NaN       NaN        NaN\n",
       "2020-01-03  0.999933  1.004438  1.003072  0.990278  1.080029   0.990278\n",
       "2020-01-06  0.997937  0.987352  0.988693  1.007968  0.809082   1.007968\n",
       "2020-01-07  1.003134  1.016157  1.020593  0.995297  0.919626   0.995297\n",
       "2020-01-08  1.011765  0.998924  0.991062  1.016086  1.213160   1.016086\n",
       "...              ...       ...       ...       ...       ...        ...\n",
       "2021-02-18  0.983210  0.984089  0.984381  0.991364  0.987026   0.991364\n",
       "2021-02-19  1.005462  1.010910  1.008050  1.001233  0.905614   1.001233\n",
       "2021-02-22  0.992426  0.975155  0.982878  0.970201  1.183736   0.970201\n",
       "2021-02-23  0.976796  0.942596  0.966800  0.998889  1.523625   0.998889\n",
       "2021-02-24  0.990924  1.032435  1.009535  0.995948  0.701204   0.995948\n",
       "\n",
       "[289 rows x 6 columns]"
      ]
     },
     "execution_count": 24,
     "metadata": {},
     "output_type": "execute_result"
    }
   ],
   "source": [
    "data/data.shift()"
   ]
  },
  {
   "cell_type": "code",
   "execution_count": 25,
   "metadata": {},
   "outputs": [
    {
     "data": {
      "text/html": [
       "<div>\n",
       "<style scoped>\n",
       "    .dataframe tbody tr th:only-of-type {\n",
       "        vertical-align: middle;\n",
       "    }\n",
       "\n",
       "    .dataframe tbody tr th {\n",
       "        vertical-align: top;\n",
       "    }\n",
       "\n",
       "    .dataframe thead th {\n",
       "        text-align: right;\n",
       "    }\n",
       "</style>\n",
       "<table border=\"1\" class=\"dataframe\">\n",
       "  <thead>\n",
       "    <tr style=\"text-align: right;\">\n",
       "      <th></th>\n",
       "      <th>High</th>\n",
       "      <th>Low</th>\n",
       "      <th>Open</th>\n",
       "      <th>Close</th>\n",
       "      <th>Volume</th>\n",
       "      <th>Adj Close</th>\n",
       "    </tr>\n",
       "    <tr>\n",
       "      <th>Date</th>\n",
       "      <th></th>\n",
       "      <th></th>\n",
       "      <th></th>\n",
       "      <th></th>\n",
       "      <th></th>\n",
       "      <th></th>\n",
       "    </tr>\n",
       "  </thead>\n",
       "  <tbody>\n",
       "    <tr>\n",
       "      <th>2020-01-02</th>\n",
       "      <td>75.150002</td>\n",
       "      <td>73.797501</td>\n",
       "      <td>74.059998</td>\n",
       "      <td>75.087502</td>\n",
       "      <td>135480400.0</td>\n",
       "      <td>74.333511</td>\n",
       "    </tr>\n",
       "    <tr>\n",
       "      <th>2020-01-03</th>\n",
       "      <td>75.144997</td>\n",
       "      <td>74.125000</td>\n",
       "      <td>74.287498</td>\n",
       "      <td>74.357498</td>\n",
       "      <td>146322800.0</td>\n",
       "      <td>73.610840</td>\n",
       "    </tr>\n",
       "    <tr>\n",
       "      <th>2020-01-06</th>\n",
       "      <td>74.989998</td>\n",
       "      <td>73.187500</td>\n",
       "      <td>73.447502</td>\n",
       "      <td>74.949997</td>\n",
       "      <td>118387200.0</td>\n",
       "      <td>74.197395</td>\n",
       "    </tr>\n",
       "    <tr>\n",
       "      <th>2020-01-07</th>\n",
       "      <td>75.224998</td>\n",
       "      <td>74.370003</td>\n",
       "      <td>74.959999</td>\n",
       "      <td>74.597504</td>\n",
       "      <td>108872000.0</td>\n",
       "      <td>73.848442</td>\n",
       "    </tr>\n",
       "    <tr>\n",
       "      <th>2020-01-08</th>\n",
       "      <td>76.110001</td>\n",
       "      <td>74.290001</td>\n",
       "      <td>74.290001</td>\n",
       "      <td>75.797501</td>\n",
       "      <td>132079200.0</td>\n",
       "      <td>75.036385</td>\n",
       "    </tr>\n",
       "  </tbody>\n",
       "</table>\n",
       "</div>"
      ],
      "text/plain": [
       "                 High        Low       Open      Close       Volume  Adj Close\n",
       "Date                                                                          \n",
       "2020-01-02  75.150002  73.797501  74.059998  75.087502  135480400.0  74.333511\n",
       "2020-01-03  75.144997  74.125000  74.287498  74.357498  146322800.0  73.610840\n",
       "2020-01-06  74.989998  73.187500  73.447502  74.949997  118387200.0  74.197395\n",
       "2020-01-07  75.224998  74.370003  74.959999  74.597504  108872000.0  73.848442\n",
       "2020-01-08  76.110001  74.290001  74.290001  75.797501  132079200.0  75.036385"
      ]
     },
     "execution_count": 25,
     "metadata": {},
     "output_type": "execute_result"
    }
   ],
   "source": [
    "data.head()"
   ]
  },
  {
   "cell_type": "code",
   "execution_count": 27,
   "metadata": {},
   "outputs": [
    {
     "data": {
      "text/plain": [
       "0.9999333998687053"
      ]
     },
     "execution_count": 27,
     "metadata": {},
     "output_type": "execute_result"
    }
   ],
   "source": [
    "75.144997/75.150002"
   ]
  },
  {
   "cell_type": "code",
   "execution_count": 29,
   "metadata": {},
   "outputs": [
    {
     "data": {
      "text/plain": [
       "High         0.513298\n",
       "Low          0.504580\n",
       "Open         0.522958\n",
       "Close        0.512456\n",
       "Volume      -0.202080\n",
       "Adj Close    0.522548\n",
       "dtype: float64"
      ]
     },
     "execution_count": 29,
     "metadata": {},
     "output_type": "execute_result"
    }
   ],
   "source": [
    "np.sum(np.log(data/data.shift()))"
   ]
  },
  {
   "cell_type": "code",
   "execution_count": 31,
   "metadata": {},
   "outputs": [
    {
     "data": {
      "text/html": [
       "<div>\n",
       "<style scoped>\n",
       "    .dataframe tbody tr th:only-of-type {\n",
       "        vertical-align: middle;\n",
       "    }\n",
       "\n",
       "    .dataframe tbody tr th {\n",
       "        vertical-align: top;\n",
       "    }\n",
       "\n",
       "    .dataframe thead th {\n",
       "        text-align: right;\n",
       "    }\n",
       "</style>\n",
       "<table border=\"1\" class=\"dataframe\">\n",
       "  <thead>\n",
       "    <tr style=\"text-align: right;\">\n",
       "      <th></th>\n",
       "      <th>High</th>\n",
       "      <th>Low</th>\n",
       "      <th>Open</th>\n",
       "      <th>Close</th>\n",
       "      <th>Volume</th>\n",
       "      <th>Adj Close</th>\n",
       "    </tr>\n",
       "    <tr>\n",
       "      <th>Date</th>\n",
       "      <th></th>\n",
       "      <th></th>\n",
       "      <th></th>\n",
       "      <th></th>\n",
       "      <th></th>\n",
       "      <th></th>\n",
       "    </tr>\n",
       "  </thead>\n",
       "  <tbody>\n",
       "    <tr>\n",
       "      <th>2021-02-24</th>\n",
       "      <td>0.513298</td>\n",
       "      <td>0.50458</td>\n",
       "      <td>0.522958</td>\n",
       "      <td>0.512456</td>\n",
       "      <td>-0.20208</td>\n",
       "      <td>0.522548</td>\n",
       "    </tr>\n",
       "  </tbody>\n",
       "</table>\n",
       "</div>"
      ],
      "text/plain": [
       "                High      Low      Open     Close   Volume  Adj Close\n",
       "Date                                                                 \n",
       "2021-02-24  0.513298  0.50458  0.522958  0.512456 -0.20208   0.522548"
      ]
     },
     "execution_count": 31,
     "metadata": {},
     "output_type": "execute_result"
    }
   ],
   "source": [
    "np.log(data/data.iloc[0]).tail(1)"
   ]
  },
  {
   "cell_type": "code",
   "execution_count": 32,
   "metadata": {},
   "outputs": [
    {
     "data": {
      "text/plain": [
       "(10,)"
      ]
     },
     "execution_count": 32,
     "metadata": {},
     "output_type": "execute_result"
    }
   ],
   "source": [
    "small.shape"
   ]
  },
  {
   "cell_type": "code",
   "execution_count": 33,
   "metadata": {},
   "outputs": [
    {
     "data": {
      "text/plain": [
       "array([75.15000153, 75.14499664, 74.98999786, 75.22499847, 76.11000061,\n",
       "       77.60749817, 78.16750336, 79.26750183, 79.39250183, 78.875     ])"
      ]
     },
     "execution_count": 33,
     "metadata": {},
     "output_type": "execute_result"
    }
   ],
   "source": [
    "small"
   ]
  },
  {
   "cell_type": "code",
   "execution_count": 34,
   "metadata": {},
   "outputs": [
    {
     "data": {
      "text/plain": [
       "array([[75.15000153, 75.14499664, 74.98999786, 75.22499847, 76.11000061],\n",
       "       [77.60749817, 78.16750336, 79.26750183, 79.39250183, 78.875     ]])"
      ]
     },
     "execution_count": 34,
     "metadata": {},
     "output_type": "execute_result"
    }
   ],
   "source": [
    "small.reshape(2, 5)"
   ]
  },
  {
   "cell_type": "code",
   "execution_count": 35,
   "metadata": {},
   "outputs": [
    {
     "data": {
      "text/plain": [
       "array([[75.15000153],\n",
       "       [75.14499664],\n",
       "       [74.98999786],\n",
       "       [75.22499847],\n",
       "       [76.11000061],\n",
       "       [77.60749817],\n",
       "       [78.16750336],\n",
       "       [79.26750183],\n",
       "       [79.39250183],\n",
       "       [78.875     ]])"
      ]
     },
     "execution_count": 35,
     "metadata": {},
     "output_type": "execute_result"
    }
   ],
   "source": [
    "small.reshape(10, 1)"
   ]
  },
  {
   "cell_type": "code",
   "execution_count": 36,
   "metadata": {},
   "outputs": [
    {
     "data": {
      "text/plain": [
       "array([[75.15000153],\n",
       "       [75.14499664],\n",
       "       [74.98999786],\n",
       "       [75.22499847],\n",
       "       [76.11000061],\n",
       "       [77.60749817],\n",
       "       [78.16750336],\n",
       "       [79.26750183],\n",
       "       [79.39250183],\n",
       "       [78.875     ]])"
      ]
     },
     "execution_count": 36,
     "metadata": {},
     "output_type": "execute_result"
    }
   ],
   "source": [
    "small.reshape(-1, 1)"
   ]
  },
  {
   "cell_type": "markdown",
   "metadata": {},
   "source": [
    "### Portfolios"
   ]
  },
  {
   "cell_type": "code",
   "execution_count": 37,
   "metadata": {},
   "outputs": [],
   "source": [
    "tickers = ['AAPL', 'MSFT', 'TWTR', 'IBM']\n",
    "start = dt.datetime(2020, 1, 1)\n",
    "\n",
    "data = pdr.get_data_yahoo(tickers, start)"
   ]
  },
  {
   "cell_type": "code",
   "execution_count": 38,
   "metadata": {},
   "outputs": [
    {
     "data": {
      "text/html": [
       "<div>\n",
       "<style scoped>\n",
       "    .dataframe tbody tr th:only-of-type {\n",
       "        vertical-align: middle;\n",
       "    }\n",
       "\n",
       "    .dataframe tbody tr th {\n",
       "        vertical-align: top;\n",
       "    }\n",
       "\n",
       "    .dataframe thead tr th {\n",
       "        text-align: left;\n",
       "    }\n",
       "\n",
       "    .dataframe thead tr:last-of-type th {\n",
       "        text-align: right;\n",
       "    }\n",
       "</style>\n",
       "<table border=\"1\" class=\"dataframe\">\n",
       "  <thead>\n",
       "    <tr>\n",
       "      <th>Attributes</th>\n",
       "      <th colspan=\"4\" halign=\"left\">Adj Close</th>\n",
       "      <th colspan=\"4\" halign=\"left\">Close</th>\n",
       "      <th colspan=\"2\" halign=\"left\">High</th>\n",
       "      <th>...</th>\n",
       "      <th colspan=\"2\" halign=\"left\">Low</th>\n",
       "      <th colspan=\"4\" halign=\"left\">Open</th>\n",
       "      <th colspan=\"4\" halign=\"left\">Volume</th>\n",
       "    </tr>\n",
       "    <tr>\n",
       "      <th>Symbols</th>\n",
       "      <th>AAPL</th>\n",
       "      <th>MSFT</th>\n",
       "      <th>TWTR</th>\n",
       "      <th>IBM</th>\n",
       "      <th>AAPL</th>\n",
       "      <th>MSFT</th>\n",
       "      <th>TWTR</th>\n",
       "      <th>IBM</th>\n",
       "      <th>AAPL</th>\n",
       "      <th>MSFT</th>\n",
       "      <th>...</th>\n",
       "      <th>TWTR</th>\n",
       "      <th>IBM</th>\n",
       "      <th>AAPL</th>\n",
       "      <th>MSFT</th>\n",
       "      <th>TWTR</th>\n",
       "      <th>IBM</th>\n",
       "      <th>AAPL</th>\n",
       "      <th>MSFT</th>\n",
       "      <th>TWTR</th>\n",
       "      <th>IBM</th>\n",
       "    </tr>\n",
       "    <tr>\n",
       "      <th>Date</th>\n",
       "      <th></th>\n",
       "      <th></th>\n",
       "      <th></th>\n",
       "      <th></th>\n",
       "      <th></th>\n",
       "      <th></th>\n",
       "      <th></th>\n",
       "      <th></th>\n",
       "      <th></th>\n",
       "      <th></th>\n",
       "      <th></th>\n",
       "      <th></th>\n",
       "      <th></th>\n",
       "      <th></th>\n",
       "      <th></th>\n",
       "      <th></th>\n",
       "      <th></th>\n",
       "      <th></th>\n",
       "      <th></th>\n",
       "      <th></th>\n",
       "      <th></th>\n",
       "    </tr>\n",
       "  </thead>\n",
       "  <tbody>\n",
       "    <tr>\n",
       "      <th>2020-01-02</th>\n",
       "      <td>74.333511</td>\n",
       "      <td>158.571075</td>\n",
       "      <td>32.299999</td>\n",
       "      <td>126.975204</td>\n",
       "      <td>75.087502</td>\n",
       "      <td>160.619995</td>\n",
       "      <td>32.299999</td>\n",
       "      <td>135.419998</td>\n",
       "      <td>75.150002</td>\n",
       "      <td>160.729996</td>\n",
       "      <td>...</td>\n",
       "      <td>31.959999</td>\n",
       "      <td>134.770004</td>\n",
       "      <td>74.059998</td>\n",
       "      <td>158.779999</td>\n",
       "      <td>32.310001</td>\n",
       "      <td>135.000000</td>\n",
       "      <td>135480400.0</td>\n",
       "      <td>22622100.0</td>\n",
       "      <td>10721100.0</td>\n",
       "      <td>3148600.0</td>\n",
       "    </tr>\n",
       "    <tr>\n",
       "      <th>2020-01-03</th>\n",
       "      <td>73.610840</td>\n",
       "      <td>156.596588</td>\n",
       "      <td>31.520000</td>\n",
       "      <td>125.962540</td>\n",
       "      <td>74.357498</td>\n",
       "      <td>158.619995</td>\n",
       "      <td>31.520000</td>\n",
       "      <td>134.339996</td>\n",
       "      <td>75.144997</td>\n",
       "      <td>159.949997</td>\n",
       "      <td>...</td>\n",
       "      <td>31.260000</td>\n",
       "      <td>133.559998</td>\n",
       "      <td>74.287498</td>\n",
       "      <td>158.320007</td>\n",
       "      <td>31.709999</td>\n",
       "      <td>133.570007</td>\n",
       "      <td>146322800.0</td>\n",
       "      <td>21116200.0</td>\n",
       "      <td>14429500.0</td>\n",
       "      <td>2373700.0</td>\n",
       "    </tr>\n",
       "    <tr>\n",
       "      <th>2020-01-06</th>\n",
       "      <td>74.197395</td>\n",
       "      <td>157.001373</td>\n",
       "      <td>31.639999</td>\n",
       "      <td>125.737526</td>\n",
       "      <td>74.949997</td>\n",
       "      <td>159.029999</td>\n",
       "      <td>31.639999</td>\n",
       "      <td>134.100006</td>\n",
       "      <td>74.989998</td>\n",
       "      <td>159.100006</td>\n",
       "      <td>...</td>\n",
       "      <td>31.160000</td>\n",
       "      <td>133.199997</td>\n",
       "      <td>73.447502</td>\n",
       "      <td>157.080002</td>\n",
       "      <td>31.230000</td>\n",
       "      <td>133.419998</td>\n",
       "      <td>118387200.0</td>\n",
       "      <td>20813700.0</td>\n",
       "      <td>12582500.0</td>\n",
       "      <td>2425500.0</td>\n",
       "    </tr>\n",
       "    <tr>\n",
       "      <th>2020-01-07</th>\n",
       "      <td>73.848442</td>\n",
       "      <td>155.569855</td>\n",
       "      <td>32.540001</td>\n",
       "      <td>125.821907</td>\n",
       "      <td>74.597504</td>\n",
       "      <td>157.580002</td>\n",
       "      <td>32.540001</td>\n",
       "      <td>134.190002</td>\n",
       "      <td>75.224998</td>\n",
       "      <td>159.669998</td>\n",
       "      <td>...</td>\n",
       "      <td>31.719999</td>\n",
       "      <td>133.399994</td>\n",
       "      <td>74.959999</td>\n",
       "      <td>159.320007</td>\n",
       "      <td>31.799999</td>\n",
       "      <td>133.690002</td>\n",
       "      <td>108872000.0</td>\n",
       "      <td>21634100.0</td>\n",
       "      <td>13712900.0</td>\n",
       "      <td>3090800.0</td>\n",
       "    </tr>\n",
       "    <tr>\n",
       "      <th>2020-01-08</th>\n",
       "      <td>75.036385</td>\n",
       "      <td>158.047836</td>\n",
       "      <td>33.049999</td>\n",
       "      <td>126.872055</td>\n",
       "      <td>75.797501</td>\n",
       "      <td>160.089996</td>\n",
       "      <td>33.049999</td>\n",
       "      <td>135.309998</td>\n",
       "      <td>76.110001</td>\n",
       "      <td>160.800003</td>\n",
       "      <td>...</td>\n",
       "      <td>32.349998</td>\n",
       "      <td>133.919998</td>\n",
       "      <td>74.290001</td>\n",
       "      <td>158.929993</td>\n",
       "      <td>32.349998</td>\n",
       "      <td>134.509995</td>\n",
       "      <td>132079200.0</td>\n",
       "      <td>27746500.0</td>\n",
       "      <td>14632400.0</td>\n",
       "      <td>4346000.0</td>\n",
       "    </tr>\n",
       "  </tbody>\n",
       "</table>\n",
       "<p>5 rows × 24 columns</p>\n",
       "</div>"
      ],
      "text/plain": [
       "Attributes  Adj Close                                         Close  \\\n",
       "Symbols          AAPL        MSFT       TWTR         IBM       AAPL   \n",
       "Date                                                                  \n",
       "2020-01-02  74.333511  158.571075  32.299999  126.975204  75.087502   \n",
       "2020-01-03  73.610840  156.596588  31.520000  125.962540  74.357498   \n",
       "2020-01-06  74.197395  157.001373  31.639999  125.737526  74.949997   \n",
       "2020-01-07  73.848442  155.569855  32.540001  125.821907  74.597504   \n",
       "2020-01-08  75.036385  158.047836  33.049999  126.872055  75.797501   \n",
       "\n",
       "Attributes                                          High              ...  \\\n",
       "Symbols           MSFT       TWTR         IBM       AAPL        MSFT  ...   \n",
       "Date                                                                  ...   \n",
       "2020-01-02  160.619995  32.299999  135.419998  75.150002  160.729996  ...   \n",
       "2020-01-03  158.619995  31.520000  134.339996  75.144997  159.949997  ...   \n",
       "2020-01-06  159.029999  31.639999  134.100006  74.989998  159.100006  ...   \n",
       "2020-01-07  157.580002  32.540001  134.190002  75.224998  159.669998  ...   \n",
       "2020-01-08  160.089996  33.049999  135.309998  76.110001  160.800003  ...   \n",
       "\n",
       "Attributes        Low                   Open                         \\\n",
       "Symbols          TWTR         IBM       AAPL        MSFT       TWTR   \n",
       "Date                                                                  \n",
       "2020-01-02  31.959999  134.770004  74.059998  158.779999  32.310001   \n",
       "2020-01-03  31.260000  133.559998  74.287498  158.320007  31.709999   \n",
       "2020-01-06  31.160000  133.199997  73.447502  157.080002  31.230000   \n",
       "2020-01-07  31.719999  133.399994  74.959999  159.320007  31.799999   \n",
       "2020-01-08  32.349998  133.919998  74.290001  158.929993  32.349998   \n",
       "\n",
       "Attributes                   Volume                                     \n",
       "Symbols            IBM         AAPL        MSFT        TWTR        IBM  \n",
       "Date                                                                    \n",
       "2020-01-02  135.000000  135480400.0  22622100.0  10721100.0  3148600.0  \n",
       "2020-01-03  133.570007  146322800.0  21116200.0  14429500.0  2373700.0  \n",
       "2020-01-06  133.419998  118387200.0  20813700.0  12582500.0  2425500.0  \n",
       "2020-01-07  133.690002  108872000.0  21634100.0  13712900.0  3090800.0  \n",
       "2020-01-08  134.509995  132079200.0  27746500.0  14632400.0  4346000.0  \n",
       "\n",
       "[5 rows x 24 columns]"
      ]
     },
     "execution_count": 38,
     "metadata": {},
     "output_type": "execute_result"
    }
   ],
   "source": [
    "data.head()"
   ]
  },
  {
   "cell_type": "code",
   "execution_count": 39,
   "metadata": {},
   "outputs": [],
   "source": [
    "data = data['Adj Close']"
   ]
  },
  {
   "cell_type": "code",
   "execution_count": 40,
   "metadata": {},
   "outputs": [
    {
     "data": {
      "text/html": [
       "<div>\n",
       "<style scoped>\n",
       "    .dataframe tbody tr th:only-of-type {\n",
       "        vertical-align: middle;\n",
       "    }\n",
       "\n",
       "    .dataframe tbody tr th {\n",
       "        vertical-align: top;\n",
       "    }\n",
       "\n",
       "    .dataframe thead th {\n",
       "        text-align: right;\n",
       "    }\n",
       "</style>\n",
       "<table border=\"1\" class=\"dataframe\">\n",
       "  <thead>\n",
       "    <tr style=\"text-align: right;\">\n",
       "      <th>Symbols</th>\n",
       "      <th>AAPL</th>\n",
       "      <th>MSFT</th>\n",
       "      <th>TWTR</th>\n",
       "      <th>IBM</th>\n",
       "    </tr>\n",
       "    <tr>\n",
       "      <th>Date</th>\n",
       "      <th></th>\n",
       "      <th></th>\n",
       "      <th></th>\n",
       "      <th></th>\n",
       "    </tr>\n",
       "  </thead>\n",
       "  <tbody>\n",
       "    <tr>\n",
       "      <th>2020-01-02</th>\n",
       "      <td>74.333511</td>\n",
       "      <td>158.571075</td>\n",
       "      <td>32.299999</td>\n",
       "      <td>126.975204</td>\n",
       "    </tr>\n",
       "    <tr>\n",
       "      <th>2020-01-03</th>\n",
       "      <td>73.610840</td>\n",
       "      <td>156.596588</td>\n",
       "      <td>31.520000</td>\n",
       "      <td>125.962540</td>\n",
       "    </tr>\n",
       "    <tr>\n",
       "      <th>2020-01-06</th>\n",
       "      <td>74.197395</td>\n",
       "      <td>157.001373</td>\n",
       "      <td>31.639999</td>\n",
       "      <td>125.737526</td>\n",
       "    </tr>\n",
       "    <tr>\n",
       "      <th>2020-01-07</th>\n",
       "      <td>73.848442</td>\n",
       "      <td>155.569855</td>\n",
       "      <td>32.540001</td>\n",
       "      <td>125.821907</td>\n",
       "    </tr>\n",
       "    <tr>\n",
       "      <th>2020-01-08</th>\n",
       "      <td>75.036385</td>\n",
       "      <td>158.047836</td>\n",
       "      <td>33.049999</td>\n",
       "      <td>126.872055</td>\n",
       "    </tr>\n",
       "  </tbody>\n",
       "</table>\n",
       "</div>"
      ],
      "text/plain": [
       "Symbols          AAPL        MSFT       TWTR         IBM\n",
       "Date                                                    \n",
       "2020-01-02  74.333511  158.571075  32.299999  126.975204\n",
       "2020-01-03  73.610840  156.596588  31.520000  125.962540\n",
       "2020-01-06  74.197395  157.001373  31.639999  125.737526\n",
       "2020-01-07  73.848442  155.569855  32.540001  125.821907\n",
       "2020-01-08  75.036385  158.047836  33.049999  126.872055"
      ]
     },
     "execution_count": 40,
     "metadata": {},
     "output_type": "execute_result"
    }
   ],
   "source": [
    "data.head()"
   ]
  },
  {
   "cell_type": "code",
   "execution_count": 41,
   "metadata": {},
   "outputs": [],
   "source": [
    "portfolios = [.25, .15, .40, .20]"
   ]
  },
  {
   "cell_type": "code",
   "execution_count": 42,
   "metadata": {},
   "outputs": [
    {
     "data": {
      "text/plain": [
       "1.0"
      ]
     },
     "execution_count": 42,
     "metadata": {},
     "output_type": "execute_result"
    }
   ],
   "source": [
    "np.sum(portfolios)"
   ]
  },
  {
   "cell_type": "code",
   "execution_count": 63,
   "metadata": {},
   "outputs": [
    {
     "data": {
      "text/html": [
       "<div>\n",
       "<style scoped>\n",
       "    .dataframe tbody tr th:only-of-type {\n",
       "        vertical-align: middle;\n",
       "    }\n",
       "\n",
       "    .dataframe tbody tr th {\n",
       "        vertical-align: top;\n",
       "    }\n",
       "\n",
       "    .dataframe thead th {\n",
       "        text-align: right;\n",
       "    }\n",
       "</style>\n",
       "<table border=\"1\" class=\"dataframe\">\n",
       "  <thead>\n",
       "    <tr style=\"text-align: right;\">\n",
       "      <th>Symbols</th>\n",
       "      <th>AAPL</th>\n",
       "      <th>MSFT</th>\n",
       "      <th>TWTR</th>\n",
       "      <th>IBM</th>\n",
       "    </tr>\n",
       "    <tr>\n",
       "      <th>Date</th>\n",
       "      <th></th>\n",
       "      <th></th>\n",
       "      <th></th>\n",
       "      <th></th>\n",
       "    </tr>\n",
       "  </thead>\n",
       "  <tbody>\n",
       "    <tr>\n",
       "      <th>2020-01-02</th>\n",
       "      <td>25000.000000</td>\n",
       "      <td>15000.000000</td>\n",
       "      <td>40000.000000</td>\n",
       "      <td>20000.000000</td>\n",
       "    </tr>\n",
       "    <tr>\n",
       "      <th>2020-01-03</th>\n",
       "      <td>24756.949626</td>\n",
       "      <td>14813.223758</td>\n",
       "      <td>39034.057216</td>\n",
       "      <td>19840.494087</td>\n",
       "    </tr>\n",
       "    <tr>\n",
       "      <th>2020-01-06</th>\n",
       "      <td>24954.221177</td>\n",
       "      <td>14851.514331</td>\n",
       "      <td>39182.662708</td>\n",
       "      <td>19805.051934</td>\n",
       "    </tr>\n",
       "    <tr>\n",
       "      <th>2020-01-07</th>\n",
       "      <td>24836.860500</td>\n",
       "      <td>14716.100112</td>\n",
       "      <td>40297.215708</td>\n",
       "      <td>19818.342892</td>\n",
       "    </tr>\n",
       "    <tr>\n",
       "      <th>2020-01-08</th>\n",
       "      <td>25236.391776</td>\n",
       "      <td>14950.504296</td>\n",
       "      <td>40928.792592</td>\n",
       "      <td>19983.752826</td>\n",
       "    </tr>\n",
       "    <tr>\n",
       "      <th>...</th>\n",
       "      <td>...</td>\n",
       "      <td>...</td>\n",
       "      <td>...</td>\n",
       "      <td>...</td>\n",
       "    </tr>\n",
       "    <tr>\n",
       "      <th>2021-02-18</th>\n",
       "      <td>43624.337245</td>\n",
       "      <td>23061.266938</td>\n",
       "      <td>89486.072871</td>\n",
       "      <td>19016.311706</td>\n",
       "    </tr>\n",
       "    <tr>\n",
       "      <th>2021-02-19</th>\n",
       "      <td>43678.144875</td>\n",
       "      <td>22794.510337</td>\n",
       "      <td>89510.836516</td>\n",
       "      <td>18742.241584</td>\n",
       "    </tr>\n",
       "    <tr>\n",
       "      <th>2021-02-22</th>\n",
       "      <td>42376.580128</td>\n",
       "      <td>22183.427260</td>\n",
       "      <td>87294.117063</td>\n",
       "      <td>19036.787713</td>\n",
       "    </tr>\n",
       "    <tr>\n",
       "      <th>2021-02-23</th>\n",
       "      <td>42329.495244</td>\n",
       "      <td>22066.130626</td>\n",
       "      <td>90613.002969</td>\n",
       "      <td>19013.160812</td>\n",
       "    </tr>\n",
       "    <tr>\n",
       "      <th>2021-02-24</th>\n",
       "      <td>42157.970273</td>\n",
       "      <td>22187.211861</td>\n",
       "      <td>89065.015316</td>\n",
       "      <td>19406.938481</td>\n",
       "    </tr>\n",
       "  </tbody>\n",
       "</table>\n",
       "<p>289 rows × 4 columns</p>\n",
       "</div>"
      ],
      "text/plain": [
       "Symbols             AAPL          MSFT          TWTR           IBM\n",
       "Date                                                              \n",
       "2020-01-02  25000.000000  15000.000000  40000.000000  20000.000000\n",
       "2020-01-03  24756.949626  14813.223758  39034.057216  19840.494087\n",
       "2020-01-06  24954.221177  14851.514331  39182.662708  19805.051934\n",
       "2020-01-07  24836.860500  14716.100112  40297.215708  19818.342892\n",
       "2020-01-08  25236.391776  14950.504296  40928.792592  19983.752826\n",
       "...                  ...           ...           ...           ...\n",
       "2021-02-18  43624.337245  23061.266938  89486.072871  19016.311706\n",
       "2021-02-19  43678.144875  22794.510337  89510.836516  18742.241584\n",
       "2021-02-22  42376.580128  22183.427260  87294.117063  19036.787713\n",
       "2021-02-23  42329.495244  22066.130626  90613.002969  19013.160812\n",
       "2021-02-24  42157.970273  22187.211861  89065.015316  19406.938481\n",
       "\n",
       "[289 rows x 4 columns]"
      ]
     },
     "execution_count": 63,
     "metadata": {},
     "output_type": "execute_result"
    }
   ],
   "source": [
    "(data/data.iloc[0])*portfolios*100000"
   ]
  },
  {
   "cell_type": "code",
   "execution_count": 60,
   "metadata": {},
   "outputs": [
    {
     "data": {
      "text/plain": [
       "array([0.33126896, 0.30945036, 0.34068727, 0.01859341])"
      ]
     },
     "execution_count": 60,
     "metadata": {},
     "output_type": "execute_result"
    }
   ],
   "source": [
    "weight = np.random.random(4)\n",
    "weight /= weight.sum()\n",
    "weight"
   ]
  },
  {
   "cell_type": "code",
   "execution_count": 61,
   "metadata": {},
   "outputs": [
    {
     "data": {
      "text/plain": [
       "1.0"
      ]
     },
     "execution_count": 61,
     "metadata": {},
     "output_type": "execute_result"
    }
   ],
   "source": [
    "weight.sum()"
   ]
  },
  {
   "cell_type": "code",
   "execution_count": 64,
   "metadata": {},
   "outputs": [
    {
     "data": {
      "text/plain": [
       "Date\n",
       "2020-01-02    100000.000000\n",
       "2020-01-03     98444.724688\n",
       "2020-01-06     98793.450150\n",
       "2020-01-07     99668.519212\n",
       "2020-01-08    101099.441489\n",
       "                  ...      \n",
       "2021-02-18    175187.988760\n",
       "2021-02-19    174725.733312\n",
       "2021-02-22    170890.912164\n",
       "2021-02-23    174021.789650\n",
       "2021-02-24    172817.135930\n",
       "Length: 289, dtype: float64"
      ]
     },
     "execution_count": 64,
     "metadata": {},
     "output_type": "execute_result"
    }
   ],
   "source": [
    "np.sum((data/data.iloc[0])*portfolios*100000, axis=1)"
   ]
  },
  {
   "cell_type": "code",
   "execution_count": 65,
   "metadata": {},
   "outputs": [
    {
     "data": {
      "text/plain": [
       "Date\n",
       "2020-01-02    100000.000000\n",
       "2020-01-03     98455.080169\n",
       "2020-01-06     98918.748524\n",
       "2020-01-07     99434.397537\n",
       "2020-01-08    101000.686355\n",
       "                  ...      \n",
       "2021-02-18    183365.809341\n",
       "2021-02-19    182882.401184\n",
       "2021-02-22    178036.426173\n",
       "2021-02-23    180556.610812\n",
       "2021-02-24    179297.277227\n",
       "Length: 289, dtype: float64"
      ]
     },
     "execution_count": 65,
     "metadata": {},
     "output_type": "execute_result"
    }
   ],
   "source": [
    "np.sum((data/data.iloc[0])*weight*100000, axis=1)"
   ]
  },
  {
   "cell_type": "code",
   "execution_count": null,
   "metadata": {},
   "outputs": [],
   "source": []
  }
 ],
 "metadata": {
  "kernelspec": {
   "display_name": "Python 3",
   "language": "python",
   "name": "python3"
  },
  "language_info": {
   "codemirror_mode": {
    "name": "ipython",
    "version": 3
   },
   "file_extension": ".py",
   "mimetype": "text/x-python",
   "name": "python",
   "nbconvert_exporter": "python",
   "pygments_lexer": "ipython3",
   "version": "3.8.5"
  }
 },
 "nbformat": 4,
 "nbformat_minor": 4
}
